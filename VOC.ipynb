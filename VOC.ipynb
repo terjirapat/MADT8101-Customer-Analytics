{
  "nbformat": 4,
  "nbformat_minor": 0,
  "metadata": {
    "colab": {
      "provenance": [],
      "authorship_tag": "ABX9TyOxXVug2uZ0yLtnSPgM9tna",
      "include_colab_link": true
    },
    "kernelspec": {
      "name": "python3",
      "display_name": "Python 3"
    },
    "language_info": {
      "name": "python"
    }
  },
  "cells": [
    {
      "cell_type": "markdown",
      "metadata": {
        "id": "view-in-github",
        "colab_type": "text"
      },
      "source": [
        "<a href=\"https://colab.research.google.com/github/terjirapat/MADT8101-Customer-Analytics/blob/main/VOC.ipynb\" target=\"_parent\"><img src=\"https://colab.research.google.com/assets/colab-badge.svg\" alt=\"Open In Colab\"/></a>"
      ]
    },
    {
      "cell_type": "code",
      "execution_count": 1,
      "metadata": {
        "colab": {
          "base_uri": "https://localhost:8080/",
          "height": 1000
        },
        "id": "SB-U68JIAtYD",
        "outputId": "f596cada-3837-48ed-d969-2c3cd48ba725"
      },
      "outputs": [
        {
          "output_type": "stream",
          "name": "stdout",
          "text": [
            "Requirement already satisfied: pythainlp in /usr/local/lib/python3.10/dist-packages (4.0.2)\n",
            "Requirement already satisfied: requests>=2.22.0 in /usr/local/lib/python3.10/dist-packages (from pythainlp) (2.31.0)\n",
            "Requirement already satisfied: charset-normalizer<4,>=2 in /usr/local/lib/python3.10/dist-packages (from requests>=2.22.0->pythainlp) (3.2.0)\n",
            "Requirement already satisfied: idna<4,>=2.5 in /usr/local/lib/python3.10/dist-packages (from requests>=2.22.0->pythainlp) (3.4)\n",
            "Requirement already satisfied: urllib3<3,>=1.21.1 in /usr/local/lib/python3.10/dist-packages (from requests>=2.22.0->pythainlp) (2.0.4)\n",
            "Requirement already satisfied: certifi>=2017.4.17 in /usr/local/lib/python3.10/dist-packages (from requests>=2.22.0->pythainlp) (2023.7.22)\n",
            "Requirement already satisfied: tensorflow_text in /usr/local/lib/python3.10/dist-packages (2.13.0)\n",
            "Requirement already satisfied: tensorflow-hub>=0.8.0 in /usr/local/lib/python3.10/dist-packages (from tensorflow_text) (0.14.0)\n",
            "Requirement already satisfied: tensorflow<2.14,>=2.13.0 in /usr/local/lib/python3.10/dist-packages (from tensorflow_text) (2.13.0)\n",
            "Requirement already satisfied: absl-py>=1.0.0 in /usr/local/lib/python3.10/dist-packages (from tensorflow<2.14,>=2.13.0->tensorflow_text) (1.4.0)\n",
            "Requirement already satisfied: astunparse>=1.6.0 in /usr/local/lib/python3.10/dist-packages (from tensorflow<2.14,>=2.13.0->tensorflow_text) (1.6.3)\n",
            "Requirement already satisfied: flatbuffers>=23.1.21 in /usr/local/lib/python3.10/dist-packages (from tensorflow<2.14,>=2.13.0->tensorflow_text) (23.5.26)\n",
            "Requirement already satisfied: gast<=0.4.0,>=0.2.1 in /usr/local/lib/python3.10/dist-packages (from tensorflow<2.14,>=2.13.0->tensorflow_text) (0.4.0)\n",
            "Requirement already satisfied: google-pasta>=0.1.1 in /usr/local/lib/python3.10/dist-packages (from tensorflow<2.14,>=2.13.0->tensorflow_text) (0.2.0)\n",
            "Requirement already satisfied: grpcio<2.0,>=1.24.3 in /usr/local/lib/python3.10/dist-packages (from tensorflow<2.14,>=2.13.0->tensorflow_text) (1.56.2)\n",
            "Requirement already satisfied: h5py>=2.9.0 in /usr/local/lib/python3.10/dist-packages (from tensorflow<2.14,>=2.13.0->tensorflow_text) (3.9.0)\n",
            "Requirement already satisfied: keras<2.14,>=2.13.1 in /usr/local/lib/python3.10/dist-packages (from tensorflow<2.14,>=2.13.0->tensorflow_text) (2.13.1)\n",
            "Requirement already satisfied: libclang>=13.0.0 in /usr/local/lib/python3.10/dist-packages (from tensorflow<2.14,>=2.13.0->tensorflow_text) (16.0.6)\n",
            "Collecting numpy<=1.24.3,>=1.22 (from tensorflow<2.14,>=2.13.0->tensorflow_text)\n",
            "  Using cached numpy-1.24.3-cp310-cp310-manylinux_2_17_x86_64.manylinux2014_x86_64.whl (17.3 MB)\n",
            "Requirement already satisfied: opt-einsum>=2.3.2 in /usr/local/lib/python3.10/dist-packages (from tensorflow<2.14,>=2.13.0->tensorflow_text) (3.3.0)\n",
            "Requirement already satisfied: packaging in /usr/local/lib/python3.10/dist-packages (from tensorflow<2.14,>=2.13.0->tensorflow_text) (23.1)\n",
            "Requirement already satisfied: protobuf!=4.21.0,!=4.21.1,!=4.21.2,!=4.21.3,!=4.21.4,!=4.21.5,<5.0.0dev,>=3.20.3 in /usr/local/lib/python3.10/dist-packages (from tensorflow<2.14,>=2.13.0->tensorflow_text) (3.20.3)\n",
            "Requirement already satisfied: setuptools in /usr/local/lib/python3.10/dist-packages (from tensorflow<2.14,>=2.13.0->tensorflow_text) (67.7.2)\n",
            "Requirement already satisfied: six>=1.12.0 in /usr/local/lib/python3.10/dist-packages (from tensorflow<2.14,>=2.13.0->tensorflow_text) (1.16.0)\n",
            "Requirement already satisfied: tensorboard<2.14,>=2.13 in /usr/local/lib/python3.10/dist-packages (from tensorflow<2.14,>=2.13.0->tensorflow_text) (2.13.0)\n",
            "Requirement already satisfied: tensorflow-estimator<2.14,>=2.13.0 in /usr/local/lib/python3.10/dist-packages (from tensorflow<2.14,>=2.13.0->tensorflow_text) (2.13.0)\n",
            "Requirement already satisfied: termcolor>=1.1.0 in /usr/local/lib/python3.10/dist-packages (from tensorflow<2.14,>=2.13.0->tensorflow_text) (2.3.0)\n",
            "Requirement already satisfied: typing-extensions<4.6.0,>=3.6.6 in /usr/local/lib/python3.10/dist-packages (from tensorflow<2.14,>=2.13.0->tensorflow_text) (4.5.0)\n",
            "Requirement already satisfied: wrapt>=1.11.0 in /usr/local/lib/python3.10/dist-packages (from tensorflow<2.14,>=2.13.0->tensorflow_text) (1.14.1)\n",
            "Requirement already satisfied: tensorflow-io-gcs-filesystem>=0.23.1 in /usr/local/lib/python3.10/dist-packages (from tensorflow<2.14,>=2.13.0->tensorflow_text) (0.33.0)\n",
            "Requirement already satisfied: wheel<1.0,>=0.23.0 in /usr/local/lib/python3.10/dist-packages (from astunparse>=1.6.0->tensorflow<2.14,>=2.13.0->tensorflow_text) (0.41.1)\n",
            "Requirement already satisfied: google-auth<3,>=1.6.3 in /usr/local/lib/python3.10/dist-packages (from tensorboard<2.14,>=2.13->tensorflow<2.14,>=2.13.0->tensorflow_text) (2.17.3)\n",
            "Requirement already satisfied: google-auth-oauthlib<1.1,>=0.5 in /usr/local/lib/python3.10/dist-packages (from tensorboard<2.14,>=2.13->tensorflow<2.14,>=2.13.0->tensorflow_text) (1.0.0)\n",
            "Requirement already satisfied: markdown>=2.6.8 in /usr/local/lib/python3.10/dist-packages (from tensorboard<2.14,>=2.13->tensorflow<2.14,>=2.13.0->tensorflow_text) (3.4.4)\n",
            "Requirement already satisfied: requests<3,>=2.21.0 in /usr/local/lib/python3.10/dist-packages (from tensorboard<2.14,>=2.13->tensorflow<2.14,>=2.13.0->tensorflow_text) (2.31.0)\n",
            "Requirement already satisfied: tensorboard-data-server<0.8.0,>=0.7.0 in /usr/local/lib/python3.10/dist-packages (from tensorboard<2.14,>=2.13->tensorflow<2.14,>=2.13.0->tensorflow_text) (0.7.1)\n",
            "Requirement already satisfied: werkzeug>=1.0.1 in /usr/local/lib/python3.10/dist-packages (from tensorboard<2.14,>=2.13->tensorflow<2.14,>=2.13.0->tensorflow_text) (2.3.6)\n",
            "Requirement already satisfied: cachetools<6.0,>=2.0.0 in /usr/local/lib/python3.10/dist-packages (from google-auth<3,>=1.6.3->tensorboard<2.14,>=2.13->tensorflow<2.14,>=2.13.0->tensorflow_text) (5.3.1)\n",
            "Requirement already satisfied: pyasn1-modules>=0.2.1 in /usr/local/lib/python3.10/dist-packages (from google-auth<3,>=1.6.3->tensorboard<2.14,>=2.13->tensorflow<2.14,>=2.13.0->tensorflow_text) (0.3.0)\n",
            "Requirement already satisfied: rsa<5,>=3.1.4 in /usr/local/lib/python3.10/dist-packages (from google-auth<3,>=1.6.3->tensorboard<2.14,>=2.13->tensorflow<2.14,>=2.13.0->tensorflow_text) (4.9)\n",
            "Requirement already satisfied: requests-oauthlib>=0.7.0 in /usr/local/lib/python3.10/dist-packages (from google-auth-oauthlib<1.1,>=0.5->tensorboard<2.14,>=2.13->tensorflow<2.14,>=2.13.0->tensorflow_text) (1.3.1)\n",
            "Requirement already satisfied: charset-normalizer<4,>=2 in /usr/local/lib/python3.10/dist-packages (from requests<3,>=2.21.0->tensorboard<2.14,>=2.13->tensorflow<2.14,>=2.13.0->tensorflow_text) (3.2.0)\n",
            "Requirement already satisfied: idna<4,>=2.5 in /usr/local/lib/python3.10/dist-packages (from requests<3,>=2.21.0->tensorboard<2.14,>=2.13->tensorflow<2.14,>=2.13.0->tensorflow_text) (3.4)\n",
            "Requirement already satisfied: urllib3<3,>=1.21.1 in /usr/local/lib/python3.10/dist-packages (from requests<3,>=2.21.0->tensorboard<2.14,>=2.13->tensorflow<2.14,>=2.13.0->tensorflow_text) (2.0.4)\n",
            "Requirement already satisfied: certifi>=2017.4.17 in /usr/local/lib/python3.10/dist-packages (from requests<3,>=2.21.0->tensorboard<2.14,>=2.13->tensorflow<2.14,>=2.13.0->tensorflow_text) (2023.7.22)\n",
            "Requirement already satisfied: MarkupSafe>=2.1.1 in /usr/local/lib/python3.10/dist-packages (from werkzeug>=1.0.1->tensorboard<2.14,>=2.13->tensorflow<2.14,>=2.13.0->tensorflow_text) (2.1.3)\n",
            "Requirement already satisfied: pyasn1<0.6.0,>=0.4.6 in /usr/local/lib/python3.10/dist-packages (from pyasn1-modules>=0.2.1->google-auth<3,>=1.6.3->tensorboard<2.14,>=2.13->tensorflow<2.14,>=2.13.0->tensorflow_text) (0.5.0)\n",
            "Requirement already satisfied: oauthlib>=3.0.0 in /usr/local/lib/python3.10/dist-packages (from requests-oauthlib>=0.7.0->google-auth-oauthlib<1.1,>=0.5->tensorboard<2.14,>=2.13->tensorflow<2.14,>=2.13.0->tensorflow_text) (3.2.2)\n",
            "Installing collected packages: numpy\n",
            "  Attempting uninstall: numpy\n",
            "    Found existing installation: numpy 1.25.2\n",
            "    Uninstalling numpy-1.25.2:\n",
            "      Successfully uninstalled numpy-1.25.2\n",
            "\u001b[31mERROR: pip's dependency resolver does not currently take into account all the packages that are installed. This behaviour is the source of the following dependency conflicts.\n",
            "numba 0.56.4 requires numpy<1.24,>=1.18, but you have numpy 1.24.3 which is incompatible.\u001b[0m\u001b[31m\n",
            "\u001b[0mSuccessfully installed numpy-1.24.3\n"
          ]
        },
        {
          "output_type": "display_data",
          "data": {
            "application/vnd.colab-display-data+json": {
              "pip_warning": {
                "packages": [
                  "numpy"
                ]
              }
            }
          },
          "metadata": {}
        },
        {
          "output_type": "stream",
          "name": "stdout",
          "text": [
            "Requirement already satisfied: umap-learn in /usr/local/lib/python3.10/dist-packages (0.5.3)\n",
            "Requirement already satisfied: numpy>=1.17 in /usr/local/lib/python3.10/dist-packages (from umap-learn) (1.24.3)\n",
            "Requirement already satisfied: scikit-learn>=0.22 in /usr/local/lib/python3.10/dist-packages (from umap-learn) (1.2.2)\n",
            "Requirement already satisfied: scipy>=1.0 in /usr/local/lib/python3.10/dist-packages (from umap-learn) (1.10.1)\n",
            "Requirement already satisfied: numba>=0.49 in /usr/local/lib/python3.10/dist-packages (from umap-learn) (0.56.4)\n",
            "Requirement already satisfied: pynndescent>=0.5 in /usr/local/lib/python3.10/dist-packages (from umap-learn) (0.5.10)\n",
            "Requirement already satisfied: tqdm in /usr/local/lib/python3.10/dist-packages (from umap-learn) (4.66.0)\n",
            "Requirement already satisfied: llvmlite<0.40,>=0.39.0dev0 in /usr/local/lib/python3.10/dist-packages (from numba>=0.49->umap-learn) (0.39.1)\n",
            "Collecting numpy>=1.17 (from umap-learn)\n",
            "  Using cached numpy-1.23.5-cp310-cp310-manylinux_2_17_x86_64.manylinux2014_x86_64.whl (17.1 MB)\n",
            "Requirement already satisfied: setuptools in /usr/local/lib/python3.10/dist-packages (from numba>=0.49->umap-learn) (67.7.2)\n",
            "Requirement already satisfied: joblib>=0.11 in /usr/local/lib/python3.10/dist-packages (from pynndescent>=0.5->umap-learn) (1.3.2)\n",
            "Requirement already satisfied: threadpoolctl>=2.0.0 in /usr/local/lib/python3.10/dist-packages (from scikit-learn>=0.22->umap-learn) (3.2.0)\n",
            "Installing collected packages: numpy\n",
            "  Attempting uninstall: numpy\n",
            "    Found existing installation: numpy 1.24.3\n",
            "    Uninstalling numpy-1.24.3:\n",
            "      Successfully uninstalled numpy-1.24.3\n",
            "\u001b[31mERROR: pip's dependency resolver does not currently take into account all the packages that are installed. This behaviour is the source of the following dependency conflicts.\n",
            "pyldavis 3.4.1 requires numpy>=1.24.2, but you have numpy 1.23.5 which is incompatible.\u001b[0m\u001b[31m\n",
            "\u001b[0mSuccessfully installed numpy-1.23.5\n"
          ]
        },
        {
          "output_type": "display_data",
          "data": {
            "application/vnd.colab-display-data+json": {
              "pip_warning": {
                "packages": [
                  "numpy"
                ]
              }
            }
          },
          "metadata": {}
        },
        {
          "output_type": "stream",
          "name": "stdout",
          "text": [
            "Requirement already satisfied: pyLDAvis in /usr/local/lib/python3.10/dist-packages (3.4.1)\n",
            "Collecting numpy>=1.24.2 (from pyLDAvis)\n",
            "  Using cached numpy-1.25.2-cp310-cp310-manylinux_2_17_x86_64.manylinux2014_x86_64.whl (18.2 MB)\n",
            "Requirement already satisfied: scipy in /usr/local/lib/python3.10/dist-packages (from pyLDAvis) (1.10.1)\n",
            "Requirement already satisfied: pandas>=2.0.0 in /usr/local/lib/python3.10/dist-packages (from pyLDAvis) (2.0.3)\n",
            "Requirement already satisfied: joblib>=1.2.0 in /usr/local/lib/python3.10/dist-packages (from pyLDAvis) (1.3.2)\n",
            "Requirement already satisfied: jinja2 in /usr/local/lib/python3.10/dist-packages (from pyLDAvis) (3.1.2)\n",
            "Requirement already satisfied: numexpr in /usr/local/lib/python3.10/dist-packages (from pyLDAvis) (2.8.5)\n",
            "Requirement already satisfied: funcy in /usr/local/lib/python3.10/dist-packages (from pyLDAvis) (2.0)\n",
            "Requirement already satisfied: scikit-learn>=1.0.0 in /usr/local/lib/python3.10/dist-packages (from pyLDAvis) (1.2.2)\n",
            "Requirement already satisfied: gensim in /usr/local/lib/python3.10/dist-packages (from pyLDAvis) (4.3.1)\n",
            "Requirement already satisfied: setuptools in /usr/local/lib/python3.10/dist-packages (from pyLDAvis) (67.7.2)\n",
            "Requirement already satisfied: python-dateutil>=2.8.2 in /usr/local/lib/python3.10/dist-packages (from pandas>=2.0.0->pyLDAvis) (2.8.2)\n",
            "Requirement already satisfied: pytz>=2020.1 in /usr/local/lib/python3.10/dist-packages (from pandas>=2.0.0->pyLDAvis) (2023.3)\n",
            "Requirement already satisfied: tzdata>=2022.1 in /usr/local/lib/python3.10/dist-packages (from pandas>=2.0.0->pyLDAvis) (2023.3)\n",
            "Requirement already satisfied: threadpoolctl>=2.0.0 in /usr/local/lib/python3.10/dist-packages (from scikit-learn>=1.0.0->pyLDAvis) (3.2.0)\n",
            "Requirement already satisfied: smart-open>=1.8.1 in /usr/local/lib/python3.10/dist-packages (from gensim->pyLDAvis) (6.3.0)\n",
            "Requirement already satisfied: MarkupSafe>=2.0 in /usr/local/lib/python3.10/dist-packages (from jinja2->pyLDAvis) (2.1.3)\n",
            "Requirement already satisfied: six>=1.5 in /usr/local/lib/python3.10/dist-packages (from python-dateutil>=2.8.2->pandas>=2.0.0->pyLDAvis) (1.16.0)\n",
            "Installing collected packages: numpy\n",
            "  Attempting uninstall: numpy\n",
            "    Found existing installation: numpy 1.23.5\n",
            "    Uninstalling numpy-1.23.5:\n",
            "      Successfully uninstalled numpy-1.23.5\n",
            "\u001b[31mERROR: pip's dependency resolver does not currently take into account all the packages that are installed. This behaviour is the source of the following dependency conflicts.\n",
            "numba 0.56.4 requires numpy<1.24,>=1.18, but you have numpy 1.25.2 which is incompatible.\n",
            "tensorflow 2.13.0 requires numpy<=1.24.3,>=1.22, but you have numpy 1.25.2 which is incompatible.\u001b[0m\u001b[31m\n",
            "\u001b[0mSuccessfully installed numpy-1.25.2\n"
          ]
        },
        {
          "output_type": "display_data",
          "data": {
            "application/vnd.colab-display-data+json": {
              "pip_warning": {
                "packages": [
                  "numpy"
                ]
              }
            }
          },
          "metadata": {}
        }
      ],
      "source": [
        "!pip install pythainlp\n",
        "!pip install tensorflow_text\n",
        "!pip install umap-learn\n",
        "!pip install pyLDAvis\n",
        "!pip install umap"
      ]
    },
    {
      "cell_type": "markdown",
      "source": [
        "# Topic Modeling with LDA"
      ],
      "metadata": {
        "id": "eaAudhGklKTX"
      }
    },
    {
      "cell_type": "markdown",
      "source": [
        "## Importing libraries and data"
      ],
      "metadata": {
        "id": "dpHzJl92knoQ"
      }
    },
    {
      "cell_type": "code",
      "source": [
        "import pythainlp\n",
        "import gensim\n",
        "import pyLDAvis.gensim\n",
        "pyLDAvis.enable_notebook()\n",
        "\n",
        "import numpy as np\n",
        "import pandas as pd\n",
        "import re\n",
        "import tensorflow as tf\n",
        "import tensorflow_hub as hub\n",
        "import tensorflow_text\n",
        "import umap\n",
        "from sklearn.cluster import KMeans\n",
        "import matplotlib.pyplot as plt\n",
        "from sklearn.cluster import AgglomerativeClustering\n",
        "from sklearn.neighbors import kneighbors_graph\n",
        "from pythainlp.corpus.common import thai_words\n",
        "from pythainlp.util import Trie\n",
        "import collections\n",
        "\n",
        "import warnings\n",
        "warnings.filterwarnings(\"ignore\", category=UserWarning)"
      ],
      "metadata": {
        "colab": {
          "base_uri": "https://localhost:8080/"
        },
        "id": "GJSiLjZjeleX",
        "outputId": "4963573e-c0cc-4a19-d905-9bd4ed4b9d1b"
      },
      "execution_count": 27,
      "outputs": [
        {
          "output_type": "stream",
          "name": "stderr",
          "text": [
            "/usr/local/lib/python3.10/dist-packages/ipykernel/ipkernel.py:283: DeprecationWarning: `should_run_async` will not call `transform_cell` automatically in the future. Please pass the result to `transformed_cell` argument and any exception that happen during thetransform in `preprocessing_exc_tuple` in IPython 7.17 and above.\n",
            "  and should_run_async(code)\n"
          ]
        }
      ]
    },
    {
      "cell_type": "code",
      "source": [
        "# Wongnai review comment ครกไม้ไทยลาว (Krok Mai Thai Lao) restaurant\n",
        "data = {'comment':\n",
        "        ['ครกไม้ไทยลาว เอารถไปเข้าศูนย์ที่เลียบด่วน รุ่นพี่ที่เป็นเจ้าเมืองลาดพร้าวเลยมารับไปทานข้าวระหว่างรอรถค่ะ อาหารเมนูหลากหลายมาก มีวัตถุดิบตามฤดูกาลที่น่าสนใจและมีปลาแม่น้ำมากมายให้เลือกสั่งได้ วันนี้เราไปกัน 2 คน สั่งอาหารมาหลายอย่างเหมือนกันค่ะ มีตำข้าวโพดไข่เค็ม ตำหลวงพระบาง ไส้กรอกอีสาน ลาบเป็ด ไข่เจียวไข่มดแดง ปลาเนื้ออ่อนตัวเล็กทอด ต้มซุปเปอร์ตีนไก่ อาหารโดยรวมใช้ได้โอเคเลย ราคาน่ารักจนตกใจ หมดนี่หมดไปหกร้อยกว่าบาทเองค่ะ',\n",
        "        'ร้านอาหารไทยลาว ครกไม้ ย่านลาดปลาเค้า ร้านยอดนิยม ช่วงกลางวัน ลูกค้าเยอะ แน่นร้านมากๆ แต่อาหารรอไม่นาน รสชาติดี เมนู มีแบบทั้งไทย แล เมนูลาว เมนู อาหารป่า มาครบ จบในที่นี่ ที่เดียวเลยจ้า ราคาไม่แพง มีทั้ง โซนด้านนอก และ ด้านในห้องแอร เลือกได้ ตามสะดวก ตามชอบเลยจ้ะ',\n",
        "        'แวะมาทานอาหารเย็นหลังเสร็จงานที่วัด ดื่มด่ำบรรยากาศดีๆ ราคาไม่เเพง เเต่การบริการไม่ค่อยเวิร์ค พนักงานดูไม่ค่อยสนใจ เช่น สั่งน้ำแข็งไป 2 - 3 รอบไม่ได้ ต้องจี้ถึงจะได้ อาหารรสชาติดี บรรยากาศร้านดี ไม่ร้อนอบอ้าว',\n",
        "        'ถ้าคุณยังไม่เคยสัมผัสรสชาติและวัตถุดิบอาหารอีสานขนานแท้แล้วละก้อบอกได้เลยครับว่าร้านนี้ตอบโจทย์ที่คุณตามหามาเนิ่นนาน ไข่เจียวไข่มดแดง ตำมั่วซั่วครกไม้ แกงคั่วเห็ดเผาะ แกงผักหวานไข่มดแดง หมกรังผึ้งอ่อน แม่เป้ง หอยโข่ง ต่ออ่อน ล้วนแล้วแต่เป็นเมนูที่ห้ามพลาดโดยเด็ดขาดหาทานที่ไหนไม่ได้แล้วนะครับ รสชาติอีสานขนานแท้จัดจ้านปรุงแต่งไม่เยอะแต่รสชาติแซ่บนัว การบริการดีงามครับพนักงานแบ่งโต๊ะดูแลกันอย่างใกล้ชิดอาหารรวดเร็วทันใจราคาไม่แพงแต่ก็จารไม่ได้ใหญ่มากนะครับสามารถเลือกทานได้ไหลย่าง ที่จอดรถอาจจะต้องพกดวงมาด้วยซักเล็กน้อยแต่มีพนักงานดูแลความเรียบร้อยอย่างดีครับ',\n",
        "        'นานมากไม่ได้มา​งั้นจัด ไม่น่าเชื่อว่าคนเยอะมาก อาหารก็ตามรสชาติเดิมแต่ที่โดนที่สุดคือไส้กรอกย่าง และข้าวเหนียวห่อมาในใบตอง อาหารอีสานดั่งเดิม มีหลากหลายเมนู ที่นั่งเยอะมาก ทั้งมุมห้องแอร์ และมุมด้านนอก รับลมจากพัดลม พนักงานบริการได้เร็วทันใจ',\n",
        "        'ร้านใหญ่ หลายสาขา คนเยอะตลอดๆ แต่เค้าต้องสั่งอะไรกันหรอ ส้มตำไทยไข่เค็ม ตำปูม้า ไม่ถูกปากแฮะ ปูม้าให้เยอะมากมายแต่ไม่สด เมนูหอยหอมนึ่ง ไม่น่าขึ้นโต๊ะเพราะมีทั้งกรวดทราย ที่ดีที่สุดคือ ลาบหมูอร่อยมาก อาหารราคาไม่แรง ปริมาณเหมาะสมและไวมาก',\n",
        "        'ร้านลึกลับ​หน่อย แต่​คนเยอะ อร่อยทุกอย่าง อาหาร​มาตรฐาน​ดีหมด ลาบปลาดุก ต้มแซบ ตับหวาน​ น้ำตกหมู ส่วนปลาช่อน​นึ่ง​ลุย​สวน​ ปลาสดจริง​และ​ตัว​ใหญ่ ที่แปลกคือสั่งรังผึ้ง ต้องเอาเค็มกลบคาว ชิ้นเล็กไปหน่อย โดยรวมแล้วดีครับ',\n",
        "        'เมนูอาหารอีสานท็อปฮิตติดชาร์ตอย่าง ส้มนำ ลาบ น้ำตก ต้มแซ่บ ไก่ย่าง พวกนี้กลายเป็นของเบสิคไปเลยเมื่อได้เหยียบย่างกรายมาที่ร้านแห่งนี้ เพราะมีอาหารอีสานแปลกๆ(ที่เราไม่เคยกิน)ให้เลือกสั่งมาลองมากมายหลายอย่าง จะได้สัมผัสรสชาติอีสานแท้ๆกันเลยว่าเขากินกันอะไรกันบ้าง ปรุงรสอย่างไร บางอย่างก็เป็นของกินพื้นบ้านที่เขากินกันปกติแต่ก็หาทานยากในกรุงเทพฯถ้าไม่รู้แหล่งหรือร้าน เช่น ไข่มดแดง เห็ดเผาะ เป็นต้น',\n",
        "        'ร้านส้มตำลาวนะคะ ร้านใหญ่ประมาณหนึ่งเลยนะคะ พนักงานแบ่งงานเสริฟกันเป็นโซนค่ะ เมนูอาหารพอสมควรเลยนะคะ วันนี้ส้มตำลาว ปลานิลเผา หมูดำย่างแจ่ว ส้มตำลาวแซ่บดีนะคะ ปลานิลเผาดีเลยนะคะ หมูดำย่างแจ่วดีที่สุดดด นุ่มอย่างกับเนื้อค่ะ มื้อนี้จัดหนักเลย',\n",
        "        'ร้านนี้ส้มตำมั่วซั่วครกไม้คือเด็ดมาก ตามด้วยแกงเห็ดเพาะ ต้มผักหวานไข่มดแดง ต้มแซ่บเอ็นหมู ร้านนี้อร่อยแทบทุกอย่าง ขนาดข้าวเหนียวยังอร่อยจริงๆ ราคาก็กลางๆแต่ชาติเริ่ดๆค่ะ ที่จอดรถก็มีเดินทางมาร้านก็ง่ายมาก',\n",
        "        'เมื่อก่อนนานมากแล้ว(เกิน 10ปีมาละ) เคยได้มาทานร้านนี้ตั้งแต่สมัยเป็นร้านเล็กๆ ริมถนนอยู่ปากซอยลาดปลาเค้า 24 แต่ตอนนี้ร้านย้ายมาอยู่ในซอย และ ตัวร้านขยายใหญ่ขึ้น มีที่จอดรถสะดวกขึ้นมาก และตอนนี้เห็นว่ามีสาขา 2 แล้วด้วย สาขาที่ 2 อยู่ที่รามอินทรา 14 ถนนประเสริฐมนูญกิจ 29 (ซอยมัยลาภ)',\n",
        "        'มีร้านอาหารเพียงไม่กี่ร้านที่สามารถทำอาหารที่ถ่ายทอดความเป็นอยู่ของคนท้องถิ่นนั้นๆได้ ร้านนี้คือหนึ่งในนั้น ด้วยอาหารที่นี่เป็นอาหารพื้นบ้าน วัตถุดิบใช้ของที่มีในท้องถิ่นมาทำ มันสะท้องภาพวิถีชีวิตของคนอีสานได้ชัดเจนมาก มองเห็นถึงความอุดมสมบูรณ์ของพืชพรรณธัญญาหาร ในน้ำมีปลาในนามีข้าวจริงๆ พูดถึงรสชาติบ้าง กลมกล่อม อร่อยทุกเมนู มันไม่ได้เผ็ดหรือเค็มมากเกินไป',\n",
        "        'ได้ยินชื่อเสียงร้านนี้ตั้งแต่สมัยเรียนประถม จนทุกวันนี้อายุ 30 กว่า ก็พึ่งได้ไปชิม และต้องบอกว่าคุณภาพอาหาร สมราคา และรสชาติสมคำร่ำรือเช่นกัน อาหารแต่ละเมนูจะมาในปริมาณที่ไม่เยอะมาก และราคาถูก ซึ่งทำให้เราสามารถเลือกสั่งและเลือกชิมได้หลายเมนู เสียอย่างเดียว.. บางครั้งไม่มีที่จอดรถ ถ้าวันไหนรอไม่ไหวก็อกหักกลับบ้านกันเลยทีเดียว',\n",
        "        'คือร้านนี้ต้องลองได้ยินชื่อนานละ ในที่สุด ซักที หมกรังผึ้งจิ้มเกลือ เค็มๆมันๆ หวานหน่อยๆ เลอค่า ตบด้วยส้มตำรสชาติไม่ต้องห่วง ปางตาย เมนูอีกหลายอย่างที่ต้องกลับไปลอง บริกรน่ารักบริการ ok',\n",
        "        'เป็นร้านที่มาบ่อยอีกร้านค่ะ แต่ก็ยังลองไม่ครบทุกเมนูสักที ร้านดั้งเดิมที่คนเยอะตลอดเลย เมนูโปรดคือหมูดำหมักย่างแจ่ว จานเดียวไม่เคยพอ และก้อยไข่มดแดง แต่วันนี้เลือกแบบหมกค่ะ ก็อร่อยดีกรุบๆ ลาบเช้มข้น ไม่จัดจ้านมาก หอยแครงเผาอร่อยกว่าแบบลวกค่ะ ข้าวเหนียวเค้านุ่มดี อาหารมาไวด้วย ทั้งๆที่คนแน่น',\n",
        "         'ครกไม้ไทยลาว ร้านกลางกรุง ได้บรรยากาศอิสานดีจริงๆ ค่ะ รสชาติแซ่บหลาย เมนูหน้าตาแปลกเพียบค่ะ (คนอื่นอาจไม่แปลก อิอิ) เช่น รังผึ้งย่าง ฟักทองนึ่ง บางมุมแต่งแนวออกโบราณ เก๋ไก๋ไม่เบา ชอบไก่ทอดเกลือ มาเป๋นตัวเลยจ้า เด็ดจ้า',\n",
        "         'ตั้งใจมาทานมานานแล้ว ร้านนี้ได้รับรางวัลเกี่ยวกับการตำส้มตำหลายปี ด้านหน้าจอดได้ประมาณสามคัน แต่ด้านหลังมีที่จอดเพียบ เนื้อย่างติดมัน-เสือร้องไห้อันนี้ให้สี่ดาว มีบางชิ้นเหนียวไปนิด สั่งสองจานเลย หอยแครงลวกแพงไปหน่อย น้ำจิ้มยังไม่สะใจครับ ซุปหน่อไม้หั่นเป็นชิ้นครับ รสชาติใช้ได้ ส้มตำปูอันนี้ผมเฉยๆ ข้าวเหนียวห่อใบตองแปลกดีตำมั่วซั่วครกไม้อันนี้ดีครัย นับจาก แกล้มด้วยเบียน์โฮการ์เด้นท์',\n",
        "         'ร้านครกไม้ไทยลาว ร้านอาหารอิสานหลากหลายหากินยากมีตั้งแต่เมนูธรรมดาส้มตำลาบน้ำตกยันเมนูแปลกๆอย่างเช่น หมกรังผึ้ง,ยำไข่ปลาดุกนา,แกงคั่วเห็ดเผาะ อาหารราคาไม่แพงเริ่มต้นที่50บาทจานไม่ใหญ่มากคนเยอะแต่อาหารมาเร็วอยู่ค่ะบรรยากาศร้านจะมืดๆใครที่ชอบเมนูอิสานแปลกหาทานยากต้องที่นี่เลย',\n",
        "         'เป็นที่ชอบมาทานหลายครั้งเลย ร้านหายไม่ยากเข้าซอยมา 100 เมตร อยู่ขวามือ อาจจะหายที่จอดรถยนต์​ยากนิดนึง อาหารเน้นรสจัดคนชอบอีสานแท้ๆแนะนำ แต่ถ้าเป็นคนไม่ทานเผ็ดมาก แนะนำสั่งเผ็ดน้อย ตบท้ายด้วยของหวาน เป็นลอด​ช่อง อร่อยมาก โดยรวมดีครับ',\n",
        "         'ร้านนี้เป็นร้านอาหารอีสานแซ่บๆ รสชาติถูกปากจริงๆ กับครกไม้ไทยแล้วแถววังหินโชคชัย 4 ครั้งนี้มาทานเบาๆกับเพื่อนๆ สั่งไปหลายเมนู ทั้งหม่ำ น้ำตก ส้มตำ แหนม เป็นต้น ขอบอกว่ารสชาติแซ่บถูกปากเพื่อนๆแน่นอน หากใครแวะมาแถวนี้ก็เชิญเลยครับ',\n",
        "         'ประทับใจร้าน ดูอบอุ่นดี เมนูมา ตกใจ อาหารราคาถือว่าไม่แพง เมนูอาหารอิสาน อาหารหายาก รสชาติอร่อย สั่งมาเป็นชุดๆ หายเป็นชุดๆแค่ 3 คน อาหาร 12 จาน อิ่มสุดๆ อร่อย ต้องลองอีก และคิดว่าจะไม่พลาด และแนะนำ เพื่อนๆต่อด้วย!!!',\n",
        "         'วันนี้อยากส้มตำมากๆเลยแวะมาทานที่ครกไม้ไทยลาวค่ะ เคยมาหลายรอบแล้ว แต่ไม่เคยได้รีวิวเลยค่ะ วันนี้เลยจัดซะหน่อย เริ่มจากเมนูดสรฟก่อนซุปมะเขือ อร่อยกลมกล่อม และตำซั่ว ตำข้าวโพด อร่อย แม้ว่าจะมาแนวจืดไปสักนิด ปลาคังลวก ปีกไก่ทอด กบย่าง ลาบหมู มีหักคะแนนนิดนึงตรงที่อาหารมาขาดช่วงประมาณ15นาทีค่ะ ส้มตำมาเร็ว แต่ของย่างมาช้ามว้ากๆๆๆๆ ขอเติมผักกะไม่ให้ด้วยคร้า',\n",
        "         'ร้านนี้อาหารรสชาติเผ็ดนะครับ ใครที่คิดว่ากินเผ็ดแล้วเจอร้านนี้อย่าสั่งเผ็ดเพิ่มนะครับ ผมขออนุญาติเตือนไว้ก่อน เพราะผมเองก็โดนมาแล้วครับ ฮ่าๆๆ นอกจากส้มตำที่รสชาติจัดจ้านแล้ว คอหมูย่างที่มาพร้อมกับน้ำจิ้มก็อร่อยเหาะครับ ร้านอยู่ภายในซอยอีกครั้งนะครับ ถ้าเข้ามาจากถนนหลักแล้ว',\n",
        "         'ร้านกว้างขวาง มีที่จอดรถแต่อาจจะไม่มาก อาหารเมนูให้เลือกเยอะมากโดยเฉพาะส้มตำ ที่ร้านแนะนำคือตำมั่วซั่ว คล้ายๆตำป่า รสชาติ แต่ส่วนตัวคิดว่าตำอย่างอื่นที่ไม่ใส่ปลาร้ารสชาติธรรมดา อาหารอื่นๆก็อร่อย เนื้อย่างติดมันน้ำจิ้มแจ่วเค็มไปนิด แกงเห็ดเผาะรสมันเข้มแต่ให้น้อย พนักงานไม่ค่อยมาดูแล ตามตัวยาก',\n",
        "         'มื้อเย็นอยากกินมาก แกงคั่วหอยขม เลยมาที่ร้านนี้ ครัวครกไม้ ที่นี่เขาทำอร่อยจริง ไม่คราว วันนี้หิวจัด สั่งมาเยอะมากๆ แต่ก็กินหมดนะ เพราะทุกอย่างอร่อย ไม่เผ็ดมาก รสชาติกลางๆแต่อร่อยทุกอย่าง แต่อาหารแต่ละจานน้อยไปนิด แต่ก็โอเคคะมีให้เลือกเยอะ ของอิสานๆทั้งนั้น',\n",
        "         'ถ้าอยากแซ่บอาหารอีสารนึกถึงร้านนี้ตลอดรสชาติจัดจ้านแต่อร่อยเข้าเครื่อง โดยเฉพาะตำครกไม้ไทยลาวไม่รู้จำชื่อถูกไหมอันนี้สั่งเผ็ดปานกลางก็ยังรสจัด เอาซะเหงือออกเลย. เมนูหมกกุ้งฝอย อร่อยดีแต่หนวดกุ้งชอบทิ่มเพดานลิ้นจิง ต้มแซ่บเอ็นหมู รสชาติถึงเครื่องเคี้ยวเอ็นหนุบๆ และเมนูอื่นๆก็อร่อยไม่แพ้กันลองไปลองได้แต่ที่จอดรถมีค่อนข้างจำกัดสักหน่อย',\n",
        "         'ร้านอาหารอีสานที่มีเมนูให้เลือกเยอะมาก วัตถุดิบที่หากินยากๆก็มีเยอะมากเช่นกัน แกงผักหวานไข่มดแดง รสชาติเยี่ยม ซดได้เริ่อยๆ แต่เมนูที่ยกให้เยี่ยมที่สุดคือ เนื้อย่างติดมัน-เสือร้องไห้ ถือว่าย่างได้ดี ความสุกประมาน medium-rare เลยทีเดียว อีกทั้งการหมักที่เหมาะสม เนื้อย่างหอม นุ่ม อร่อยมากจริงๆ',\n",
        "         'อร่อยมากครับร้านนี้ อาหารรสชาติอีสานแท้ๆหากินยาก',\n",
        "         'อร่อยจริงจัง อร่อยสมคำรำรือ คนเยอะ บริการดี บริการไว อาหารอีสาน ที่ใครๆหลายคนชอบเพรสะฉะนั้นคนที่ไม่เคยทาน ต้องลองมาทานสะน่ะ รับริงจะติดใจ ควาใอร่อยของอาหารร้านนี้ เราช๊อบชอบ มีโอกาศจะไปทานอีกแน่นอนจ้า',\n",
        "         'บรรยากาศในร้่านร่มรื่นดี รสชาดอร่อย มีเมนูให้เลือกหลากหลาย เลือกไม่ถูกเลยทีเดียว แต่อาหารส่วนใหญ่จะออกหวานหน่อย แต่โดยรวมก็ใช้ได้ สำหรับใครที่ชอบทานปลา ต้องลอง ปลาทับทึมย่างเกลือ เนื้อปลาหวาน สด อร่อยมาก และอีกเมนู คือ ปลาช่อนทอดเกลือ เค้าจะทอดได้กรอบมาก และอีกเมนูที่สุดแสนอร่อย ต้องนี่เลย!!! แกงคั่วเห็ดเพอะ แซบหลาย!!!!']}\n",
        "\n",
        "df = pd.DataFrame(data)\n",
        "df.tail()"
      ],
      "metadata": {
        "colab": {
          "base_uri": "https://localhost:8080/",
          "height": 261
        },
        "id": "yaZMgQx9ZUkL",
        "outputId": "9b70d6ba-b464-47a4-fca2-3382732d810f"
      },
      "execution_count": 28,
      "outputs": [
        {
          "output_type": "stream",
          "name": "stderr",
          "text": [
            "/usr/local/lib/python3.10/dist-packages/ipykernel/ipkernel.py:283: DeprecationWarning: `should_run_async` will not call `transform_cell` automatically in the future. Please pass the result to `transformed_cell` argument and any exception that happen during thetransform in `preprocessing_exc_tuple` in IPython 7.17 and above.\n",
            "  and should_run_async(code)\n"
          ]
        },
        {
          "output_type": "execute_result",
          "data": {
            "text/plain": [
              "                                              comment\n",
              "25  ถ้าอยากแซ่บอาหารอีสารนึกถึงร้านนี้ตลอดรสชาติจั...\n",
              "26  ร้านอาหารอีสานที่มีเมนูให้เลือกเยอะมาก วัตถุดิ...\n",
              "27   อร่อยมากครับร้านนี้ อาหารรสชาติอีสานแท้ๆหากินยาก\n",
              "28  อร่อยจริงจัง อร่อยสมคำรำรือ คนเยอะ บริการดี บร...\n",
              "29  บรรยากาศในร้่านร่มรื่นดี รสชาดอร่อย มีเมนูให้เ..."
            ],
            "text/html": [
              "\n",
              "\n",
              "  <div id=\"df-58133a13-ec4f-48ab-992f-84f7f6e9c0c6\">\n",
              "    <div class=\"colab-df-container\">\n",
              "      <div>\n",
              "<style scoped>\n",
              "    .dataframe tbody tr th:only-of-type {\n",
              "        vertical-align: middle;\n",
              "    }\n",
              "\n",
              "    .dataframe tbody tr th {\n",
              "        vertical-align: top;\n",
              "    }\n",
              "\n",
              "    .dataframe thead th {\n",
              "        text-align: right;\n",
              "    }\n",
              "</style>\n",
              "<table border=\"1\" class=\"dataframe\">\n",
              "  <thead>\n",
              "    <tr style=\"text-align: right;\">\n",
              "      <th></th>\n",
              "      <th>comment</th>\n",
              "    </tr>\n",
              "  </thead>\n",
              "  <tbody>\n",
              "    <tr>\n",
              "      <th>25</th>\n",
              "      <td>ถ้าอยากแซ่บอาหารอีสารนึกถึงร้านนี้ตลอดรสชาติจั...</td>\n",
              "    </tr>\n",
              "    <tr>\n",
              "      <th>26</th>\n",
              "      <td>ร้านอาหารอีสานที่มีเมนูให้เลือกเยอะมาก วัตถุดิ...</td>\n",
              "    </tr>\n",
              "    <tr>\n",
              "      <th>27</th>\n",
              "      <td>อร่อยมากครับร้านนี้ อาหารรสชาติอีสานแท้ๆหากินยาก</td>\n",
              "    </tr>\n",
              "    <tr>\n",
              "      <th>28</th>\n",
              "      <td>อร่อยจริงจัง อร่อยสมคำรำรือ คนเยอะ บริการดี บร...</td>\n",
              "    </tr>\n",
              "    <tr>\n",
              "      <th>29</th>\n",
              "      <td>บรรยากาศในร้่านร่มรื่นดี รสชาดอร่อย มีเมนูให้เ...</td>\n",
              "    </tr>\n",
              "  </tbody>\n",
              "</table>\n",
              "</div>\n",
              "      <button class=\"colab-df-convert\" onclick=\"convertToInteractive('df-58133a13-ec4f-48ab-992f-84f7f6e9c0c6')\"\n",
              "              title=\"Convert this dataframe to an interactive table.\"\n",
              "              style=\"display:none;\">\n",
              "\n",
              "  <svg xmlns=\"http://www.w3.org/2000/svg\" height=\"24px\"viewBox=\"0 0 24 24\"\n",
              "       width=\"24px\">\n",
              "    <path d=\"M0 0h24v24H0V0z\" fill=\"none\"/>\n",
              "    <path d=\"M18.56 5.44l.94 2.06.94-2.06 2.06-.94-2.06-.94-.94-2.06-.94 2.06-2.06.94zm-11 1L8.5 8.5l.94-2.06 2.06-.94-2.06-.94L8.5 2.5l-.94 2.06-2.06.94zm10 10l.94 2.06.94-2.06 2.06-.94-2.06-.94-.94-2.06-.94 2.06-2.06.94z\"/><path d=\"M17.41 7.96l-1.37-1.37c-.4-.4-.92-.59-1.43-.59-.52 0-1.04.2-1.43.59L10.3 9.45l-7.72 7.72c-.78.78-.78 2.05 0 2.83L4 21.41c.39.39.9.59 1.41.59.51 0 1.02-.2 1.41-.59l7.78-7.78 2.81-2.81c.8-.78.8-2.07 0-2.86zM5.41 20L4 18.59l7.72-7.72 1.47 1.35L5.41 20z\"/>\n",
              "  </svg>\n",
              "      </button>\n",
              "\n",
              "\n",
              "\n",
              "    <div id=\"df-bbbcfb80-bc5e-46cd-ad5d-dcbf903af5ed\">\n",
              "      <button class=\"colab-df-quickchart\" onclick=\"quickchart('df-bbbcfb80-bc5e-46cd-ad5d-dcbf903af5ed')\"\n",
              "              title=\"Suggest charts.\"\n",
              "              style=\"display:none;\">\n",
              "\n",
              "<svg xmlns=\"http://www.w3.org/2000/svg\" height=\"24px\"viewBox=\"0 0 24 24\"\n",
              "     width=\"24px\">\n",
              "    <g>\n",
              "        <path d=\"M19 3H5c-1.1 0-2 .9-2 2v14c0 1.1.9 2 2 2h14c1.1 0 2-.9 2-2V5c0-1.1-.9-2-2-2zM9 17H7v-7h2v7zm4 0h-2V7h2v10zm4 0h-2v-4h2v4z\"/>\n",
              "    </g>\n",
              "</svg>\n",
              "      </button>\n",
              "    </div>\n",
              "\n",
              "<style>\n",
              "  .colab-df-quickchart {\n",
              "    background-color: #E8F0FE;\n",
              "    border: none;\n",
              "    border-radius: 50%;\n",
              "    cursor: pointer;\n",
              "    display: none;\n",
              "    fill: #1967D2;\n",
              "    height: 32px;\n",
              "    padding: 0 0 0 0;\n",
              "    width: 32px;\n",
              "  }\n",
              "\n",
              "  .colab-df-quickchart:hover {\n",
              "    background-color: #E2EBFA;\n",
              "    box-shadow: 0px 1px 2px rgba(60, 64, 67, 0.3), 0px 1px 3px 1px rgba(60, 64, 67, 0.15);\n",
              "    fill: #174EA6;\n",
              "  }\n",
              "\n",
              "  [theme=dark] .colab-df-quickchart {\n",
              "    background-color: #3B4455;\n",
              "    fill: #D2E3FC;\n",
              "  }\n",
              "\n",
              "  [theme=dark] .colab-df-quickchart:hover {\n",
              "    background-color: #434B5C;\n",
              "    box-shadow: 0px 1px 3px 1px rgba(0, 0, 0, 0.15);\n",
              "    filter: drop-shadow(0px 1px 2px rgba(0, 0, 0, 0.3));\n",
              "    fill: #FFFFFF;\n",
              "  }\n",
              "</style>\n",
              "\n",
              "    <script>\n",
              "      async function quickchart(key) {\n",
              "        const containerElement = document.querySelector('#' + key);\n",
              "        const charts = await google.colab.kernel.invokeFunction(\n",
              "            'suggestCharts', [key], {});\n",
              "      }\n",
              "    </script>\n",
              "\n",
              "      <script>\n",
              "\n",
              "function displayQuickchartButton(domScope) {\n",
              "  let quickchartButtonEl =\n",
              "    domScope.querySelector('#df-bbbcfb80-bc5e-46cd-ad5d-dcbf903af5ed button.colab-df-quickchart');\n",
              "  quickchartButtonEl.style.display =\n",
              "    google.colab.kernel.accessAllowed ? 'block' : 'none';\n",
              "}\n",
              "\n",
              "        displayQuickchartButton(document);\n",
              "      </script>\n",
              "      <style>\n",
              "    .colab-df-container {\n",
              "      display:flex;\n",
              "      flex-wrap:wrap;\n",
              "      gap: 12px;\n",
              "    }\n",
              "\n",
              "    .colab-df-convert {\n",
              "      background-color: #E8F0FE;\n",
              "      border: none;\n",
              "      border-radius: 50%;\n",
              "      cursor: pointer;\n",
              "      display: none;\n",
              "      fill: #1967D2;\n",
              "      height: 32px;\n",
              "      padding: 0 0 0 0;\n",
              "      width: 32px;\n",
              "    }\n",
              "\n",
              "    .colab-df-convert:hover {\n",
              "      background-color: #E2EBFA;\n",
              "      box-shadow: 0px 1px 2px rgba(60, 64, 67, 0.3), 0px 1px 3px 1px rgba(60, 64, 67, 0.15);\n",
              "      fill: #174EA6;\n",
              "    }\n",
              "\n",
              "    [theme=dark] .colab-df-convert {\n",
              "      background-color: #3B4455;\n",
              "      fill: #D2E3FC;\n",
              "    }\n",
              "\n",
              "    [theme=dark] .colab-df-convert:hover {\n",
              "      background-color: #434B5C;\n",
              "      box-shadow: 0px 1px 3px 1px rgba(0, 0, 0, 0.15);\n",
              "      filter: drop-shadow(0px 1px 2px rgba(0, 0, 0, 0.3));\n",
              "      fill: #FFFFFF;\n",
              "    }\n",
              "  </style>\n",
              "\n",
              "      <script>\n",
              "        const buttonEl =\n",
              "          document.querySelector('#df-58133a13-ec4f-48ab-992f-84f7f6e9c0c6 button.colab-df-convert');\n",
              "        buttonEl.style.display =\n",
              "          google.colab.kernel.accessAllowed ? 'block' : 'none';\n",
              "\n",
              "        async function convertToInteractive(key) {\n",
              "          const element = document.querySelector('#df-58133a13-ec4f-48ab-992f-84f7f6e9c0c6');\n",
              "          const dataTable =\n",
              "            await google.colab.kernel.invokeFunction('convertToInteractive',\n",
              "                                                     [key], {});\n",
              "          if (!dataTable) return;\n",
              "\n",
              "          const docLinkHtml = 'Like what you see? Visit the ' +\n",
              "            '<a target=\"_blank\" href=https://colab.research.google.com/notebooks/data_table.ipynb>data table notebook</a>'\n",
              "            + ' to learn more about interactive tables.';\n",
              "          element.innerHTML = '';\n",
              "          dataTable['output_type'] = 'display_data';\n",
              "          await google.colab.output.renderOutput(dataTable, element);\n",
              "          const docLink = document.createElement('div');\n",
              "          docLink.innerHTML = docLinkHtml;\n",
              "          element.appendChild(docLink);\n",
              "        }\n",
              "      </script>\n",
              "    </div>\n",
              "  </div>\n"
            ]
          },
          "metadata": {},
          "execution_count": 28
        }
      ]
    },
    {
      "cell_type": "markdown",
      "source": [
        "## Tokenize Words with pythainlp"
      ],
      "metadata": {
        "id": "p80NFeiTkr_2"
      }
    },
    {
      "cell_type": "code",
      "source": [
        "stop_word = list(pythainlp.corpus.thai_stopwords())\n",
        "rm_word = ['',' ','    ','\\n', '(', ')', '?', '+', '--', '//', 'ร้าน', '\\u200b', 'ๆ(', '..', 'ๆๆๆๆ']\n",
        "screenword = stop_word + rm_word\n",
        "\n",
        "def tokenize_n_space(sentence):\n",
        "    merged = ''\n",
        "    words = pythainlp.word_tokenize( str(sentence), engine = 'newmm' )\n",
        "    for i in words :\n",
        "        if i not in screenword :\n",
        "            merged = merged + ',' + i\n",
        "    return merged[1:]"
      ],
      "metadata": {
        "colab": {
          "base_uri": "https://localhost:8080/"
        },
        "id": "fgSLm7PTd-Wq",
        "outputId": "00b76a06-2176-4446-83d5-cbf3247d9c23"
      },
      "execution_count": 29,
      "outputs": [
        {
          "output_type": "stream",
          "name": "stderr",
          "text": [
            "/usr/local/lib/python3.10/dist-packages/ipykernel/ipkernel.py:283: DeprecationWarning: `should_run_async` will not call `transform_cell` automatically in the future. Please pass the result to `transformed_cell` argument and any exception that happen during thetransform in `preprocessing_exc_tuple` in IPython 7.17 and above.\n",
            "  and should_run_async(code)\n"
          ]
        }
      ]
    },
    {
      "cell_type": "code",
      "source": [
        "df['tokenized'] = df['comment'].apply(lambda x: tokenize_n_space(x))\n",
        "df.tail()"
      ],
      "metadata": {
        "colab": {
          "base_uri": "https://localhost:8080/",
          "height": 261
        },
        "id": "KpqWuTkueG4S",
        "outputId": "2750d55f-28c1-4fc4-fda7-6a418d7de4cd"
      },
      "execution_count": 30,
      "outputs": [
        {
          "output_type": "stream",
          "name": "stderr",
          "text": [
            "/usr/local/lib/python3.10/dist-packages/ipykernel/ipkernel.py:283: DeprecationWarning: `should_run_async` will not call `transform_cell` automatically in the future. Please pass the result to `transformed_cell` argument and any exception that happen during thetransform in `preprocessing_exc_tuple` in IPython 7.17 and above.\n",
            "  and should_run_async(code)\n"
          ]
        },
        {
          "output_type": "execute_result",
          "data": {
            "text/plain": [
              "                                              comment  \\\n",
              "25  ถ้าอยากแซ่บอาหารอีสารนึกถึงร้านนี้ตลอดรสชาติจั...   \n",
              "26  ร้านอาหารอีสานที่มีเมนูให้เลือกเยอะมาก วัตถุดิ...   \n",
              "27   อร่อยมากครับร้านนี้ อาหารรสชาติอีสานแท้ๆหากินยาก   \n",
              "28  อร่อยจริงจัง อร่อยสมคำรำรือ คนเยอะ บริการดี บร...   \n",
              "29  บรรยากาศในร้่านร่มรื่นดี รสชาดอร่อย มีเมนูให้เ...   \n",
              "\n",
              "                                            tokenized  \n",
              "25  แซ่บ,อาหาร,อี,สาร,นึกถึง,รสชาติ,จัดจ้าน,อร่อย,...  \n",
              "26  ร้านอาหาร,อีสาน,เมนู,เลือก,วัตถุดิบ,หากิน,แกง,...  \n",
              "27                อร่อย,อาหาร,รสชาติ,อีสาน,แท้ๆ,หากิน  \n",
              "28  อร่อย,อร่อย,สม,รำ,คน,บริการ,ดี,บริการ,ไว,อาหาร...  \n",
              "29  บรรยากาศ,ร้่าน,ร่มรื่น,ดี,รส,ชาด,อร่อย,เมนู,เล...  "
            ],
            "text/html": [
              "\n",
              "\n",
              "  <div id=\"df-3097418c-e59b-49dd-b59c-d507302c469e\">\n",
              "    <div class=\"colab-df-container\">\n",
              "      <div>\n",
              "<style scoped>\n",
              "    .dataframe tbody tr th:only-of-type {\n",
              "        vertical-align: middle;\n",
              "    }\n",
              "\n",
              "    .dataframe tbody tr th {\n",
              "        vertical-align: top;\n",
              "    }\n",
              "\n",
              "    .dataframe thead th {\n",
              "        text-align: right;\n",
              "    }\n",
              "</style>\n",
              "<table border=\"1\" class=\"dataframe\">\n",
              "  <thead>\n",
              "    <tr style=\"text-align: right;\">\n",
              "      <th></th>\n",
              "      <th>comment</th>\n",
              "      <th>tokenized</th>\n",
              "    </tr>\n",
              "  </thead>\n",
              "  <tbody>\n",
              "    <tr>\n",
              "      <th>25</th>\n",
              "      <td>ถ้าอยากแซ่บอาหารอีสารนึกถึงร้านนี้ตลอดรสชาติจั...</td>\n",
              "      <td>แซ่บ,อาหาร,อี,สาร,นึกถึง,รสชาติ,จัดจ้าน,อร่อย,...</td>\n",
              "    </tr>\n",
              "    <tr>\n",
              "      <th>26</th>\n",
              "      <td>ร้านอาหารอีสานที่มีเมนูให้เลือกเยอะมาก วัตถุดิ...</td>\n",
              "      <td>ร้านอาหาร,อีสาน,เมนู,เลือก,วัตถุดิบ,หากิน,แกง,...</td>\n",
              "    </tr>\n",
              "    <tr>\n",
              "      <th>27</th>\n",
              "      <td>อร่อยมากครับร้านนี้ อาหารรสชาติอีสานแท้ๆหากินยาก</td>\n",
              "      <td>อร่อย,อาหาร,รสชาติ,อีสาน,แท้ๆ,หากิน</td>\n",
              "    </tr>\n",
              "    <tr>\n",
              "      <th>28</th>\n",
              "      <td>อร่อยจริงจัง อร่อยสมคำรำรือ คนเยอะ บริการดี บร...</td>\n",
              "      <td>อร่อย,อร่อย,สม,รำ,คน,บริการ,ดี,บริการ,ไว,อาหาร...</td>\n",
              "    </tr>\n",
              "    <tr>\n",
              "      <th>29</th>\n",
              "      <td>บรรยากาศในร้่านร่มรื่นดี รสชาดอร่อย มีเมนูให้เ...</td>\n",
              "      <td>บรรยากาศ,ร้่าน,ร่มรื่น,ดี,รส,ชาด,อร่อย,เมนู,เล...</td>\n",
              "    </tr>\n",
              "  </tbody>\n",
              "</table>\n",
              "</div>\n",
              "      <button class=\"colab-df-convert\" onclick=\"convertToInteractive('df-3097418c-e59b-49dd-b59c-d507302c469e')\"\n",
              "              title=\"Convert this dataframe to an interactive table.\"\n",
              "              style=\"display:none;\">\n",
              "\n",
              "  <svg xmlns=\"http://www.w3.org/2000/svg\" height=\"24px\"viewBox=\"0 0 24 24\"\n",
              "       width=\"24px\">\n",
              "    <path d=\"M0 0h24v24H0V0z\" fill=\"none\"/>\n",
              "    <path d=\"M18.56 5.44l.94 2.06.94-2.06 2.06-.94-2.06-.94-.94-2.06-.94 2.06-2.06.94zm-11 1L8.5 8.5l.94-2.06 2.06-.94-2.06-.94L8.5 2.5l-.94 2.06-2.06.94zm10 10l.94 2.06.94-2.06 2.06-.94-2.06-.94-.94-2.06-.94 2.06-2.06.94z\"/><path d=\"M17.41 7.96l-1.37-1.37c-.4-.4-.92-.59-1.43-.59-.52 0-1.04.2-1.43.59L10.3 9.45l-7.72 7.72c-.78.78-.78 2.05 0 2.83L4 21.41c.39.39.9.59 1.41.59.51 0 1.02-.2 1.41-.59l7.78-7.78 2.81-2.81c.8-.78.8-2.07 0-2.86zM5.41 20L4 18.59l7.72-7.72 1.47 1.35L5.41 20z\"/>\n",
              "  </svg>\n",
              "      </button>\n",
              "\n",
              "\n",
              "\n",
              "    <div id=\"df-0b23fd91-9fd8-401e-937d-a7edba1b5004\">\n",
              "      <button class=\"colab-df-quickchart\" onclick=\"quickchart('df-0b23fd91-9fd8-401e-937d-a7edba1b5004')\"\n",
              "              title=\"Suggest charts.\"\n",
              "              style=\"display:none;\">\n",
              "\n",
              "<svg xmlns=\"http://www.w3.org/2000/svg\" height=\"24px\"viewBox=\"0 0 24 24\"\n",
              "     width=\"24px\">\n",
              "    <g>\n",
              "        <path d=\"M19 3H5c-1.1 0-2 .9-2 2v14c0 1.1.9 2 2 2h14c1.1 0 2-.9 2-2V5c0-1.1-.9-2-2-2zM9 17H7v-7h2v7zm4 0h-2V7h2v10zm4 0h-2v-4h2v4z\"/>\n",
              "    </g>\n",
              "</svg>\n",
              "      </button>\n",
              "    </div>\n",
              "\n",
              "<style>\n",
              "  .colab-df-quickchart {\n",
              "    background-color: #E8F0FE;\n",
              "    border: none;\n",
              "    border-radius: 50%;\n",
              "    cursor: pointer;\n",
              "    display: none;\n",
              "    fill: #1967D2;\n",
              "    height: 32px;\n",
              "    padding: 0 0 0 0;\n",
              "    width: 32px;\n",
              "  }\n",
              "\n",
              "  .colab-df-quickchart:hover {\n",
              "    background-color: #E2EBFA;\n",
              "    box-shadow: 0px 1px 2px rgba(60, 64, 67, 0.3), 0px 1px 3px 1px rgba(60, 64, 67, 0.15);\n",
              "    fill: #174EA6;\n",
              "  }\n",
              "\n",
              "  [theme=dark] .colab-df-quickchart {\n",
              "    background-color: #3B4455;\n",
              "    fill: #D2E3FC;\n",
              "  }\n",
              "\n",
              "  [theme=dark] .colab-df-quickchart:hover {\n",
              "    background-color: #434B5C;\n",
              "    box-shadow: 0px 1px 3px 1px rgba(0, 0, 0, 0.15);\n",
              "    filter: drop-shadow(0px 1px 2px rgba(0, 0, 0, 0.3));\n",
              "    fill: #FFFFFF;\n",
              "  }\n",
              "</style>\n",
              "\n",
              "    <script>\n",
              "      async function quickchart(key) {\n",
              "        const containerElement = document.querySelector('#' + key);\n",
              "        const charts = await google.colab.kernel.invokeFunction(\n",
              "            'suggestCharts', [key], {});\n",
              "      }\n",
              "    </script>\n",
              "\n",
              "      <script>\n",
              "\n",
              "function displayQuickchartButton(domScope) {\n",
              "  let quickchartButtonEl =\n",
              "    domScope.querySelector('#df-0b23fd91-9fd8-401e-937d-a7edba1b5004 button.colab-df-quickchart');\n",
              "  quickchartButtonEl.style.display =\n",
              "    google.colab.kernel.accessAllowed ? 'block' : 'none';\n",
              "}\n",
              "\n",
              "        displayQuickchartButton(document);\n",
              "      </script>\n",
              "      <style>\n",
              "    .colab-df-container {\n",
              "      display:flex;\n",
              "      flex-wrap:wrap;\n",
              "      gap: 12px;\n",
              "    }\n",
              "\n",
              "    .colab-df-convert {\n",
              "      background-color: #E8F0FE;\n",
              "      border: none;\n",
              "      border-radius: 50%;\n",
              "      cursor: pointer;\n",
              "      display: none;\n",
              "      fill: #1967D2;\n",
              "      height: 32px;\n",
              "      padding: 0 0 0 0;\n",
              "      width: 32px;\n",
              "    }\n",
              "\n",
              "    .colab-df-convert:hover {\n",
              "      background-color: #E2EBFA;\n",
              "      box-shadow: 0px 1px 2px rgba(60, 64, 67, 0.3), 0px 1px 3px 1px rgba(60, 64, 67, 0.15);\n",
              "      fill: #174EA6;\n",
              "    }\n",
              "\n",
              "    [theme=dark] .colab-df-convert {\n",
              "      background-color: #3B4455;\n",
              "      fill: #D2E3FC;\n",
              "    }\n",
              "\n",
              "    [theme=dark] .colab-df-convert:hover {\n",
              "      background-color: #434B5C;\n",
              "      box-shadow: 0px 1px 3px 1px rgba(0, 0, 0, 0.15);\n",
              "      filter: drop-shadow(0px 1px 2px rgba(0, 0, 0, 0.3));\n",
              "      fill: #FFFFFF;\n",
              "    }\n",
              "  </style>\n",
              "\n",
              "      <script>\n",
              "        const buttonEl =\n",
              "          document.querySelector('#df-3097418c-e59b-49dd-b59c-d507302c469e button.colab-df-convert');\n",
              "        buttonEl.style.display =\n",
              "          google.colab.kernel.accessAllowed ? 'block' : 'none';\n",
              "\n",
              "        async function convertToInteractive(key) {\n",
              "          const element = document.querySelector('#df-3097418c-e59b-49dd-b59c-d507302c469e');\n",
              "          const dataTable =\n",
              "            await google.colab.kernel.invokeFunction('convertToInteractive',\n",
              "                                                     [key], {});\n",
              "          if (!dataTable) return;\n",
              "\n",
              "          const docLinkHtml = 'Like what you see? Visit the ' +\n",
              "            '<a target=\"_blank\" href=https://colab.research.google.com/notebooks/data_table.ipynb>data table notebook</a>'\n",
              "            + ' to learn more about interactive tables.';\n",
              "          element.innerHTML = '';\n",
              "          dataTable['output_type'] = 'display_data';\n",
              "          await google.colab.output.renderOutput(dataTable, element);\n",
              "          const docLink = document.createElement('div');\n",
              "          docLink.innerHTML = docLinkHtml;\n",
              "          element.appendChild(docLink);\n",
              "        }\n",
              "      </script>\n",
              "    </div>\n",
              "  </div>\n"
            ]
          },
          "metadata": {},
          "execution_count": 30
        }
      ]
    },
    {
      "cell_type": "code",
      "source": [
        "doc = df['tokenized'].to_list()\n",
        "texts = [ [i for i in dc.split(',')] for dc in doc ]\n",
        "dictionary = gensim.corpora.Dictionary(texts)\n",
        "\n",
        "print(dictionary.token2id.keys())"
      ],
      "metadata": {
        "colab": {
          "base_uri": "https://localhost:8080/"
        },
        "id": "NTjtWAHxeMYW",
        "outputId": "59a402dc-d29d-4a9c-89b1-20a65f037996"
      },
      "execution_count": 31,
      "outputs": [
        {
          "output_type": "stream",
          "name": "stdout",
          "text": [
            "dict_keys(['2', 'ข้าวโพด', 'คน', 'ครก', 'ซุปเปอร์', 'ด่วน', 'ตกใจ', 'ตัวเล็ก', 'ตามฤดูกาล', 'ตำ', 'ตีน', 'ต้ม', 'ทอด', 'ทานข้าว', 'น่ารัก', 'น่าสนใจ', 'บาท', 'ปลา', 'มดแดง', 'รถ', 'รอ', 'ราคา', 'รุ่นพี่', 'ลาดพร้าว', 'ลาบ', 'ลาว', 'วัตถุดิบ', 'ศูนย์', 'สั่ง', 'สั่งอาหาร', 'หกร้อย', 'หลวงพระบาง', 'หลากหลาย', 'หลายอย่าง', 'อาหาร', 'อีสาน', 'เจ้าเมือง', 'เนื้ออ่อน', 'เป็ด', 'เมนู', 'เลียบ', 'เลือก', 'เหมือนกัน', 'แม่น้ำ', 'โดยรวม', 'โอเค', 'ใช้ได้', 'ไก่', 'ไข่', 'ไข่เค็ม', 'ไข่เจียว', 'ไทย', 'ไม้', 'ไส้กรอก', 'กลางวัน', 'จบ', 'ชอบ', 'ดี', 'ด้านนอก', 'ด้านใน', 'ที่นี่', 'ป่า', 'ยอดนิยม', 'ย่าน', 'ร', 'รสชาติ', 'ร้านอาหาร', 'ลาด', 'ลูกค้า', 'สะดวก', 'ห้อง', 'เค้า', 'แน่น', 'แพง', 'แล', 'แอ', 'โซน', '-', '3', 'ง', 'งาน', 'จี้', 'ดื่มด่ำ', 'ดู', 'ทาน', 'ที่วัด', 'น้ำแข็ง', 'บรรยากาศ', 'บริการ', 'พนักงาน', 'รอบ', 'ร้อน', 'สนใจ', 'อบอ้าว', 'อาหารเย็น', 'เ', 'เพ', 'เวิร์ค', 'เเต่', 'แวะ', 'ก้อ', 'ขนาน', 'จัดจ้าน', 'จาร', 'ซัก', 'ดวง', 'ดีงาม', 'ดูแล', 'ตอบ', 'ตามหา', 'ที่จอดรถ', 'นัว', 'ปรุงแต่ง', 'ผักหวาน', 'พก', 'พลาด', 'มั่วซั่ว', 'ย่าง', 'รวดเร็วทันใจ', 'รังผึ้ง', 'ล้วนแล้วแต่', 'สัมผัส', 'หมก', 'หอยโข่ง', 'หา', 'ห้าม', 'อ่อน', 'เด็ดขาด', 'เนิ่นนาน', 'เผาะ', 'เรียบร้อย', 'เห็ด', 'แกง', 'แกงคั่ว', 'แซ่บ', 'แบ่ง', 'แม่เป้ง', 'โจทย์', 'โต๊ะ', 'ใกล้ชิด', 'ไหล', 'ข้าวเหนียว', 'งั้น', 'ทันใจ', 'ที่นั่ง', 'น่าเชื่อ', 'พนักงานบริการ', 'พัดลม', 'มุม', 'รับลม', 'ห่อ', 'เดิม', 'แอร์', 'โดน', 'ใบตอง', 'กรวดทราย', 'ขึ้นโต๊ะ', 'ถูกปาก', 'นึ่ง', 'ปริมาณ', 'ปูม้า', 'สด', 'สาขา', 'ส้มตำ', 'หมู', 'หรอ', 'หอม', 'หอย', 'อร่อย', 'เหมาะสม', 'แรง', 'แฮะ', 'ไว', 'กลบ', 'คาว', 'ชิ้น', 'ตับ', 'ตัว', 'น้ำตก', 'ปลาช่อน', 'ปลาดุก', 'มาตรฐาน', 'ลึกลับ', 'ลุย', 'วดี', 'สวน', 'หวาน', 'เค็ม', 'แซบ', 'แปลก', 'แล้', '\\u200bคน', 'กรุงเทพฯ', 'กลายเป็น', 'กิน', 'กินกัน', 'ของกิน', 'ค', 'ชาร์ต', 'ติด', 'ท็อป', 'บางอย่าง', 'ปกติ', 'ปรุงรส', 'พื้นบ้าน', 'ย่างกราย', 'รู้', 'ลอง', 'สิ', 'ส้ม', 'ฮิต', 'เบ', 'เหยียบ', 'แท้ๆ', 'แหล่ง', 'ไก่ย่าง', 'ดด', 'ดำ', 'นะคะ', 'นิล', 'นุ่ม', 'บดี', 'ฟ', 'มื้อ', 'ริ', 'หนัก', 'เนื้อ', 'เผา', 'เส', 'แจ่ว', 'แซ่', 'แบ่งงาน', 'กลางๆ', 'ขนาด', 'ชาติ', 'เดินทาง', 'เด็ด', 'เพาะ', 'เริ่ด', 'เอ็น', 'แทบ', '10', '14', '24', '29', 'กิจ', 'ขยาย', 'ซอย', 'ญ', 'ตอนนี้', 'ถนน', 'ประเสริฐ', 'ปากซอย', 'ปี', 'มนู', 'มัย', 'ย้าย', 'รามอินทรา', 'ริมถนน', 'ลาภ', 'แล้วด้วย', 'กลมกล่อม', 'กี่', 'ข้าว', 'ความอุดมสมบูรณ์', 'ความเป็นอยู่', 'ชัดเจน', 'ถ่ายทอด', 'ทำ', 'ทำอาหาร', 'ท้อง', 'ท้องถิ่น', 'ธัญญาหาร', 'นา', 'น้ำ', 'พืชพรรณ', 'พูดถึง', 'ภาพ', 'มองเห็น', 'มากเกินไป', 'วิถีชีวิต', 'สะ', 'เผ็ด', '30', 'กลับบ้าน', 'คุณภาพ', 'ชิม', 'ชื่อเสียง', 'บอ', 'ประถม', 'ร่ำ', 'สม', 'สมราคา', 'อกหัก', 'อายุ', 'เรียน', 'ได้ยิน', 'ไหว', 'ok', 'ค่า', 'จิ้ม', 'ชื่อ', 'ตบ', 'บริกร', 'ปางตาย', 'ห่วง', 'เกลือ', 'เลอ', 'ในที่สุด', 'ไม่ต้อง', 'กรุบ', 'กร้าน', 'ก้อย', 'ข้น', 'จาน', 'ดั้งเดิม', 'ที่มา', 'ลวก', 'สักที', 'หมัก', 'อี', 'เช้ม', 'แครง', 'โปรด', 'กลางกรุง', 'คนอื่น', 'น', 'ฟักทอง', 'หน้าตา', 'อิสาน', 'อิอิ', 'เก๋ไก๋', 'เป๋', 'เพียบ', 'แต่ง', 'แนว', 'โบราณ', 'ไก่ทอด', 'ไม่เบา', 'การ์เด้นท์', 'คัน', 'จอด', 'ซุป', 'ดาว', 'ด้านหน้า', 'ด้านหลัง', 'น้ำจิ้ม', 'ปู', 'ผม', 'รับรางวัล', 'รัย', 'สอง', 'สะใจ', 'สาม', 'สี่', 'หน่อไม้', 'หั่น', 'อันนี้', 'เบียน์', 'เสือร้องไห้', 'เหนียว', 'แกล้ม', 'โฮ', 'ใจมา', '', '50', 'ธรรมดา', 'มืด', 'ยัน', 'ยำ', 'หากิน', 'เริ่มต้น', '100', 'ขวามือ', 'ของหวาน', 'ช่อง', 'ตบท้าย', 'นิดนึง', 'ยนต์', 'รสจัด', 'ลอด', 'หลายครั้ง', 'หาย', 'เมตร', 'แนะนำ', '4', 'ชัย', 'วัง', 'หม่ำ', 'หิน', 'เชิญ', 'เบา', 'เพื่อน', 'แถว', 'แน่นอน', 'แหนม', 'โชค', '!!!', '12', 'ชุด', 'ประทับใจ', 'อบอุ่น', 'อิ่ม', '15', 'กบ', 'กะ', 'ขาดช่วง', 'คัง', 'จืด', 'ซั่ว', 'ดสรฟ', 'นาที', 'ปีก', 'ผัก', 'ม', 'มะเขือ', 'รีวิว', 'ร้า', 'ว้าก', 'สักนิด', 'หักคะแนน', 'เติม', 'คอ', 'ญาติ', 'มาจาก', 'หลัก', 'อนุ', 'อย่า', 'อีกครั้ง', 'ฮ่า', 'เจอ', 'เตือน', 'เหาะ', 'ๆๆ', 'คล้ายๆ', 'ตามตัว', 'ปลาร้า', 'รส', 'ส่วนตัว', 'เข้ม', 'โดยเฉพาะ', 'ใส่', 'ขม', 'ครัว', 'หิวจัด', 'เย็น', '.', 'กันลอง', 'กุ้ง', 'กุ้งฝอย', 'งือ', 'จำกัด', 'จิง', 'ดีแต่', 'ทิ่ม', 'นึกถึง', 'ปานกลาง', 'รู้จำ', 'ลิ้น', 'สักหน่อย', 'สาร', 'หนวด', 'หนุบ', 'เข้าเครื่อง', 'เครื่อง', 'เคี้ยว', 'เพดาน', 'เห', 'แพ้', 'ไหม', 'medium-rare', 'ซด', 'ประ', 'มาน', 'สุก', 'เยี่ยม', 'เริ่อยๆ', 'ได้ดี', 'ช๊อบ', 'ติดใจ', 'รำ', 'ร่อย', 'วา', 'โอกาศ', 'ใอ', '!!!!', 'กรอบ', 'ชาด', 'ทับ', 'ทึม', 'ร่มรื่น', 'ร้่าน', 'สำหรับ', 'อะ', 'แสน'])\n"
          ]
        },
        {
          "output_type": "stream",
          "name": "stderr",
          "text": [
            "/usr/local/lib/python3.10/dist-packages/ipykernel/ipkernel.py:283: DeprecationWarning: `should_run_async` will not call `transform_cell` automatically in the future. Please pass the result to `transformed_cell` argument and any exception that happen during thetransform in `preprocessing_exc_tuple` in IPython 7.17 and above.\n",
            "  and should_run_async(code)\n"
          ]
        }
      ]
    },
    {
      "cell_type": "code",
      "source": [
        "gensim_corpus = [ dictionary.doc2bow(tx, allow_update = True) for tx in texts ]\n",
        "word_frq = [ [ (dictionary[ides], frq) for ides, frq in coup ] for coup in gensim_corpus ]"
      ],
      "metadata": {
        "colab": {
          "base_uri": "https://localhost:8080/"
        },
        "id": "4Hy0OyKpft45",
        "outputId": "aa347a93-5b1f-4adb-9f41-276b7811ec02"
      },
      "execution_count": 32,
      "outputs": [
        {
          "output_type": "stream",
          "name": "stderr",
          "text": [
            "/usr/local/lib/python3.10/dist-packages/ipykernel/ipkernel.py:283: DeprecationWarning: `should_run_async` will not call `transform_cell` automatically in the future. Please pass the result to `transformed_cell` argument and any exception that happen during thetransform in `preprocessing_exc_tuple` in IPython 7.17 and above.\n",
            "  and should_run_async(code)\n"
          ]
        }
      ]
    },
    {
      "cell_type": "markdown",
      "source": [
        "## Topic Modeling using LDA"
      ],
      "metadata": {
        "id": "ANzJHRTokWhz"
      }
    },
    {
      "cell_type": "code",
      "source": [
        "num_topic = 30\n",
        "chunksize = 4000 # size of the doc looked at every pass\n",
        "passes = 20 # number of passes through documents\n",
        "iterations = 50\n",
        "eval_number = 1 # more number, more compute time spending\n",
        "\n",
        "# Make index to word dictionary\n",
        "temp = dictionary[0]\n",
        "id2word = dictionary.id2token\n",
        "\n",
        "%time\n",
        "model = gensim.models.LdaModel( corpus=gensim_corpus, id2word=id2word, chunksize=chunksize, alpha='auto', eta='auto'\n",
        "                               , iterations=iterations, num_topics=num_topic, passes=passes, eval_every=eval_number )"
      ],
      "metadata": {
        "colab": {
          "base_uri": "https://localhost:8080/"
        },
        "id": "X9cOYBq5fyPm",
        "outputId": "0e07b040-482f-464f-8dae-60b20e223aee"
      },
      "execution_count": 33,
      "outputs": [
        {
          "output_type": "stream",
          "name": "stderr",
          "text": [
            "/usr/local/lib/python3.10/dist-packages/ipykernel/ipkernel.py:283: DeprecationWarning: `should_run_async` will not call `transform_cell` automatically in the future. Please pass the result to `transformed_cell` argument and any exception that happen during thetransform in `preprocessing_exc_tuple` in IPython 7.17 and above.\n",
            "  and should_run_async(code)\n"
          ]
        },
        {
          "output_type": "stream",
          "name": "stdout",
          "text": [
            "CPU times: user 2 µs, sys: 0 ns, total: 2 µs\n",
            "Wall time: 4.77 µs\n"
          ]
        }
      ]
    },
    {
      "cell_type": "markdown",
      "source": [
        "### Predict Topics"
      ],
      "metadata": {
        "id": "U8TkiC6vkdOR"
      }
    },
    {
      "cell_type": "code",
      "source": [
        "model.show_topic(1)"
      ],
      "metadata": {
        "colab": {
          "base_uri": "https://localhost:8080/"
        },
        "id": "JgttCP0Mf2MD",
        "outputId": "571b1da6-5d82-4319-dedc-362032a38aa5"
      },
      "execution_count": 34,
      "outputs": [
        {
          "output_type": "stream",
          "name": "stderr",
          "text": [
            "/usr/local/lib/python3.10/dist-packages/ipykernel/ipkernel.py:283: DeprecationWarning: `should_run_async` will not call `transform_cell` automatically in the future. Please pass the result to `transformed_cell` argument and any exception that happen during thetransform in `preprocessing_exc_tuple` in IPython 7.17 and above.\n",
            "  and should_run_async(code)\n"
          ]
        },
        {
          "output_type": "execute_result",
          "data": {
            "text/plain": [
              "[('เป๋', 0.0020202019),\n",
              " ('แต่ง', 0.0020202019),\n",
              " ('หน้าตา', 0.0020202019),\n",
              " ('อิสาน', 0.0020202019),\n",
              " ('อิอิ', 0.0020202019),\n",
              " ('เก๋ไก๋', 0.0020202019),\n",
              " ('น', 0.0020202019),\n",
              " ('เพียบ', 0.0020202019),\n",
              " ('ไม่เบา', 0.0020202019),\n",
              " ('โบราณ', 0.0020202019)]"
            ]
          },
          "metadata": {},
          "execution_count": 34
        }
      ]
    },
    {
      "cell_type": "code",
      "source": [
        "df['topics'] = df['tokenized'].apply(lambda x: model.get_document_topics(dictionary.doc2bow(x.split(',')))[0][0])\n",
        "df['score'] = df['tokenized'].apply(lambda x: model.get_document_topics(dictionary.doc2bow(x.split(',')))[0][1])"
      ],
      "metadata": {
        "colab": {
          "base_uri": "https://localhost:8080/"
        },
        "id": "xSCJ59Nqjl0v",
        "outputId": "ec9a6f2e-b9c1-4b90-84d8-fee04fb52699"
      },
      "execution_count": 35,
      "outputs": [
        {
          "output_type": "stream",
          "name": "stderr",
          "text": [
            "/usr/local/lib/python3.10/dist-packages/ipykernel/ipkernel.py:283: DeprecationWarning: `should_run_async` will not call `transform_cell` automatically in the future. Please pass the result to `transformed_cell` argument and any exception that happen during thetransform in `preprocessing_exc_tuple` in IPython 7.17 and above.\n",
            "  and should_run_async(code)\n"
          ]
        }
      ]
    },
    {
      "cell_type": "code",
      "source": [
        "df.tail()"
      ],
      "metadata": {
        "colab": {
          "base_uri": "https://localhost:8080/",
          "height": 261
        },
        "id": "SrmJnyMPjnj1",
        "outputId": "2d0662a7-48db-4e25-c589-e8835a8306b7"
      },
      "execution_count": 36,
      "outputs": [
        {
          "output_type": "stream",
          "name": "stderr",
          "text": [
            "/usr/local/lib/python3.10/dist-packages/ipykernel/ipkernel.py:283: DeprecationWarning: `should_run_async` will not call `transform_cell` automatically in the future. Please pass the result to `transformed_cell` argument and any exception that happen during thetransform in `preprocessing_exc_tuple` in IPython 7.17 and above.\n",
            "  and should_run_async(code)\n"
          ]
        },
        {
          "output_type": "execute_result",
          "data": {
            "text/plain": [
              "                                              comment  \\\n",
              "25  ถ้าอยากแซ่บอาหารอีสารนึกถึงร้านนี้ตลอดรสชาติจั...   \n",
              "26  ร้านอาหารอีสานที่มีเมนูให้เลือกเยอะมาก วัตถุดิ...   \n",
              "27   อร่อยมากครับร้านนี้ อาหารรสชาติอีสานแท้ๆหากินยาก   \n",
              "28  อร่อยจริงจัง อร่อยสมคำรำรือ คนเยอะ บริการดี บร...   \n",
              "29  บรรยากาศในร้่านร่มรื่นดี รสชาดอร่อย มีเมนูให้เ...   \n",
              "\n",
              "                                            tokenized  topics     score  \n",
              "25  แซ่บ,อาหาร,อี,สาร,นึกถึง,รสชาติ,จัดจ้าน,อร่อย,...      19  0.990101  \n",
              "26  ร้านอาหาร,อีสาน,เมนู,เลือก,วัตถุดิบ,หากิน,แกง,...       4  0.983790  \n",
              "27                อร่อย,อาหาร,รสชาติ,อีสาน,แท้ๆ,หากิน      13  0.914189  \n",
              "28  อร่อย,อร่อย,สม,รำ,คน,บริการ,ดี,บริการ,ไว,อาหาร...      14  0.984091  \n",
              "29  บรรยากาศ,ร้่าน,ร่มรื่น,ดี,รส,ชาด,อร่อย,เมนู,เล...      15  0.988131  "
            ],
            "text/html": [
              "\n",
              "\n",
              "  <div id=\"df-aa974187-97bf-49e6-b4eb-e3f25706f1c5\">\n",
              "    <div class=\"colab-df-container\">\n",
              "      <div>\n",
              "<style scoped>\n",
              "    .dataframe tbody tr th:only-of-type {\n",
              "        vertical-align: middle;\n",
              "    }\n",
              "\n",
              "    .dataframe tbody tr th {\n",
              "        vertical-align: top;\n",
              "    }\n",
              "\n",
              "    .dataframe thead th {\n",
              "        text-align: right;\n",
              "    }\n",
              "</style>\n",
              "<table border=\"1\" class=\"dataframe\">\n",
              "  <thead>\n",
              "    <tr style=\"text-align: right;\">\n",
              "      <th></th>\n",
              "      <th>comment</th>\n",
              "      <th>tokenized</th>\n",
              "      <th>topics</th>\n",
              "      <th>score</th>\n",
              "    </tr>\n",
              "  </thead>\n",
              "  <tbody>\n",
              "    <tr>\n",
              "      <th>25</th>\n",
              "      <td>ถ้าอยากแซ่บอาหารอีสารนึกถึงร้านนี้ตลอดรสชาติจั...</td>\n",
              "      <td>แซ่บ,อาหาร,อี,สาร,นึกถึง,รสชาติ,จัดจ้าน,อร่อย,...</td>\n",
              "      <td>19</td>\n",
              "      <td>0.990101</td>\n",
              "    </tr>\n",
              "    <tr>\n",
              "      <th>26</th>\n",
              "      <td>ร้านอาหารอีสานที่มีเมนูให้เลือกเยอะมาก วัตถุดิ...</td>\n",
              "      <td>ร้านอาหาร,อีสาน,เมนู,เลือก,วัตถุดิบ,หากิน,แกง,...</td>\n",
              "      <td>4</td>\n",
              "      <td>0.983790</td>\n",
              "    </tr>\n",
              "    <tr>\n",
              "      <th>27</th>\n",
              "      <td>อร่อยมากครับร้านนี้ อาหารรสชาติอีสานแท้ๆหากินยาก</td>\n",
              "      <td>อร่อย,อาหาร,รสชาติ,อีสาน,แท้ๆ,หากิน</td>\n",
              "      <td>13</td>\n",
              "      <td>0.914189</td>\n",
              "    </tr>\n",
              "    <tr>\n",
              "      <th>28</th>\n",
              "      <td>อร่อยจริงจัง อร่อยสมคำรำรือ คนเยอะ บริการดี บร...</td>\n",
              "      <td>อร่อย,อร่อย,สม,รำ,คน,บริการ,ดี,บริการ,ไว,อาหาร...</td>\n",
              "      <td>14</td>\n",
              "      <td>0.984091</td>\n",
              "    </tr>\n",
              "    <tr>\n",
              "      <th>29</th>\n",
              "      <td>บรรยากาศในร้่านร่มรื่นดี รสชาดอร่อย มีเมนูให้เ...</td>\n",
              "      <td>บรรยากาศ,ร้่าน,ร่มรื่น,ดี,รส,ชาด,อร่อย,เมนู,เล...</td>\n",
              "      <td>15</td>\n",
              "      <td>0.988131</td>\n",
              "    </tr>\n",
              "  </tbody>\n",
              "</table>\n",
              "</div>\n",
              "      <button class=\"colab-df-convert\" onclick=\"convertToInteractive('df-aa974187-97bf-49e6-b4eb-e3f25706f1c5')\"\n",
              "              title=\"Convert this dataframe to an interactive table.\"\n",
              "              style=\"display:none;\">\n",
              "\n",
              "  <svg xmlns=\"http://www.w3.org/2000/svg\" height=\"24px\"viewBox=\"0 0 24 24\"\n",
              "       width=\"24px\">\n",
              "    <path d=\"M0 0h24v24H0V0z\" fill=\"none\"/>\n",
              "    <path d=\"M18.56 5.44l.94 2.06.94-2.06 2.06-.94-2.06-.94-.94-2.06-.94 2.06-2.06.94zm-11 1L8.5 8.5l.94-2.06 2.06-.94-2.06-.94L8.5 2.5l-.94 2.06-2.06.94zm10 10l.94 2.06.94-2.06 2.06-.94-2.06-.94-.94-2.06-.94 2.06-2.06.94z\"/><path d=\"M17.41 7.96l-1.37-1.37c-.4-.4-.92-.59-1.43-.59-.52 0-1.04.2-1.43.59L10.3 9.45l-7.72 7.72c-.78.78-.78 2.05 0 2.83L4 21.41c.39.39.9.59 1.41.59.51 0 1.02-.2 1.41-.59l7.78-7.78 2.81-2.81c.8-.78.8-2.07 0-2.86zM5.41 20L4 18.59l7.72-7.72 1.47 1.35L5.41 20z\"/>\n",
              "  </svg>\n",
              "      </button>\n",
              "\n",
              "\n",
              "\n",
              "    <div id=\"df-daa0d102-16f7-4cbf-a468-5888ca625c17\">\n",
              "      <button class=\"colab-df-quickchart\" onclick=\"quickchart('df-daa0d102-16f7-4cbf-a468-5888ca625c17')\"\n",
              "              title=\"Suggest charts.\"\n",
              "              style=\"display:none;\">\n",
              "\n",
              "<svg xmlns=\"http://www.w3.org/2000/svg\" height=\"24px\"viewBox=\"0 0 24 24\"\n",
              "     width=\"24px\">\n",
              "    <g>\n",
              "        <path d=\"M19 3H5c-1.1 0-2 .9-2 2v14c0 1.1.9 2 2 2h14c1.1 0 2-.9 2-2V5c0-1.1-.9-2-2-2zM9 17H7v-7h2v7zm4 0h-2V7h2v10zm4 0h-2v-4h2v4z\"/>\n",
              "    </g>\n",
              "</svg>\n",
              "      </button>\n",
              "    </div>\n",
              "\n",
              "<style>\n",
              "  .colab-df-quickchart {\n",
              "    background-color: #E8F0FE;\n",
              "    border: none;\n",
              "    border-radius: 50%;\n",
              "    cursor: pointer;\n",
              "    display: none;\n",
              "    fill: #1967D2;\n",
              "    height: 32px;\n",
              "    padding: 0 0 0 0;\n",
              "    width: 32px;\n",
              "  }\n",
              "\n",
              "  .colab-df-quickchart:hover {\n",
              "    background-color: #E2EBFA;\n",
              "    box-shadow: 0px 1px 2px rgba(60, 64, 67, 0.3), 0px 1px 3px 1px rgba(60, 64, 67, 0.15);\n",
              "    fill: #174EA6;\n",
              "  }\n",
              "\n",
              "  [theme=dark] .colab-df-quickchart {\n",
              "    background-color: #3B4455;\n",
              "    fill: #D2E3FC;\n",
              "  }\n",
              "\n",
              "  [theme=dark] .colab-df-quickchart:hover {\n",
              "    background-color: #434B5C;\n",
              "    box-shadow: 0px 1px 3px 1px rgba(0, 0, 0, 0.15);\n",
              "    filter: drop-shadow(0px 1px 2px rgba(0, 0, 0, 0.3));\n",
              "    fill: #FFFFFF;\n",
              "  }\n",
              "</style>\n",
              "\n",
              "    <script>\n",
              "      async function quickchart(key) {\n",
              "        const containerElement = document.querySelector('#' + key);\n",
              "        const charts = await google.colab.kernel.invokeFunction(\n",
              "            'suggestCharts', [key], {});\n",
              "      }\n",
              "    </script>\n",
              "\n",
              "      <script>\n",
              "\n",
              "function displayQuickchartButton(domScope) {\n",
              "  let quickchartButtonEl =\n",
              "    domScope.querySelector('#df-daa0d102-16f7-4cbf-a468-5888ca625c17 button.colab-df-quickchart');\n",
              "  quickchartButtonEl.style.display =\n",
              "    google.colab.kernel.accessAllowed ? 'block' : 'none';\n",
              "}\n",
              "\n",
              "        displayQuickchartButton(document);\n",
              "      </script>\n",
              "      <style>\n",
              "    .colab-df-container {\n",
              "      display:flex;\n",
              "      flex-wrap:wrap;\n",
              "      gap: 12px;\n",
              "    }\n",
              "\n",
              "    .colab-df-convert {\n",
              "      background-color: #E8F0FE;\n",
              "      border: none;\n",
              "      border-radius: 50%;\n",
              "      cursor: pointer;\n",
              "      display: none;\n",
              "      fill: #1967D2;\n",
              "      height: 32px;\n",
              "      padding: 0 0 0 0;\n",
              "      width: 32px;\n",
              "    }\n",
              "\n",
              "    .colab-df-convert:hover {\n",
              "      background-color: #E2EBFA;\n",
              "      box-shadow: 0px 1px 2px rgba(60, 64, 67, 0.3), 0px 1px 3px 1px rgba(60, 64, 67, 0.15);\n",
              "      fill: #174EA6;\n",
              "    }\n",
              "\n",
              "    [theme=dark] .colab-df-convert {\n",
              "      background-color: #3B4455;\n",
              "      fill: #D2E3FC;\n",
              "    }\n",
              "\n",
              "    [theme=dark] .colab-df-convert:hover {\n",
              "      background-color: #434B5C;\n",
              "      box-shadow: 0px 1px 3px 1px rgba(0, 0, 0, 0.15);\n",
              "      filter: drop-shadow(0px 1px 2px rgba(0, 0, 0, 0.3));\n",
              "      fill: #FFFFFF;\n",
              "    }\n",
              "  </style>\n",
              "\n",
              "      <script>\n",
              "        const buttonEl =\n",
              "          document.querySelector('#df-aa974187-97bf-49e6-b4eb-e3f25706f1c5 button.colab-df-convert');\n",
              "        buttonEl.style.display =\n",
              "          google.colab.kernel.accessAllowed ? 'block' : 'none';\n",
              "\n",
              "        async function convertToInteractive(key) {\n",
              "          const element = document.querySelector('#df-aa974187-97bf-49e6-b4eb-e3f25706f1c5');\n",
              "          const dataTable =\n",
              "            await google.colab.kernel.invokeFunction('convertToInteractive',\n",
              "                                                     [key], {});\n",
              "          if (!dataTable) return;\n",
              "\n",
              "          const docLinkHtml = 'Like what you see? Visit the ' +\n",
              "            '<a target=\"_blank\" href=https://colab.research.google.com/notebooks/data_table.ipynb>data table notebook</a>'\n",
              "            + ' to learn more about interactive tables.';\n",
              "          element.innerHTML = '';\n",
              "          dataTable['output_type'] = 'display_data';\n",
              "          await google.colab.output.renderOutput(dataTable, element);\n",
              "          const docLink = document.createElement('div');\n",
              "          docLink.innerHTML = docLinkHtml;\n",
              "          element.appendChild(docLink);\n",
              "        }\n",
              "      </script>\n",
              "    </div>\n",
              "  </div>\n"
            ]
          },
          "metadata": {},
          "execution_count": 36
        }
      ]
    },
    {
      "cell_type": "markdown",
      "source": [
        "# Document Clustering"
      ],
      "metadata": {
        "id": "pLrI_YPdlNae"
      }
    },
    {
      "cell_type": "code",
      "source": [
        "module_url = 'https://tfhub.dev/google/universal-sentence-encoder-multilingual/3' #'https://tfhub.dev/google/universal-sentence-encoder-multilingual/3' for a large model\n",
        "model = hub.load(module_url)\n",
        "\n",
        "df.tail()"
      ],
      "metadata": {
        "colab": {
          "base_uri": "https://localhost:8080/",
          "height": 261
        },
        "id": "-00c7fqxlUUk",
        "outputId": "05b8b7bf-06e3-47b9-c255-0729ae7e48ae"
      },
      "execution_count": 40,
      "outputs": [
        {
          "output_type": "stream",
          "name": "stderr",
          "text": [
            "/usr/local/lib/python3.10/dist-packages/ipykernel/ipkernel.py:283: DeprecationWarning: `should_run_async` will not call `transform_cell` automatically in the future. Please pass the result to `transformed_cell` argument and any exception that happen during thetransform in `preprocessing_exc_tuple` in IPython 7.17 and above.\n",
            "  and should_run_async(code)\n"
          ]
        },
        {
          "output_type": "execute_result",
          "data": {
            "text/plain": [
              "                                              comment  \\\n",
              "25  ถ้าอยากแซ่บอาหารอีสารนึกถึงร้านนี้ตลอดรสชาติจั...   \n",
              "26  ร้านอาหารอีสานที่มีเมนูให้เลือกเยอะมาก วัตถุดิ...   \n",
              "27   อร่อยมากครับร้านนี้ อาหารรสชาติอีสานแท้ๆหากินยาก   \n",
              "28  อร่อยจริงจัง อร่อยสมคำรำรือ คนเยอะ บริการดี บร...   \n",
              "29  บรรยากาศในร้่านร่มรื่นดี รสชาดอร่อย มีเมนูให้เ...   \n",
              "\n",
              "                                            tokenized  topics     score  \n",
              "25  แซ่บ,อาหาร,อี,สาร,นึกถึง,รสชาติ,จัดจ้าน,อร่อย,...      19  0.990101  \n",
              "26  ร้านอาหาร,อีสาน,เมนู,เลือก,วัตถุดิบ,หากิน,แกง,...       4  0.983790  \n",
              "27                อร่อย,อาหาร,รสชาติ,อีสาน,แท้ๆ,หากิน      13  0.914189  \n",
              "28  อร่อย,อร่อย,สม,รำ,คน,บริการ,ดี,บริการ,ไว,อาหาร...      14  0.984091  \n",
              "29  บรรยากาศ,ร้่าน,ร่มรื่น,ดี,รส,ชาด,อร่อย,เมนู,เล...      15  0.988131  "
            ],
            "text/html": [
              "\n",
              "\n",
              "  <div id=\"df-a89fc976-dc9e-4b35-a686-d10efee52bc6\">\n",
              "    <div class=\"colab-df-container\">\n",
              "      <div>\n",
              "<style scoped>\n",
              "    .dataframe tbody tr th:only-of-type {\n",
              "        vertical-align: middle;\n",
              "    }\n",
              "\n",
              "    .dataframe tbody tr th {\n",
              "        vertical-align: top;\n",
              "    }\n",
              "\n",
              "    .dataframe thead th {\n",
              "        text-align: right;\n",
              "    }\n",
              "</style>\n",
              "<table border=\"1\" class=\"dataframe\">\n",
              "  <thead>\n",
              "    <tr style=\"text-align: right;\">\n",
              "      <th></th>\n",
              "      <th>comment</th>\n",
              "      <th>tokenized</th>\n",
              "      <th>topics</th>\n",
              "      <th>score</th>\n",
              "    </tr>\n",
              "  </thead>\n",
              "  <tbody>\n",
              "    <tr>\n",
              "      <th>25</th>\n",
              "      <td>ถ้าอยากแซ่บอาหารอีสารนึกถึงร้านนี้ตลอดรสชาติจั...</td>\n",
              "      <td>แซ่บ,อาหาร,อี,สาร,นึกถึง,รสชาติ,จัดจ้าน,อร่อย,...</td>\n",
              "      <td>19</td>\n",
              "      <td>0.990101</td>\n",
              "    </tr>\n",
              "    <tr>\n",
              "      <th>26</th>\n",
              "      <td>ร้านอาหารอีสานที่มีเมนูให้เลือกเยอะมาก วัตถุดิ...</td>\n",
              "      <td>ร้านอาหาร,อีสาน,เมนู,เลือก,วัตถุดิบ,หากิน,แกง,...</td>\n",
              "      <td>4</td>\n",
              "      <td>0.983790</td>\n",
              "    </tr>\n",
              "    <tr>\n",
              "      <th>27</th>\n",
              "      <td>อร่อยมากครับร้านนี้ อาหารรสชาติอีสานแท้ๆหากินยาก</td>\n",
              "      <td>อร่อย,อาหาร,รสชาติ,อีสาน,แท้ๆ,หากิน</td>\n",
              "      <td>13</td>\n",
              "      <td>0.914189</td>\n",
              "    </tr>\n",
              "    <tr>\n",
              "      <th>28</th>\n",
              "      <td>อร่อยจริงจัง อร่อยสมคำรำรือ คนเยอะ บริการดี บร...</td>\n",
              "      <td>อร่อย,อร่อย,สม,รำ,คน,บริการ,ดี,บริการ,ไว,อาหาร...</td>\n",
              "      <td>14</td>\n",
              "      <td>0.984091</td>\n",
              "    </tr>\n",
              "    <tr>\n",
              "      <th>29</th>\n",
              "      <td>บรรยากาศในร้่านร่มรื่นดี รสชาดอร่อย มีเมนูให้เ...</td>\n",
              "      <td>บรรยากาศ,ร้่าน,ร่มรื่น,ดี,รส,ชาด,อร่อย,เมนู,เล...</td>\n",
              "      <td>15</td>\n",
              "      <td>0.988131</td>\n",
              "    </tr>\n",
              "  </tbody>\n",
              "</table>\n",
              "</div>\n",
              "      <button class=\"colab-df-convert\" onclick=\"convertToInteractive('df-a89fc976-dc9e-4b35-a686-d10efee52bc6')\"\n",
              "              title=\"Convert this dataframe to an interactive table.\"\n",
              "              style=\"display:none;\">\n",
              "\n",
              "  <svg xmlns=\"http://www.w3.org/2000/svg\" height=\"24px\"viewBox=\"0 0 24 24\"\n",
              "       width=\"24px\">\n",
              "    <path d=\"M0 0h24v24H0V0z\" fill=\"none\"/>\n",
              "    <path d=\"M18.56 5.44l.94 2.06.94-2.06 2.06-.94-2.06-.94-.94-2.06-.94 2.06-2.06.94zm-11 1L8.5 8.5l.94-2.06 2.06-.94-2.06-.94L8.5 2.5l-.94 2.06-2.06.94zm10 10l.94 2.06.94-2.06 2.06-.94-2.06-.94-.94-2.06-.94 2.06-2.06.94z\"/><path d=\"M17.41 7.96l-1.37-1.37c-.4-.4-.92-.59-1.43-.59-.52 0-1.04.2-1.43.59L10.3 9.45l-7.72 7.72c-.78.78-.78 2.05 0 2.83L4 21.41c.39.39.9.59 1.41.59.51 0 1.02-.2 1.41-.59l7.78-7.78 2.81-2.81c.8-.78.8-2.07 0-2.86zM5.41 20L4 18.59l7.72-7.72 1.47 1.35L5.41 20z\"/>\n",
              "  </svg>\n",
              "      </button>\n",
              "\n",
              "\n",
              "\n",
              "    <div id=\"df-031d1c0c-f959-420b-a8d0-6451d9c96683\">\n",
              "      <button class=\"colab-df-quickchart\" onclick=\"quickchart('df-031d1c0c-f959-420b-a8d0-6451d9c96683')\"\n",
              "              title=\"Suggest charts.\"\n",
              "              style=\"display:none;\">\n",
              "\n",
              "<svg xmlns=\"http://www.w3.org/2000/svg\" height=\"24px\"viewBox=\"0 0 24 24\"\n",
              "     width=\"24px\">\n",
              "    <g>\n",
              "        <path d=\"M19 3H5c-1.1 0-2 .9-2 2v14c0 1.1.9 2 2 2h14c1.1 0 2-.9 2-2V5c0-1.1-.9-2-2-2zM9 17H7v-7h2v7zm4 0h-2V7h2v10zm4 0h-2v-4h2v4z\"/>\n",
              "    </g>\n",
              "</svg>\n",
              "      </button>\n",
              "    </div>\n",
              "\n",
              "<style>\n",
              "  .colab-df-quickchart {\n",
              "    background-color: #E8F0FE;\n",
              "    border: none;\n",
              "    border-radius: 50%;\n",
              "    cursor: pointer;\n",
              "    display: none;\n",
              "    fill: #1967D2;\n",
              "    height: 32px;\n",
              "    padding: 0 0 0 0;\n",
              "    width: 32px;\n",
              "  }\n",
              "\n",
              "  .colab-df-quickchart:hover {\n",
              "    background-color: #E2EBFA;\n",
              "    box-shadow: 0px 1px 2px rgba(60, 64, 67, 0.3), 0px 1px 3px 1px rgba(60, 64, 67, 0.15);\n",
              "    fill: #174EA6;\n",
              "  }\n",
              "\n",
              "  [theme=dark] .colab-df-quickchart {\n",
              "    background-color: #3B4455;\n",
              "    fill: #D2E3FC;\n",
              "  }\n",
              "\n",
              "  [theme=dark] .colab-df-quickchart:hover {\n",
              "    background-color: #434B5C;\n",
              "    box-shadow: 0px 1px 3px 1px rgba(0, 0, 0, 0.15);\n",
              "    filter: drop-shadow(0px 1px 2px rgba(0, 0, 0, 0.3));\n",
              "    fill: #FFFFFF;\n",
              "  }\n",
              "</style>\n",
              "\n",
              "    <script>\n",
              "      async function quickchart(key) {\n",
              "        const containerElement = document.querySelector('#' + key);\n",
              "        const charts = await google.colab.kernel.invokeFunction(\n",
              "            'suggestCharts', [key], {});\n",
              "      }\n",
              "    </script>\n",
              "\n",
              "      <script>\n",
              "\n",
              "function displayQuickchartButton(domScope) {\n",
              "  let quickchartButtonEl =\n",
              "    domScope.querySelector('#df-031d1c0c-f959-420b-a8d0-6451d9c96683 button.colab-df-quickchart');\n",
              "  quickchartButtonEl.style.display =\n",
              "    google.colab.kernel.accessAllowed ? 'block' : 'none';\n",
              "}\n",
              "\n",
              "        displayQuickchartButton(document);\n",
              "      </script>\n",
              "      <style>\n",
              "    .colab-df-container {\n",
              "      display:flex;\n",
              "      flex-wrap:wrap;\n",
              "      gap: 12px;\n",
              "    }\n",
              "\n",
              "    .colab-df-convert {\n",
              "      background-color: #E8F0FE;\n",
              "      border: none;\n",
              "      border-radius: 50%;\n",
              "      cursor: pointer;\n",
              "      display: none;\n",
              "      fill: #1967D2;\n",
              "      height: 32px;\n",
              "      padding: 0 0 0 0;\n",
              "      width: 32px;\n",
              "    }\n",
              "\n",
              "    .colab-df-convert:hover {\n",
              "      background-color: #E2EBFA;\n",
              "      box-shadow: 0px 1px 2px rgba(60, 64, 67, 0.3), 0px 1px 3px 1px rgba(60, 64, 67, 0.15);\n",
              "      fill: #174EA6;\n",
              "    }\n",
              "\n",
              "    [theme=dark] .colab-df-convert {\n",
              "      background-color: #3B4455;\n",
              "      fill: #D2E3FC;\n",
              "    }\n",
              "\n",
              "    [theme=dark] .colab-df-convert:hover {\n",
              "      background-color: #434B5C;\n",
              "      box-shadow: 0px 1px 3px 1px rgba(0, 0, 0, 0.15);\n",
              "      filter: drop-shadow(0px 1px 2px rgba(0, 0, 0, 0.3));\n",
              "      fill: #FFFFFF;\n",
              "    }\n",
              "  </style>\n",
              "\n",
              "      <script>\n",
              "        const buttonEl =\n",
              "          document.querySelector('#df-a89fc976-dc9e-4b35-a686-d10efee52bc6 button.colab-df-convert');\n",
              "        buttonEl.style.display =\n",
              "          google.colab.kernel.accessAllowed ? 'block' : 'none';\n",
              "\n",
              "        async function convertToInteractive(key) {\n",
              "          const element = document.querySelector('#df-a89fc976-dc9e-4b35-a686-d10efee52bc6');\n",
              "          const dataTable =\n",
              "            await google.colab.kernel.invokeFunction('convertToInteractive',\n",
              "                                                     [key], {});\n",
              "          if (!dataTable) return;\n",
              "\n",
              "          const docLinkHtml = 'Like what you see? Visit the ' +\n",
              "            '<a target=\"_blank\" href=https://colab.research.google.com/notebooks/data_table.ipynb>data table notebook</a>'\n",
              "            + ' to learn more about interactive tables.';\n",
              "          element.innerHTML = '';\n",
              "          dataTable['output_type'] = 'display_data';\n",
              "          await google.colab.output.renderOutput(dataTable, element);\n",
              "          const docLink = document.createElement('div');\n",
              "          docLink.innerHTML = docLinkHtml;\n",
              "          element.appendChild(docLink);\n",
              "        }\n",
              "      </script>\n",
              "    </div>\n",
              "  </div>\n"
            ]
          },
          "metadata": {},
          "execution_count": 40
        }
      ]
    },
    {
      "cell_type": "code",
      "source": [
        "umap_embed_comments_array = model(df['comment'].values).numpy()\n",
        "umap_embed_comments_array"
      ],
      "metadata": {
        "colab": {
          "base_uri": "https://localhost:8080/"
        },
        "id": "HXIvaGFGliGs",
        "outputId": "0d6f059b-ce9a-4e48-9abe-900450d1017c"
      },
      "execution_count": 41,
      "outputs": [
        {
          "output_type": "stream",
          "name": "stderr",
          "text": [
            "/usr/local/lib/python3.10/dist-packages/ipykernel/ipkernel.py:283: DeprecationWarning: `should_run_async` will not call `transform_cell` automatically in the future. Please pass the result to `transformed_cell` argument and any exception that happen during thetransform in `preprocessing_exc_tuple` in IPython 7.17 and above.\n",
            "  and should_run_async(code)\n"
          ]
        },
        {
          "output_type": "execute_result",
          "data": {
            "text/plain": [
              "array([[ 0.06239085,  0.02341959, -0.05474147, ..., -0.07703752,\n",
              "         0.03565162, -0.05284417],\n",
              "       [ 0.05151007, -0.00891536, -0.01016504, ..., -0.03122991,\n",
              "         0.02428049, -0.0585911 ],\n",
              "       [ 0.06771431,  0.02843144,  0.03431313, ...,  0.01575895,\n",
              "         0.05975469,  0.01577946],\n",
              "       ...,\n",
              "       [-0.08424967, -0.06205361, -0.01469362, ..., -0.02696568,\n",
              "        -0.0136725 , -0.06949568],\n",
              "       [ 0.10663341, -0.01697206,  0.0146763 , ...,  0.05457323,\n",
              "        -0.00455384,  0.07856175],\n",
              "       [ 0.06915145, -0.01459435, -0.07304476, ..., -0.0496542 ,\n",
              "         0.02691961, -0.05151155]], dtype=float32)"
            ]
          },
          "metadata": {},
          "execution_count": 41
        }
      ]
    },
    {
      "cell_type": "code",
      "source": [
        "# reducer = umap.UMAP(random_state=42,n_components=25)\n",
        "# umap_embed_comments_array = reducer.fit_transform(embed_cm)"
      ],
      "metadata": {
        "colab": {
          "base_uri": "https://localhost:8080/"
        },
        "id": "o4VkvSc4llv3",
        "outputId": "cc77f9a4-fbb4-4e96-b736-e7575809c4e3"
      },
      "execution_count": 42,
      "outputs": [
        {
          "output_type": "stream",
          "name": "stderr",
          "text": [
            "/usr/local/lib/python3.10/dist-packages/ipykernel/ipkernel.py:283: DeprecationWarning: `should_run_async` will not call `transform_cell` automatically in the future. Please pass the result to `transformed_cell` argument and any exception that happen during thetransform in `preprocessing_exc_tuple` in IPython 7.17 and above.\n",
            "  and should_run_async(code)\n"
          ]
        }
      ]
    },
    {
      "cell_type": "code",
      "source": [
        "#run kmeans with various number of k. evaluate no. of k based on the elbow plot\n",
        "wcss=[]\n",
        "max_k = 10\n",
        "\n",
        "for i in range(1, max_k):\n",
        "    kmeans = KMeans(i)\n",
        "    kmeans.fit(umap_embed_comments_array)\n",
        "    wcss_iter = kmeans.inertia_\n",
        "    wcss.append(wcss_iter)\n",
        "    number_clusters = range(1, max_k)\n",
        "\n",
        "plt.plot(number_clusters,wcss)\n",
        "plt.title('The Elbow title')\n",
        "plt.xlabel('Number of clusters')\n",
        "plt.ylabel('WCSS')"
      ],
      "metadata": {
        "colab": {
          "base_uri": "https://localhost:8080/",
          "height": 1000
        },
        "id": "rAZcCm_tnUJ9",
        "outputId": "ff08e3a9-bc1c-4c7a-cff0-c18324632a82"
      },
      "execution_count": 43,
      "outputs": [
        {
          "output_type": "stream",
          "name": "stderr",
          "text": [
            "/usr/local/lib/python3.10/dist-packages/ipykernel/ipkernel.py:283: DeprecationWarning: `should_run_async` will not call `transform_cell` automatically in the future. Please pass the result to `transformed_cell` argument and any exception that happen during thetransform in `preprocessing_exc_tuple` in IPython 7.17 and above.\n",
            "  and should_run_async(code)\n",
            "/usr/local/lib/python3.10/dist-packages/sklearn/cluster/_kmeans.py:870: FutureWarning: The default value of `n_init` will change from 10 to 'auto' in 1.4. Set the value of `n_init` explicitly to suppress the warning\n",
            "  warnings.warn(\n",
            "Exception ignored on calling ctypes callback function: <function ThreadpoolController._find_libraries_with_dl_iterate_phdr.<locals>.match_library_callback at 0x7d51ffc9b490>\n",
            "Traceback (most recent call last):\n",
            "  File \"/usr/local/lib/python3.10/dist-packages/threadpoolctl.py\", line 847, in match_library_callback\n",
            "    self._make_controller_from_path(filepath)\n",
            "  File \"/usr/local/lib/python3.10/dist-packages/threadpoolctl.py\", line 984, in _make_controller_from_path\n",
            "    lib_controller = controller_class(filepath=filepath, prefix=prefix)\n",
            "  File \"/usr/local/lib/python3.10/dist-packages/threadpoolctl.py\", line 111, in __init__\n",
            "    self.dynlib = ctypes.CDLL(filepath, mode=_RTLD_NOLOAD)\n",
            "  File \"/usr/lib/python3.10/ctypes/__init__.py\", line 374, in __init__\n",
            "    self._handle = _dlopen(self._name, mode)\n",
            "OSError: /usr/local/lib/python3.10/dist-packages/numpy.libs/libopenblas64_p-r0-5007b62f.3.23.dev.so: cannot open shared object file: No such file or directory\n",
            "/usr/local/lib/python3.10/dist-packages/sklearn/cluster/_kmeans.py:870: FutureWarning: The default value of `n_init` will change from 10 to 'auto' in 1.4. Set the value of `n_init` explicitly to suppress the warning\n",
            "  warnings.warn(\n",
            "/usr/local/lib/python3.10/dist-packages/sklearn/cluster/_kmeans.py:870: FutureWarning: The default value of `n_init` will change from 10 to 'auto' in 1.4. Set the value of `n_init` explicitly to suppress the warning\n",
            "  warnings.warn(\n",
            "/usr/local/lib/python3.10/dist-packages/sklearn/cluster/_kmeans.py:870: FutureWarning: The default value of `n_init` will change from 10 to 'auto' in 1.4. Set the value of `n_init` explicitly to suppress the warning\n",
            "  warnings.warn(\n",
            "/usr/local/lib/python3.10/dist-packages/sklearn/cluster/_kmeans.py:870: FutureWarning: The default value of `n_init` will change from 10 to 'auto' in 1.4. Set the value of `n_init` explicitly to suppress the warning\n",
            "  warnings.warn(\n",
            "/usr/local/lib/python3.10/dist-packages/sklearn/cluster/_kmeans.py:870: FutureWarning: The default value of `n_init` will change from 10 to 'auto' in 1.4. Set the value of `n_init` explicitly to suppress the warning\n",
            "  warnings.warn(\n",
            "/usr/local/lib/python3.10/dist-packages/sklearn/cluster/_kmeans.py:870: FutureWarning: The default value of `n_init` will change from 10 to 'auto' in 1.4. Set the value of `n_init` explicitly to suppress the warning\n",
            "  warnings.warn(\n",
            "/usr/local/lib/python3.10/dist-packages/sklearn/cluster/_kmeans.py:870: FutureWarning: The default value of `n_init` will change from 10 to 'auto' in 1.4. Set the value of `n_init` explicitly to suppress the warning\n",
            "  warnings.warn(\n",
            "/usr/local/lib/python3.10/dist-packages/sklearn/cluster/_kmeans.py:870: FutureWarning: The default value of `n_init` will change from 10 to 'auto' in 1.4. Set the value of `n_init` explicitly to suppress the warning\n",
            "  warnings.warn(\n"
          ]
        },
        {
          "output_type": "execute_result",
          "data": {
            "text/plain": [
              "Text(0, 0.5, 'WCSS')"
            ]
          },
          "metadata": {},
          "execution_count": 43
        },
        {
          "output_type": "display_data",
          "data": {
            "text/plain": [
              "<Figure size 640x480 with 1 Axes>"
            ],
            "image/png": "[encoded data removed]"
          },
          "metadata": {}
        }
      ]
    },
    {
      "cell_type": "code",
      "source": [
        "#run kmeans with no. of clusters you see fit the most\n",
        "k = 4\n",
        "kmeans = KMeans(n_clusters = k)\n",
        "kmeans.fit(umap_embed_comments_array)\n",
        "df['KMeans ID'] = kmeans.labels_"
      ],
      "metadata": {
        "colab": {
          "base_uri": "https://localhost:8080/"
        },
        "id": "fxkiPPsunxZg",
        "outputId": "09c9ae9c-a5c3-42d1-9e5f-f61eadce5f6e"
      },
      "execution_count": 44,
      "outputs": [
        {
          "output_type": "stream",
          "name": "stderr",
          "text": [
            "/usr/local/lib/python3.10/dist-packages/ipykernel/ipkernel.py:283: DeprecationWarning: `should_run_async` will not call `transform_cell` automatically in the future. Please pass the result to `transformed_cell` argument and any exception that happen during thetransform in `preprocessing_exc_tuple` in IPython 7.17 and above.\n",
            "  and should_run_async(code)\n",
            "/usr/local/lib/python3.10/dist-packages/sklearn/cluster/_kmeans.py:870: FutureWarning: The default value of `n_init` will change from 10 to 'auto' in 1.4. Set the value of `n_init` explicitly to suppress the warning\n",
            "  warnings.warn(\n"
          ]
        }
      ]
    },
    {
      "cell_type": "code",
      "source": [
        "#merge all reviews of each cluster into one big sentence\n",
        "df_kmeans = pd.DataFrame(columns=[\"KMeans ID\", \"texts\"])\n",
        "\n",
        "for i in range(0, k):\n",
        "    row = []\n",
        "    row.append(i)\n",
        "    row.append(df['comment'][df['KMeans ID'] == i].to_string())\n",
        "    df_kmeans.loc[len(df_kmeans)] = row"
      ],
      "metadata": {
        "colab": {
          "base_uri": "https://localhost:8080/"
        },
        "id": "DYktuHUqoNjc",
        "outputId": "f89d3b01-17fd-436c-f4d5-14b8238b3c2f"
      },
      "execution_count": 45,
      "outputs": [
        {
          "output_type": "stream",
          "name": "stderr",
          "text": [
            "/usr/local/lib/python3.10/dist-packages/ipykernel/ipkernel.py:283: DeprecationWarning: `should_run_async` will not call `transform_cell` automatically in the future. Please pass the result to `transformed_cell` argument and any exception that happen during thetransform in `preprocessing_exc_tuple` in IPython 7.17 and above.\n",
            "  and should_run_async(code)\n"
          ]
        }
      ]
    },
    {
      "cell_type": "code",
      "source": [
        "df_kmeans"
      ],
      "metadata": {
        "colab": {
          "base_uri": "https://localhost:8080/",
          "height": 230
        },
        "id": "s-TsYpQGoVF0",
        "outputId": "82aaab01-864e-4a2b-c956-ee7579493090"
      },
      "execution_count": 46,
      "outputs": [
        {
          "output_type": "stream",
          "name": "stderr",
          "text": [
            "/usr/local/lib/python3.10/dist-packages/ipykernel/ipkernel.py:283: DeprecationWarning: `should_run_async` will not call `transform_cell` automatically in the future. Please pass the result to `transformed_cell` argument and any exception that happen during thetransform in `preprocessing_exc_tuple` in IPython 7.17 and above.\n",
            "  and should_run_async(code)\n"
          ]
        },
        {
          "output_type": "execute_result",
          "data": {
            "text/plain": [
              "   KMeans ID                                              texts\n",
              "0          0  8     ร้านส้มตำลาวนะคะ ร้านใหญ่ประมาณหนึ่งเลยน...\n",
              "1          1  0     ครกไม้ไทยลาว เอารถไปเข้าศูนย์ที่เลียบด่ว...\n",
              "2          2  11    มีร้านอาหารเพียงไม่กี่ร้านที่สามารถทำอาห...\n",
              "3          3  10    เมื่อก่อนนานมากแล้ว(เกิน 10ปีมาละ) เคยได..."
            ],
            "text/html": [
              "\n",
              "\n",
              "  <div id=\"df-a12e49ca-9f14-499b-a81e-35cb2a96f245\">\n",
              "    <div class=\"colab-df-container\">\n",
              "      <div>\n",
              "<style scoped>\n",
              "    .dataframe tbody tr th:only-of-type {\n",
              "        vertical-align: middle;\n",
              "    }\n",
              "\n",
              "    .dataframe tbody tr th {\n",
              "        vertical-align: top;\n",
              "    }\n",
              "\n",
              "    .dataframe thead th {\n",
              "        text-align: right;\n",
              "    }\n",
              "</style>\n",
              "<table border=\"1\" class=\"dataframe\">\n",
              "  <thead>\n",
              "    <tr style=\"text-align: right;\">\n",
              "      <th></th>\n",
              "      <th>KMeans ID</th>\n",
              "      <th>texts</th>\n",
              "    </tr>\n",
              "  </thead>\n",
              "  <tbody>\n",
              "    <tr>\n",
              "      <th>0</th>\n",
              "      <td>0</td>\n",
              "      <td>8     ร้านส้มตำลาวนะคะ ร้านใหญ่ประมาณหนึ่งเลยน...</td>\n",
              "    </tr>\n",
              "    <tr>\n",
              "      <th>1</th>\n",
              "      <td>1</td>\n",
              "      <td>0     ครกไม้ไทยลาว เอารถไปเข้าศูนย์ที่เลียบด่ว...</td>\n",
              "    </tr>\n",
              "    <tr>\n",
              "      <th>2</th>\n",
              "      <td>2</td>\n",
              "      <td>11    มีร้านอาหารเพียงไม่กี่ร้านที่สามารถทำอาห...</td>\n",
              "    </tr>\n",
              "    <tr>\n",
              "      <th>3</th>\n",
              "      <td>3</td>\n",
              "      <td>10    เมื่อก่อนนานมากแล้ว(เกิน 10ปีมาละ) เคยได...</td>\n",
              "    </tr>\n",
              "  </tbody>\n",
              "</table>\n",
              "</div>\n",
              "      <button class=\"colab-df-convert\" onclick=\"convertToInteractive('df-a12e49ca-9f14-499b-a81e-35cb2a96f245')\"\n",
              "              title=\"Convert this dataframe to an interactive table.\"\n",
              "              style=\"display:none;\">\n",
              "\n",
              "  <svg xmlns=\"http://www.w3.org/2000/svg\" height=\"24px\"viewBox=\"0 0 24 24\"\n",
              "       width=\"24px\">\n",
              "    <path d=\"M0 0h24v24H0V0z\" fill=\"none\"/>\n",
              "    <path d=\"M18.56 5.44l.94 2.06.94-2.06 2.06-.94-2.06-.94-.94-2.06-.94 2.06-2.06.94zm-11 1L8.5 8.5l.94-2.06 2.06-.94-2.06-.94L8.5 2.5l-.94 2.06-2.06.94zm10 10l.94 2.06.94-2.06 2.06-.94-2.06-.94-.94-2.06-.94 2.06-2.06.94z\"/><path d=\"M17.41 7.96l-1.37-1.37c-.4-.4-.92-.59-1.43-.59-.52 0-1.04.2-1.43.59L10.3 9.45l-7.72 7.72c-.78.78-.78 2.05 0 2.83L4 21.41c.39.39.9.59 1.41.59.51 0 1.02-.2 1.41-.59l7.78-7.78 2.81-2.81c.8-.78.8-2.07 0-2.86zM5.41 20L4 18.59l7.72-7.72 1.47 1.35L5.41 20z\"/>\n",
              "  </svg>\n",
              "      </button>\n",
              "\n",
              "\n",
              "\n",
              "    <div id=\"df-bdff40cd-0abb-4e88-9ae0-554f30a19d00\">\n",
              "      <button class=\"colab-df-quickchart\" onclick=\"quickchart('df-bdff40cd-0abb-4e88-9ae0-554f30a19d00')\"\n",
              "              title=\"Suggest charts.\"\n",
              "              style=\"display:none;\">\n",
              "\n",
              "<svg xmlns=\"http://www.w3.org/2000/svg\" height=\"24px\"viewBox=\"0 0 24 24\"\n",
              "     width=\"24px\">\n",
              "    <g>\n",
              "        <path d=\"M19 3H5c-1.1 0-2 .9-2 2v14c0 1.1.9 2 2 2h14c1.1 0 2-.9 2-2V5c0-1.1-.9-2-2-2zM9 17H7v-7h2v7zm4 0h-2V7h2v10zm4 0h-2v-4h2v4z\"/>\n",
              "    </g>\n",
              "</svg>\n",
              "      </button>\n",
              "    </div>\n",
              "\n",
              "<style>\n",
              "  .colab-df-quickchart {\n",
              "    background-color: #E8F0FE;\n",
              "    border: none;\n",
              "    border-radius: 50%;\n",
              "    cursor: pointer;\n",
              "    display: none;\n",
              "    fill: #1967D2;\n",
              "    height: 32px;\n",
              "    padding: 0 0 0 0;\n",
              "    width: 32px;\n",
              "  }\n",
              "\n",
              "  .colab-df-quickchart:hover {\n",
              "    background-color: #E2EBFA;\n",
              "    box-shadow: 0px 1px 2px rgba(60, 64, 67, 0.3), 0px 1px 3px 1px rgba(60, 64, 67, 0.15);\n",
              "    fill: #174EA6;\n",
              "  }\n",
              "\n",
              "  [theme=dark] .colab-df-quickchart {\n",
              "    background-color: #3B4455;\n",
              "    fill: #D2E3FC;\n",
              "  }\n",
              "\n",
              "  [theme=dark] .colab-df-quickchart:hover {\n",
              "    background-color: #434B5C;\n",
              "    box-shadow: 0px 1px 3px 1px rgba(0, 0, 0, 0.15);\n",
              "    filter: drop-shadow(0px 1px 2px rgba(0, 0, 0, 0.3));\n",
              "    fill: #FFFFFF;\n",
              "  }\n",
              "</style>\n",
              "\n",
              "    <script>\n",
              "      async function quickchart(key) {\n",
              "        const containerElement = document.querySelector('#' + key);\n",
              "        const charts = await google.colab.kernel.invokeFunction(\n",
              "            'suggestCharts', [key], {});\n",
              "      }\n",
              "    </script>\n",
              "\n",
              "      <script>\n",
              "\n",
              "function displayQuickchartButton(domScope) {\n",
              "  let quickchartButtonEl =\n",
              "    domScope.querySelector('#df-bdff40cd-0abb-4e88-9ae0-554f30a19d00 button.colab-df-quickchart');\n",
              "  quickchartButtonEl.style.display =\n",
              "    google.colab.kernel.accessAllowed ? 'block' : 'none';\n",
              "}\n",
              "\n",
              "        displayQuickchartButton(document);\n",
              "      </script>\n",
              "      <style>\n",
              "    .colab-df-container {\n",
              "      display:flex;\n",
              "      flex-wrap:wrap;\n",
              "      gap: 12px;\n",
              "    }\n",
              "\n",
              "    .colab-df-convert {\n",
              "      background-color: #E8F0FE;\n",
              "      border: none;\n",
              "      border-radius: 50%;\n",
              "      cursor: pointer;\n",
              "      display: none;\n",
              "      fill: #1967D2;\n",
              "      height: 32px;\n",
              "      padding: 0 0 0 0;\n",
              "      width: 32px;\n",
              "    }\n",
              "\n",
              "    .colab-df-convert:hover {\n",
              "      background-color: #E2EBFA;\n",
              "      box-shadow: 0px 1px 2px rgba(60, 64, 67, 0.3), 0px 1px 3px 1px rgba(60, 64, 67, 0.15);\n",
              "      fill: #174EA6;\n",
              "    }\n",
              "\n",
              "    [theme=dark] .colab-df-convert {\n",
              "      background-color: #3B4455;\n",
              "      fill: #D2E3FC;\n",
              "    }\n",
              "\n",
              "    [theme=dark] .colab-df-convert:hover {\n",
              "      background-color: #434B5C;\n",
              "      box-shadow: 0px 1px 3px 1px rgba(0, 0, 0, 0.15);\n",
              "      filter: drop-shadow(0px 1px 2px rgba(0, 0, 0, 0.3));\n",
              "      fill: #FFFFFF;\n",
              "    }\n",
              "  </style>\n",
              "\n",
              "      <script>\n",
              "        const buttonEl =\n",
              "          document.querySelector('#df-a12e49ca-9f14-499b-a81e-35cb2a96f245 button.colab-df-convert');\n",
              "        buttonEl.style.display =\n",
              "          google.colab.kernel.accessAllowed ? 'block' : 'none';\n",
              "\n",
              "        async function convertToInteractive(key) {\n",
              "          const element = document.querySelector('#df-a12e49ca-9f14-499b-a81e-35cb2a96f245');\n",
              "          const dataTable =\n",
              "            await google.colab.kernel.invokeFunction('convertToInteractive',\n",
              "                                                     [key], {});\n",
              "          if (!dataTable) return;\n",
              "\n",
              "          const docLinkHtml = 'Like what you see? Visit the ' +\n",
              "            '<a target=\"_blank\" href=https://colab.research.google.com/notebooks/data_table.ipynb>data table notebook</a>'\n",
              "            + ' to learn more about interactive tables.';\n",
              "          element.innerHTML = '';\n",
              "          dataTable['output_type'] = 'display_data';\n",
              "          await google.colab.output.renderOutput(dataTable, element);\n",
              "          const docLink = document.createElement('div');\n",
              "          docLink.innerHTML = docLinkHtml;\n",
              "          element.appendChild(docLink);\n",
              "        }\n",
              "      </script>\n",
              "    </div>\n",
              "  </div>\n"
            ]
          },
          "metadata": {},
          "execution_count": 46
        }
      ]
    },
    {
      "cell_type": "code",
      "source": [
        "#create regex compiler for removal of a character you don't want\n",
        "special_characters = \"/[!@#$%^&*']/g\"\n",
        "specialchar_pattern = re.compile(special_characters)"
      ],
      "metadata": {
        "colab": {
          "base_uri": "https://localhost:8080/"
        },
        "id": "fxveQl0roeke",
        "outputId": "0d0b675d-f7f2-4fcc-f234-539fe78b70f8"
      },
      "execution_count": 47,
      "outputs": [
        {
          "output_type": "stream",
          "name": "stderr",
          "text": [
            "/usr/local/lib/python3.10/dist-packages/ipykernel/ipkernel.py:283: DeprecationWarning: `should_run_async` will not call `transform_cell` automatically in the future. Please pass the result to `transformed_cell` argument and any exception that happen during thetransform in `preprocessing_exc_tuple` in IPython 7.17 and above.\n",
            "  and should_run_async(code)\n"
          ]
        }
      ]
    },
    {
      "cell_type": "code",
      "source": [
        "#create regex compiler for removal of any emoji\n",
        "emoji_pattern = re.compile(\"[\"\n",
        "u\"\\U0001F600-\\U0001F64F\" # emoticons\n",
        "u\"\\U0001F300-\\U0001F5FF\" # symbols & pictographs\n",
        "u\"\\U0001F680-\\U0001F6FF\" # transport & map symbols\n",
        "u\"\\U0001F1E0-\\U0001F1FF\" # flags (iOS)\n",
        "\"]+\", flags=re.UNICODE)\n",
        "\n",
        "#create regex compiler for removal of digit\n",
        "number_pattern = re.compile(\"[0-9]\")\n",
        "#create regex compiler for removal of white space\n",
        "space_pattern = re.compile(\"\\s+\")\n",
        "#create regex compiler for removal of .\n",
        "dot_pattern = re.compile(r\"\\.+\")\n",
        "#create regex compiler for removal of \\\n",
        "backslash_pattern = re.compile(r\"\\\\+\")"
      ],
      "metadata": {
        "colab": {
          "base_uri": "https://localhost:8080/"
        },
        "id": "n6_GEdDIog49",
        "outputId": "8ba78953-821e-40bf-dd5b-bc5a80e1de0e"
      },
      "execution_count": 48,
      "outputs": [
        {
          "output_type": "stream",
          "name": "stderr",
          "text": [
            "/usr/local/lib/python3.10/dist-packages/ipykernel/ipkernel.py:283: DeprecationWarning: `should_run_async` will not call `transform_cell` automatically in the future. Please pass the result to `transformed_cell` argument and any exception that happen during thetransform in `preprocessing_exc_tuple` in IPython 7.17 and above.\n",
            "  and should_run_async(code)\n",
            "<>:12: DeprecationWarning: invalid escape sequence '\\s'\n",
            "<>:12: DeprecationWarning: invalid escape sequence '\\s'\n",
            "<ipython-input-48-1b28a965a998>:12: DeprecationWarning: invalid escape sequence '\\s'\n",
            "  space_pattern = re.compile(\"\\s+\")\n"
          ]
        }
      ]
    },
    {
      "cell_type": "code",
      "source": [
        "#define a function to tokenize a sentence into words - you can define words you want to remove as well as new words for tokenization\n",
        "stopwords = list(pythainlp.corpus.thai_stopwords())\n",
        "removed_words = ['',' ','    ','\\n', '(', ')', '?', '+', '--', '//', 'ร้าน', '\\u200b', 'ๆ(', '..', 'ๆๆๆๆ']\n",
        "screening_words = stopwords + removed_words\n",
        "\n",
        "# words = new_words.union(thai_words())\n",
        "# custom_dictionary_trie = Trie(words)"
      ],
      "metadata": {
        "colab": {
          "base_uri": "https://localhost:8080/"
        },
        "id": "yh5gK_bUos7i",
        "outputId": "3b206017-5f79-45c2-ed7e-a8192f4cd90d"
      },
      "execution_count": 49,
      "outputs": [
        {
          "output_type": "stream",
          "name": "stderr",
          "text": [
            "/usr/local/lib/python3.10/dist-packages/ipykernel/ipkernel.py:283: DeprecationWarning: `should_run_async` will not call `transform_cell` automatically in the future. Please pass the result to `transformed_cell` argument and any exception that happen during thetransform in `preprocessing_exc_tuple` in IPython 7.17 and above.\n",
            "  and should_run_async(code)\n"
          ]
        }
      ]
    },
    {
      "cell_type": "code",
      "source": [
        "#define a function to tokenize a sentence into words - you can define words you want to remove as well as new words for tokenization\n",
        "def tokenize_to_list(sentence):\n",
        "    merged = []\n",
        "    words = pythainlp.word_tokenize(str(sentence), engine='newmm')\n",
        "\n",
        "    for word in words:\n",
        "        if word not in screening_words:\n",
        "            merged.append(word)\n",
        "    return merged"
      ],
      "metadata": {
        "colab": {
          "base_uri": "https://localhost:8080/"
        },
        "id": "k8NIkEGCpVYU",
        "outputId": "87b66912-bc89-4ee2-d361-f2d850f17c56"
      },
      "execution_count": 55,
      "outputs": [
        {
          "output_type": "stream",
          "name": "stderr",
          "text": [
            "/usr/local/lib/python3.10/dist-packages/ipykernel/ipkernel.py:283: DeprecationWarning: `should_run_async` will not call `transform_cell` automatically in the future. Please pass the result to `transformed_cell` argument and any exception that happen during thetransform in `preprocessing_exc_tuple` in IPython 7.17 and above.\n",
            "  and should_run_async(code)\n"
          ]
        }
      ]
    },
    {
      "cell_type": "code",
      "source": [
        "df_kmeans['texts'] = df_kmeans['texts'].apply(lambda x: emoji_pattern.sub(r'', x))\n",
        "df_kmeans['texts'] = df_kmeans['texts'].apply(lambda x: specialchar_pattern.sub(r'', x))\n",
        "df_kmeans['texts'] = df_kmeans['texts'].apply(lambda x: number_pattern.sub(r'', x))\n",
        "df_kmeans['texts'] = df_kmeans['texts'].apply(lambda x: space_pattern.sub(r'', x))\n",
        "df_kmeans['texts'] = df_kmeans['texts'].apply(lambda x: dot_pattern.sub(r'', x))\n",
        "df_kmeans['texts'] = df_kmeans['texts'].apply(lambda x: backslash_pattern.sub(r'', x))\n",
        "df_kmeans['texts_tokenized'] = df_kmeans['texts'].apply(lambda x: tokenize_to_list(x))\n",
        "df_kmeans['texts_count'] = df_kmeans['texts_tokenized'].apply(lambda x:collections.Counter(x).most_common())"
      ],
      "metadata": {
        "colab": {
          "base_uri": "https://localhost:8080/"
        },
        "id": "KGrQ3Dnbprz_",
        "outputId": "be97d040-2c1d-4321-a4b6-468074499f6d"
      },
      "execution_count": 56,
      "outputs": [
        {
          "output_type": "stream",
          "name": "stderr",
          "text": [
            "/usr/local/lib/python3.10/dist-packages/ipykernel/ipkernel.py:283: DeprecationWarning: `should_run_async` will not call `transform_cell` automatically in the future. Please pass the result to `transformed_cell` argument and any exception that happen during thetransform in `preprocessing_exc_tuple` in IPython 7.17 and above.\n",
            "  and should_run_async(code)\n"
          ]
        }
      ]
    },
    {
      "cell_type": "code",
      "source": [
        "df_kmeans"
      ],
      "metadata": {
        "colab": {
          "base_uri": "https://localhost:8080/",
          "height": 230
        },
        "id": "Jf69At4lpyBR",
        "outputId": "527c880e-db0c-46f0-c786-e2181f352017"
      },
      "execution_count": 57,
      "outputs": [
        {
          "output_type": "stream",
          "name": "stderr",
          "text": [
            "/usr/local/lib/python3.10/dist-packages/ipykernel/ipkernel.py:283: DeprecationWarning: `should_run_async` will not call `transform_cell` automatically in the future. Please pass the result to `transformed_cell` argument and any exception that happen during thetransform in `preprocessing_exc_tuple` in IPython 7.17 and above.\n",
            "  and should_run_async(code)\n"
          ]
        },
        {
          "output_type": "execute_result",
          "data": {
            "text/plain": [
              "   KMeans ID                                              texts  \\\n",
              "0          0  ร้านส้มตำลาวนะคะร้านใหญ่ประมาณหนึ่งเลยนะคะพนตั...   \n",
              "1          1  ครกไม้ไทยลาวเอารถไปเข้าศูนย์ที่เลียบด่วนรุ่นร้...   \n",
              "2          2  มีร้านอาหารเพียงไม่กี่ร้านที่สามารถทำอาหารที่ถ...   \n",
              "3          3         เมื่อก่อนนานมากแล้ว(เกินปีมาละ)เคยได้มาทาน   \n",
              "\n",
              "                                     texts_tokenized  \\\n",
              "0  [ส้มตำ, ลาว, นะคะ, นะคะ, พน, ใจมา, ทาน, รับราง...   \n",
              "1  [ครก, ไม้, ไทย, ลาว, รถ, ศูนย์, เลียบ, ด่วน, ร...   \n",
              "2  [ร้านอาหาร, กี่, ทำอาหาร, ถ, ลอง, ได้ยิน, ชื่อ...   \n",
              "3                                          [ปี, ทาน]   \n",
              "\n",
              "                                         texts_count  \n",
              "0  [(ส้มตำ, 2), (ลาว, 2), (นะคะ, 2), (ทาน, 2), (พ...  \n",
              "1  [(อาหาร, 6), (ครก, 5), (ไม้, 5), (ไทย, 4), (ลา...  \n",
              "2  [(รสชาติ, 3), (ร้านอาหาร, 2), (อีสาน, 2), (อาห...  \n",
              "3                                [(ปี, 1), (ทาน, 1)]  "
            ],
            "text/html": [
              "\n",
              "\n",
              "  <div id=\"df-760fb279-d729-43e9-9ab7-4926316260d4\">\n",
              "    <div class=\"colab-df-container\">\n",
              "      <div>\n",
              "<style scoped>\n",
              "    .dataframe tbody tr th:only-of-type {\n",
              "        vertical-align: middle;\n",
              "    }\n",
              "\n",
              "    .dataframe tbody tr th {\n",
              "        vertical-align: top;\n",
              "    }\n",
              "\n",
              "    .dataframe thead th {\n",
              "        text-align: right;\n",
              "    }\n",
              "</style>\n",
              "<table border=\"1\" class=\"dataframe\">\n",
              "  <thead>\n",
              "    <tr style=\"text-align: right;\">\n",
              "      <th></th>\n",
              "      <th>KMeans ID</th>\n",
              "      <th>texts</th>\n",
              "      <th>texts_tokenized</th>\n",
              "      <th>texts_count</th>\n",
              "    </tr>\n",
              "  </thead>\n",
              "  <tbody>\n",
              "    <tr>\n",
              "      <th>0</th>\n",
              "      <td>0</td>\n",
              "      <td>ร้านส้มตำลาวนะคะร้านใหญ่ประมาณหนึ่งเลยนะคะพนตั...</td>\n",
              "      <td>[ส้มตำ, ลาว, นะคะ, นะคะ, พน, ใจมา, ทาน, รับราง...</td>\n",
              "      <td>[(ส้มตำ, 2), (ลาว, 2), (นะคะ, 2), (ทาน, 2), (พ...</td>\n",
              "    </tr>\n",
              "    <tr>\n",
              "      <th>1</th>\n",
              "      <td>1</td>\n",
              "      <td>ครกไม้ไทยลาวเอารถไปเข้าศูนย์ที่เลียบด่วนรุ่นร้...</td>\n",
              "      <td>[ครก, ไม้, ไทย, ลาว, รถ, ศูนย์, เลียบ, ด่วน, ร...</td>\n",
              "      <td>[(อาหาร, 6), (ครก, 5), (ไม้, 5), (ไทย, 4), (ลา...</td>\n",
              "    </tr>\n",
              "    <tr>\n",
              "      <th>2</th>\n",
              "      <td>2</td>\n",
              "      <td>มีร้านอาหารเพียงไม่กี่ร้านที่สามารถทำอาหารที่ถ...</td>\n",
              "      <td>[ร้านอาหาร, กี่, ทำอาหาร, ถ, ลอง, ได้ยิน, ชื่อ...</td>\n",
              "      <td>[(รสชาติ, 3), (ร้านอาหาร, 2), (อีสาน, 2), (อาห...</td>\n",
              "    </tr>\n",
              "    <tr>\n",
              "      <th>3</th>\n",
              "      <td>3</td>\n",
              "      <td>เมื่อก่อนนานมากแล้ว(เกินปีมาละ)เคยได้มาทาน</td>\n",
              "      <td>[ปี, ทาน]</td>\n",
              "      <td>[(ปี, 1), (ทาน, 1)]</td>\n",
              "    </tr>\n",
              "  </tbody>\n",
              "</table>\n",
              "</div>\n",
              "      <button class=\"colab-df-convert\" onclick=\"convertToInteractive('df-760fb279-d729-43e9-9ab7-4926316260d4')\"\n",
              "              title=\"Convert this dataframe to an interactive table.\"\n",
              "              style=\"display:none;\">\n",
              "\n",
              "  <svg xmlns=\"http://www.w3.org/2000/svg\" height=\"24px\"viewBox=\"0 0 24 24\"\n",
              "       width=\"24px\">\n",
              "    <path d=\"M0 0h24v24H0V0z\" fill=\"none\"/>\n",
              "    <path d=\"M18.56 5.44l.94 2.06.94-2.06 2.06-.94-2.06-.94-.94-2.06-.94 2.06-2.06.94zm-11 1L8.5 8.5l.94-2.06 2.06-.94-2.06-.94L8.5 2.5l-.94 2.06-2.06.94zm10 10l.94 2.06.94-2.06 2.06-.94-2.06-.94-.94-2.06-.94 2.06-2.06.94z\"/><path d=\"M17.41 7.96l-1.37-1.37c-.4-.4-.92-.59-1.43-.59-.52 0-1.04.2-1.43.59L10.3 9.45l-7.72 7.72c-.78.78-.78 2.05 0 2.83L4 21.41c.39.39.9.59 1.41.59.51 0 1.02-.2 1.41-.59l7.78-7.78 2.81-2.81c.8-.78.8-2.07 0-2.86zM5.41 20L4 18.59l7.72-7.72 1.47 1.35L5.41 20z\"/>\n",
              "  </svg>\n",
              "      </button>\n",
              "\n",
              "\n",
              "\n",
              "    <div id=\"df-68ad94cb-d165-4983-84e2-f38e9a23ecf2\">\n",
              "      <button class=\"colab-df-quickchart\" onclick=\"quickchart('df-68ad94cb-d165-4983-84e2-f38e9a23ecf2')\"\n",
              "              title=\"Suggest charts.\"\n",
              "              style=\"display:none;\">\n",
              "\n",
              "<svg xmlns=\"http://www.w3.org/2000/svg\" height=\"24px\"viewBox=\"0 0 24 24\"\n",
              "     width=\"24px\">\n",
              "    <g>\n",
              "        <path d=\"M19 3H5c-1.1 0-2 .9-2 2v14c0 1.1.9 2 2 2h14c1.1 0 2-.9 2-2V5c0-1.1-.9-2-2-2zM9 17H7v-7h2v7zm4 0h-2V7h2v10zm4 0h-2v-4h2v4z\"/>\n",
              "    </g>\n",
              "</svg>\n",
              "      </button>\n",
              "    </div>\n",
              "\n",
              "<style>\n",
              "  .colab-df-quickchart {\n",
              "    background-color: #E8F0FE;\n",
              "    border: none;\n",
              "    border-radius: 50%;\n",
              "    cursor: pointer;\n",
              "    display: none;\n",
              "    fill: #1967D2;\n",
              "    height: 32px;\n",
              "    padding: 0 0 0 0;\n",
              "    width: 32px;\n",
              "  }\n",
              "\n",
              "  .colab-df-quickchart:hover {\n",
              "    background-color: #E2EBFA;\n",
              "    box-shadow: 0px 1px 2px rgba(60, 64, 67, 0.3), 0px 1px 3px 1px rgba(60, 64, 67, 0.15);\n",
              "    fill: #174EA6;\n",
              "  }\n",
              "\n",
              "  [theme=dark] .colab-df-quickchart {\n",
              "    background-color: #3B4455;\n",
              "    fill: #D2E3FC;\n",
              "  }\n",
              "\n",
              "  [theme=dark] .colab-df-quickchart:hover {\n",
              "    background-color: #434B5C;\n",
              "    box-shadow: 0px 1px 3px 1px rgba(0, 0, 0, 0.15);\n",
              "    filter: drop-shadow(0px 1px 2px rgba(0, 0, 0, 0.3));\n",
              "    fill: #FFFFFF;\n",
              "  }\n",
              "</style>\n",
              "\n",
              "    <script>\n",
              "      async function quickchart(key) {\n",
              "        const containerElement = document.querySelector('#' + key);\n",
              "        const charts = await google.colab.kernel.invokeFunction(\n",
              "            'suggestCharts', [key], {});\n",
              "      }\n",
              "    </script>\n",
              "\n",
              "      <script>\n",
              "\n",
              "function displayQuickchartButton(domScope) {\n",
              "  let quickchartButtonEl =\n",
              "    domScope.querySelector('#df-68ad94cb-d165-4983-84e2-f38e9a23ecf2 button.colab-df-quickchart');\n",
              "  quickchartButtonEl.style.display =\n",
              "    google.colab.kernel.accessAllowed ? 'block' : 'none';\n",
              "}\n",
              "\n",
              "        displayQuickchartButton(document);\n",
              "      </script>\n",
              "      <style>\n",
              "    .colab-df-container {\n",
              "      display:flex;\n",
              "      flex-wrap:wrap;\n",
              "      gap: 12px;\n",
              "    }\n",
              "\n",
              "    .colab-df-convert {\n",
              "      background-color: #E8F0FE;\n",
              "      border: none;\n",
              "      border-radius: 50%;\n",
              "      cursor: pointer;\n",
              "      display: none;\n",
              "      fill: #1967D2;\n",
              "      height: 32px;\n",
              "      padding: 0 0 0 0;\n",
              "      width: 32px;\n",
              "    }\n",
              "\n",
              "    .colab-df-convert:hover {\n",
              "      background-color: #E2EBFA;\n",
              "      box-shadow: 0px 1px 2px rgba(60, 64, 67, 0.3), 0px 1px 3px 1px rgba(60, 64, 67, 0.15);\n",
              "      fill: #174EA6;\n",
              "    }\n",
              "\n",
              "    [theme=dark] .colab-df-convert {\n",
              "      background-color: #3B4455;\n",
              "      fill: #D2E3FC;\n",
              "    }\n",
              "\n",
              "    [theme=dark] .colab-df-convert:hover {\n",
              "      background-color: #434B5C;\n",
              "      box-shadow: 0px 1px 3px 1px rgba(0, 0, 0, 0.15);\n",
              "      filter: drop-shadow(0px 1px 2px rgba(0, 0, 0, 0.3));\n",
              "      fill: #FFFFFF;\n",
              "    }\n",
              "  </style>\n",
              "\n",
              "      <script>\n",
              "        const buttonEl =\n",
              "          document.querySelector('#df-760fb279-d729-43e9-9ab7-4926316260d4 button.colab-df-convert');\n",
              "        buttonEl.style.display =\n",
              "          google.colab.kernel.accessAllowed ? 'block' : 'none';\n",
              "\n",
              "        async function convertToInteractive(key) {\n",
              "          const element = document.querySelector('#df-760fb279-d729-43e9-9ab7-4926316260d4');\n",
              "          const dataTable =\n",
              "            await google.colab.kernel.invokeFunction('convertToInteractive',\n",
              "                                                     [key], {});\n",
              "          if (!dataTable) return;\n",
              "\n",
              "          const docLinkHtml = 'Like what you see? Visit the ' +\n",
              "            '<a target=\"_blank\" href=https://colab.research.google.com/notebooks/data_table.ipynb>data table notebook</a>'\n",
              "            + ' to learn more about interactive tables.';\n",
              "          element.innerHTML = '';\n",
              "          dataTable['output_type'] = 'display_data';\n",
              "          await google.colab.output.renderOutput(dataTable, element);\n",
              "          const docLink = document.createElement('div');\n",
              "          docLink.innerHTML = docLinkHtml;\n",
              "          element.appendChild(docLink);\n",
              "        }\n",
              "      </script>\n",
              "    </div>\n",
              "  </div>\n"
            ]
          },
          "metadata": {},
          "execution_count": 57
        }
      ]
    },
    {
      "cell_type": "code",
      "source": [
        "# show top key word of each cluster\n",
        "\n",
        "top_n_words = 10\n",
        "for i in range(0, len(df_kmeans)):\n",
        "    print(f\"Cluster ID : {i}\\n\")\n",
        "    print(f\"Most common words include : {list(df_kmeans['texts_count'][i])[:top_n_words]}\\n\")"
      ],
      "metadata": {
        "colab": {
          "base_uri": "https://localhost:8080/"
        },
        "id": "bTNtjeAop2sP",
        "outputId": "f3dc9036-a95d-4a7b-b10c-1d7fe328bcae"
      },
      "execution_count": 58,
      "outputs": [
        {
          "output_type": "stream",
          "name": "stdout",
          "text": [
            "Cluster ID : 0\n",
            "\n",
            "Most common words include : [('ส้มตำ', 2), ('ลาว', 2), ('นะคะ', 2), ('ทาน', 2), ('พน', 1), ('ใจมา', 1), ('รับรางวัล', 1), ('เกี่ยว', 1), ('แวะ', 1), ('ครก', 1)]\n",
            "\n",
            "Cluster ID : 1\n",
            "\n",
            "Most common words include : [('อาหาร', 6), ('ครก', 5), ('ไม้', 5), ('ไทย', 4), ('ลาว', 4), ('อร่อย', 4), ('เมนู', 4), ('ดี', 4), ('อี', 3), ('ร้านอาหาร', 2)]\n",
            "\n",
            "Cluster ID : 2\n",
            "\n",
            "Most common words include : [('รสชาติ', 3), ('ร้านอาหาร', 2), ('อีสาน', 2), ('อาหาร', 2), ('กี่', 1), ('ทำอาหาร', 1), ('ถ', 1), ('ลอง', 1), ('ได้ยิน', 1), ('ชื่อ', 1)]\n",
            "\n",
            "Cluster ID : 3\n",
            "\n",
            "Most common words include : [('ปี', 1), ('ทาน', 1)]\n",
            "\n"
          ]
        },
        {
          "output_type": "stream",
          "name": "stderr",
          "text": [
            "/usr/local/lib/python3.10/dist-packages/ipykernel/ipkernel.py:283: DeprecationWarning: `should_run_async` will not call `transform_cell` automatically in the future. Please pass the result to `transformed_cell` argument and any exception that happen during thetransform in `preprocessing_exc_tuple` in IPython 7.17 and above.\n",
            "  and should_run_async(code)\n"
          ]
        }
      ]
    }
  ]
}