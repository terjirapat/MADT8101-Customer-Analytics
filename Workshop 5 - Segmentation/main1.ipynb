{
 "cells": [
  {
   "cell_type": "code",
   "execution_count": 19,
   "metadata": {},
   "outputs": [],
   "source": [
    "import pandas as pd\n",
    "import numpy as np\n",
    "import seaborn as sns\n",
    "import matplotlib.pyplot as plt\n",
    "import datetime as dt\n",
    "# from datetime import datetime\n",
    "\n",
    "from sklearn.cluster import KMeans\n",
    "from sklearn.metrics import silhouette_score\n",
    "from sklearn.decomposition import PCA\n",
    "from sklearn.preprocessing import MinMaxScaler\n",
    "from sklearn.ensemble import RandomForestClassifier\n",
    "\n",
    "import warnings\n",
    "warnings.filterwarnings('ignore')"
   ]
  },
  {
   "cell_type": "code",
   "execution_count": 20,
   "metadata": {},
   "outputs": [],
   "source": [
    "df_member = pd.read_csv('data member.csv')\n",
    "\n",
    "df_trans_cleaned = pd.read_csv('transaction_cleaned.csv')\n",
    "\n",
    "trans_2021 = pd.read_csv('transaction 2021.csv')\n",
    "trans_2022 = pd.read_csv('transaction 2022.csv')\n",
    "trans_2023 = pd.read_csv('transaction 2023.csv')\n",
    "df_trans = pd.concat([trans_2021, trans_2022, trans_2023])"
   ]
  },
  {
   "cell_type": "code",
   "execution_count": 21,
   "metadata": {},
   "outputs": [
    {
     "data": {
      "text/html": [
       "<div>\n",
       "<style scoped>\n",
       "    .dataframe tbody tr th:only-of-type {\n",
       "        vertical-align: middle;\n",
       "    }\n",
       "\n",
       "    .dataframe tbody tr th {\n",
       "        vertical-align: top;\n",
       "    }\n",
       "\n",
       "    .dataframe thead th {\n",
       "        text-align: right;\n",
       "    }\n",
       "</style>\n",
       "<table border=\"1\" class=\"dataframe\">\n",
       "  <thead>\n",
       "    <tr style=\"text-align: right;\">\n",
       "      <th></th>\n",
       "      <th>ent</th>\n",
       "      <th>original_status</th>\n",
       "      <th>join_month</th>\n",
       "      <th>join_year</th>\n",
       "      <th>sponsor</th>\n",
       "    </tr>\n",
       "  </thead>\n",
       "  <tbody>\n",
       "    <tr>\n",
       "      <th>590562</th>\n",
       "      <td>H3CCCEC7</td>\n",
       "      <td>A</td>\n",
       "      <td>7</td>\n",
       "      <td>2010</td>\n",
       "      <td>H3CCC4JP</td>\n",
       "    </tr>\n",
       "    <tr>\n",
       "      <th>590563</th>\n",
       "      <td>H3CCCE4I</td>\n",
       "      <td>A</td>\n",
       "      <td>7</td>\n",
       "      <td>2010</td>\n",
       "      <td>H3CCC4JP</td>\n",
       "    </tr>\n",
       "    <tr>\n",
       "      <th>590564</th>\n",
       "      <td>H3CCCEEF</td>\n",
       "      <td>A</td>\n",
       "      <td>7</td>\n",
       "      <td>2010</td>\n",
       "      <td>H3CCC4WU</td>\n",
       "    </tr>\n",
       "  </tbody>\n",
       "</table>\n",
       "</div>"
      ],
      "text/plain": [
       "             ent original_status  join_month  join_year   sponsor\n",
       "590562  H3CCCEC7               A           7       2010  H3CCC4JP\n",
       "590563  H3CCCE4I               A           7       2010  H3CCC4JP\n",
       "590564  H3CCCEEF               A           7       2010  H3CCC4WU"
      ]
     },
     "execution_count": 21,
     "metadata": {},
     "output_type": "execute_result"
    }
   ],
   "source": [
    "df_member.tail(3)"
   ]
  },
  {
   "cell_type": "code",
   "execution_count": 22,
   "metadata": {},
   "outputs": [
    {
     "name": "stdout",
     "output_type": "stream",
     "text": [
      "<class 'pandas.core.frame.DataFrame'>\n",
      "RangeIndex: 590565 entries, 0 to 590564\n",
      "Data columns (total 5 columns):\n",
      " #   Column           Non-Null Count   Dtype \n",
      "---  ------           --------------   ----- \n",
      " 0   ent              590565 non-null  object\n",
      " 1   original_status  590565 non-null  object\n",
      " 2   join_month       590565 non-null  int64 \n",
      " 3   join_year        590565 non-null  int64 \n",
      " 4   sponsor          590565 non-null  object\n",
      "dtypes: int64(2), object(3)\n",
      "memory usage: 22.5+ MB\n"
     ]
    }
   ],
   "source": [
    "df_member.info()"
   ]
  },
  {
   "cell_type": "code",
   "execution_count": 23,
   "metadata": {},
   "outputs": [
    {
     "data": {
      "text/html": [
       "<div>\n",
       "<style scoped>\n",
       "    .dataframe tbody tr th:only-of-type {\n",
       "        vertical-align: middle;\n",
       "    }\n",
       "\n",
       "    .dataframe tbody tr th {\n",
       "        vertical-align: top;\n",
       "    }\n",
       "\n",
       "    .dataframe thead th {\n",
       "        text-align: right;\n",
       "    }\n",
       "</style>\n",
       "<table border=\"1\" class=\"dataframe\">\n",
       "  <thead>\n",
       "    <tr style=\"text-align: right;\">\n",
       "      <th></th>\n",
       "      <th>payment_date</th>\n",
       "      <th>ent</th>\n",
       "      <th>center</th>\n",
       "      <th>total_amount</th>\n",
       "      <th>discount</th>\n",
       "      <th>paid_amount</th>\n",
       "      <th>trans_origin_type</th>\n",
       "      <th>product</th>\n",
       "      <th>qty</th>\n",
       "    </tr>\n",
       "  </thead>\n",
       "  <tbody>\n",
       "    <tr>\n",
       "      <th>4129111</th>\n",
       "      <td>2023-07-06 00:00:00.000</td>\n",
       "      <td>TCCEQ4Z4R4Y</td>\n",
       "      <td>TKC1Z4</td>\n",
       "      <td>2500.0</td>\n",
       "      <td>NaN</td>\n",
       "      <td>2500</td>\n",
       "      <td>offline</td>\n",
       "      <td>KCQCEJ</td>\n",
       "      <td>1</td>\n",
       "    </tr>\n",
       "    <tr>\n",
       "      <th>4129112</th>\n",
       "      <td>2023-07-06 00:00:00.000</td>\n",
       "      <td>TCCEQEZJQ4F</td>\n",
       "      <td>TKC1Z4</td>\n",
       "      <td>2500.0</td>\n",
       "      <td>NaN</td>\n",
       "      <td>2500</td>\n",
       "      <td>offline</td>\n",
       "      <td>KCQCER</td>\n",
       "      <td>1</td>\n",
       "    </tr>\n",
       "    <tr>\n",
       "      <th>4129113</th>\n",
       "      <td>2023-07-06 00:00:00.000</td>\n",
       "      <td>TCCEQ434R1F</td>\n",
       "      <td>TKC1Z4</td>\n",
       "      <td>2500.0</td>\n",
       "      <td>NaN</td>\n",
       "      <td>2500</td>\n",
       "      <td>offline</td>\n",
       "      <td>KCQCER</td>\n",
       "      <td>1</td>\n",
       "    </tr>\n",
       "  </tbody>\n",
       "</table>\n",
       "</div>"
      ],
      "text/plain": [
       "                    payment_date          ent  center  total_amount  discount  \\\n",
       "4129111  2023-07-06 00:00:00.000  TCCEQ4Z4R4Y  TKC1Z4        2500.0       NaN   \n",
       "4129112  2023-07-06 00:00:00.000  TCCEQEZJQ4F  TKC1Z4        2500.0       NaN   \n",
       "4129113  2023-07-06 00:00:00.000  TCCEQ434R1F  TKC1Z4        2500.0       NaN   \n",
       "\n",
       "         paid_amount trans_origin_type product  qty  \n",
       "4129111         2500           offline  KCQCEJ    1  \n",
       "4129112         2500           offline  KCQCER    1  \n",
       "4129113         2500           offline  KCQCER    1  "
      ]
     },
     "execution_count": 23,
     "metadata": {},
     "output_type": "execute_result"
    }
   ],
   "source": [
    "df_trans_cleaned.tail(3)"
   ]
  },
  {
   "cell_type": "code",
   "execution_count": 24,
   "metadata": {},
   "outputs": [
    {
     "name": "stdout",
     "output_type": "stream",
     "text": [
      "<class 'pandas.core.frame.DataFrame'>\n",
      "RangeIndex: 4129114 entries, 0 to 4129113\n",
      "Data columns (total 9 columns):\n",
      " #   Column             Dtype  \n",
      "---  ------             -----  \n",
      " 0   payment_date       object \n",
      " 1   ent                object \n",
      " 2   center             object \n",
      " 3   total_amount       float64\n",
      " 4   discount           float64\n",
      " 5   paid_amount        int64  \n",
      " 6   trans_origin_type  object \n",
      " 7   product            object \n",
      " 8   qty                int64  \n",
      "dtypes: float64(2), int64(2), object(5)\n",
      "memory usage: 283.5+ MB\n"
     ]
    }
   ],
   "source": [
    "df_trans_cleaned.info()"
   ]
  },
  {
   "cell_type": "code",
   "execution_count": 25,
   "metadata": {},
   "outputs": [
    {
     "data": {
      "text/html": [
       "<div>\n",
       "<style scoped>\n",
       "    .dataframe tbody tr th:only-of-type {\n",
       "        vertical-align: middle;\n",
       "    }\n",
       "\n",
       "    .dataframe tbody tr th {\n",
       "        vertical-align: top;\n",
       "    }\n",
       "\n",
       "    .dataframe thead th {\n",
       "        text-align: right;\n",
       "    }\n",
       "</style>\n",
       "<table border=\"1\" class=\"dataframe\">\n",
       "  <thead>\n",
       "    <tr style=\"text-align: right;\">\n",
       "      <th></th>\n",
       "      <th>payment_date</th>\n",
       "      <th>ent</th>\n",
       "      <th>center</th>\n",
       "      <th>product_json</th>\n",
       "      <th>total_amount</th>\n",
       "      <th>discount</th>\n",
       "      <th>paid_amount</th>\n",
       "      <th>trans_origin_type</th>\n",
       "    </tr>\n",
       "  </thead>\n",
       "  <tbody>\n",
       "    <tr>\n",
       "      <th>362106</th>\n",
       "      <td>2023-07-06 00:00:00.000</td>\n",
       "      <td>TCCEQ4Z4R4Y</td>\n",
       "      <td>TKC1Z4</td>\n",
       "      <td>[{\"product\":\"KCQCEJ\",\"qty\":1}]</td>\n",
       "      <td>2500.0</td>\n",
       "      <td>NaN</td>\n",
       "      <td>2500</td>\n",
       "      <td>offline</td>\n",
       "    </tr>\n",
       "    <tr>\n",
       "      <th>362107</th>\n",
       "      <td>2023-07-06 00:00:00.000</td>\n",
       "      <td>TCCEQEZJQ4F</td>\n",
       "      <td>TKC1Z4</td>\n",
       "      <td>[{\"product\":\"KCQCER\",\"qty\":1}]</td>\n",
       "      <td>2500.0</td>\n",
       "      <td>NaN</td>\n",
       "      <td>2500</td>\n",
       "      <td>offline</td>\n",
       "    </tr>\n",
       "    <tr>\n",
       "      <th>362108</th>\n",
       "      <td>2023-07-06 00:00:00.000</td>\n",
       "      <td>TCCEQ434R1F</td>\n",
       "      <td>TKC1Z4</td>\n",
       "      <td>[{\"product\":\"KCQCER\",\"qty\":1}]</td>\n",
       "      <td>2500.0</td>\n",
       "      <td>NaN</td>\n",
       "      <td>2500</td>\n",
       "      <td>offline</td>\n",
       "    </tr>\n",
       "  </tbody>\n",
       "</table>\n",
       "</div>"
      ],
      "text/plain": [
       "                   payment_date          ent  center  \\\n",
       "362106  2023-07-06 00:00:00.000  TCCEQ4Z4R4Y  TKC1Z4   \n",
       "362107  2023-07-06 00:00:00.000  TCCEQEZJQ4F  TKC1Z4   \n",
       "362108  2023-07-06 00:00:00.000  TCCEQ434R1F  TKC1Z4   \n",
       "\n",
       "                          product_json  total_amount  discount  paid_amount  \\\n",
       "362106  [{\"product\":\"KCQCEJ\",\"qty\":1}]        2500.0       NaN         2500   \n",
       "362107  [{\"product\":\"KCQCER\",\"qty\":1}]        2500.0       NaN         2500   \n",
       "362108  [{\"product\":\"KCQCER\",\"qty\":1}]        2500.0       NaN         2500   \n",
       "\n",
       "       trans_origin_type  \n",
       "362106           offline  \n",
       "362107           offline  \n",
       "362108           offline  "
      ]
     },
     "execution_count": 25,
     "metadata": {},
     "output_type": "execute_result"
    }
   ],
   "source": [
    "df_trans.tail(3)"
   ]
  },
  {
   "cell_type": "code",
   "execution_count": 26,
   "metadata": {},
   "outputs": [
    {
     "data": {
      "text/html": [
       "<div>\n",
       "<style scoped>\n",
       "    .dataframe tbody tr th:only-of-type {\n",
       "        vertical-align: middle;\n",
       "    }\n",
       "\n",
       "    .dataframe tbody tr th {\n",
       "        vertical-align: top;\n",
       "    }\n",
       "\n",
       "    .dataframe thead th {\n",
       "        text-align: right;\n",
       "    }\n",
       "</style>\n",
       "<table border=\"1\" class=\"dataframe\">\n",
       "  <thead>\n",
       "    <tr style=\"text-align: right;\">\n",
       "      <th></th>\n",
       "      <th>payment_date</th>\n",
       "      <th>ent</th>\n",
       "      <th>center</th>\n",
       "      <th>product_json</th>\n",
       "      <th>total_amount</th>\n",
       "      <th>discount</th>\n",
       "      <th>paid_amount</th>\n",
       "      <th>trans_origin_type</th>\n",
       "    </tr>\n",
       "  </thead>\n",
       "  <tbody>\n",
       "    <tr>\n",
       "      <th>0</th>\n",
       "      <td>2021-01-01 00:00:00.000</td>\n",
       "      <td>TCC43RQQZ3B</td>\n",
       "      <td>TKC4CJ</td>\n",
       "      <td>[{\"product\":\"1ECZ\",\"qty\":1},{\"product\":\"8CEC4Q...</td>\n",
       "      <td>1627000.0</td>\n",
       "      <td>0.0</td>\n",
       "      <td>0</td>\n",
       "      <td>online</td>\n",
       "    </tr>\n",
       "    <tr>\n",
       "      <th>1</th>\n",
       "      <td>2021-01-01 00:00:00.000</td>\n",
       "      <td>TCC4Q4JZ4Q0</td>\n",
       "      <td>TKCEWQ</td>\n",
       "      <td>[{\"product\":\"4E4W\",\"qty\":2},{\"product\":\"DC4CC4...</td>\n",
       "      <td>594000.0</td>\n",
       "      <td>0.0</td>\n",
       "      <td>0</td>\n",
       "      <td>online</td>\n",
       "    </tr>\n",
       "    <tr>\n",
       "      <th>2</th>\n",
       "      <td>2021-01-01 00:00:00.000</td>\n",
       "      <td>TCC4RJ11QE7</td>\n",
       "      <td>TKC14E</td>\n",
       "      <td>[{\"product\":\"IC4CC4\",\"qty\":1}]</td>\n",
       "      <td>468000.0</td>\n",
       "      <td>0.0</td>\n",
       "      <td>0</td>\n",
       "      <td>online</td>\n",
       "    </tr>\n",
       "    <tr>\n",
       "      <th>3</th>\n",
       "      <td>2021-01-01 00:00:00.000</td>\n",
       "      <td>TCC434QRCJY</td>\n",
       "      <td>TKC14R</td>\n",
       "      <td>[{\"product\":\"5C4CC4\",\"qty\":1}]</td>\n",
       "      <td>341000.0</td>\n",
       "      <td>0.0</td>\n",
       "      <td>0</td>\n",
       "      <td>online</td>\n",
       "    </tr>\n",
       "    <tr>\n",
       "      <th>4</th>\n",
       "      <td>2021-01-01 00:00:00.000</td>\n",
       "      <td>TCC43RRCE10</td>\n",
       "      <td>TKC11Z</td>\n",
       "      <td>[{\"product\":\"5C4C4Q\",\"qty\":1}]</td>\n",
       "      <td>189000.0</td>\n",
       "      <td>0.0</td>\n",
       "      <td>0</td>\n",
       "      <td>online</td>\n",
       "    </tr>\n",
       "    <tr>\n",
       "      <th>...</th>\n",
       "      <td>...</td>\n",
       "      <td>...</td>\n",
       "      <td>...</td>\n",
       "      <td>...</td>\n",
       "      <td>...</td>\n",
       "      <td>...</td>\n",
       "      <td>...</td>\n",
       "      <td>...</td>\n",
       "    </tr>\n",
       "    <tr>\n",
       "      <th>362104</th>\n",
       "      <td>2023-07-06 00:00:00.000</td>\n",
       "      <td>TCCEREZCC10</td>\n",
       "      <td>TKC1Z4</td>\n",
       "      <td>[{\"product\":\"KCQCEJ\",\"qty\":1}]</td>\n",
       "      <td>2500.0</td>\n",
       "      <td>NaN</td>\n",
       "      <td>2500</td>\n",
       "      <td>offline</td>\n",
       "    </tr>\n",
       "    <tr>\n",
       "      <th>362105</th>\n",
       "      <td>2023-07-06 00:00:00.000</td>\n",
       "      <td>TCCEQ1RJ3JY</td>\n",
       "      <td>TKC1Z4</td>\n",
       "      <td>[{\"product\":\"KCQCEJ\",\"qty\":1}]</td>\n",
       "      <td>2500.0</td>\n",
       "      <td>NaN</td>\n",
       "      <td>2500</td>\n",
       "      <td>offline</td>\n",
       "    </tr>\n",
       "    <tr>\n",
       "      <th>362106</th>\n",
       "      <td>2023-07-06 00:00:00.000</td>\n",
       "      <td>TCCEQ4Z4R4Y</td>\n",
       "      <td>TKC1Z4</td>\n",
       "      <td>[{\"product\":\"KCQCEJ\",\"qty\":1}]</td>\n",
       "      <td>2500.0</td>\n",
       "      <td>NaN</td>\n",
       "      <td>2500</td>\n",
       "      <td>offline</td>\n",
       "    </tr>\n",
       "    <tr>\n",
       "      <th>362107</th>\n",
       "      <td>2023-07-06 00:00:00.000</td>\n",
       "      <td>TCCEQEZJQ4F</td>\n",
       "      <td>TKC1Z4</td>\n",
       "      <td>[{\"product\":\"KCQCER\",\"qty\":1}]</td>\n",
       "      <td>2500.0</td>\n",
       "      <td>NaN</td>\n",
       "      <td>2500</td>\n",
       "      <td>offline</td>\n",
       "    </tr>\n",
       "    <tr>\n",
       "      <th>362108</th>\n",
       "      <td>2023-07-06 00:00:00.000</td>\n",
       "      <td>TCCEQ434R1F</td>\n",
       "      <td>TKC1Z4</td>\n",
       "      <td>[{\"product\":\"KCQCER\",\"qty\":1}]</td>\n",
       "      <td>2500.0</td>\n",
       "      <td>NaN</td>\n",
       "      <td>2500</td>\n",
       "      <td>offline</td>\n",
       "    </tr>\n",
       "  </tbody>\n",
       "</table>\n",
       "<p>2406316 rows × 8 columns</p>\n",
       "</div>"
      ],
      "text/plain": [
       "                   payment_date          ent  center  \\\n",
       "0       2021-01-01 00:00:00.000  TCC43RQQZ3B  TKC4CJ   \n",
       "1       2021-01-01 00:00:00.000  TCC4Q4JZ4Q0  TKCEWQ   \n",
       "2       2021-01-01 00:00:00.000  TCC4RJ11QE7  TKC14E   \n",
       "3       2021-01-01 00:00:00.000  TCC434QRCJY  TKC14R   \n",
       "4       2021-01-01 00:00:00.000  TCC43RRCE10  TKC11Z   \n",
       "...                         ...          ...     ...   \n",
       "362104  2023-07-06 00:00:00.000  TCCEREZCC10  TKC1Z4   \n",
       "362105  2023-07-06 00:00:00.000  TCCEQ1RJ3JY  TKC1Z4   \n",
       "362106  2023-07-06 00:00:00.000  TCCEQ4Z4R4Y  TKC1Z4   \n",
       "362107  2023-07-06 00:00:00.000  TCCEQEZJQ4F  TKC1Z4   \n",
       "362108  2023-07-06 00:00:00.000  TCCEQ434R1F  TKC1Z4   \n",
       "\n",
       "                                             product_json  total_amount  \\\n",
       "0       [{\"product\":\"1ECZ\",\"qty\":1},{\"product\":\"8CEC4Q...     1627000.0   \n",
       "1       [{\"product\":\"4E4W\",\"qty\":2},{\"product\":\"DC4CC4...      594000.0   \n",
       "2                          [{\"product\":\"IC4CC4\",\"qty\":1}]      468000.0   \n",
       "3                          [{\"product\":\"5C4CC4\",\"qty\":1}]      341000.0   \n",
       "4                          [{\"product\":\"5C4C4Q\",\"qty\":1}]      189000.0   \n",
       "...                                                   ...           ...   \n",
       "362104                     [{\"product\":\"KCQCEJ\",\"qty\":1}]        2500.0   \n",
       "362105                     [{\"product\":\"KCQCEJ\",\"qty\":1}]        2500.0   \n",
       "362106                     [{\"product\":\"KCQCEJ\",\"qty\":1}]        2500.0   \n",
       "362107                     [{\"product\":\"KCQCER\",\"qty\":1}]        2500.0   \n",
       "362108                     [{\"product\":\"KCQCER\",\"qty\":1}]        2500.0   \n",
       "\n",
       "        discount  paid_amount trans_origin_type  \n",
       "0            0.0            0            online  \n",
       "1            0.0            0            online  \n",
       "2            0.0            0            online  \n",
       "3            0.0            0            online  \n",
       "4            0.0            0            online  \n",
       "...          ...          ...               ...  \n",
       "362104       NaN         2500           offline  \n",
       "362105       NaN         2500           offline  \n",
       "362106       NaN         2500           offline  \n",
       "362107       NaN         2500           offline  \n",
       "362108       NaN         2500           offline  \n",
       "\n",
       "[2406316 rows x 8 columns]"
      ]
     },
     "execution_count": 26,
     "metadata": {},
     "output_type": "execute_result"
    }
   ],
   "source": [
    "df_trans"
   ]
  },
  {
   "cell_type": "code",
   "execution_count": 27,
   "metadata": {},
   "outputs": [],
   "source": [
    "# df_trans.groupby()"
   ]
  },
  {
   "cell_type": "code",
   "execution_count": 28,
   "metadata": {},
   "outputs": [
    {
     "name": "stdout",
     "output_type": "stream",
     "text": [
      "<class 'pandas.core.frame.DataFrame'>\n",
      "Int64Index: 2406316 entries, 0 to 362108\n",
      "Data columns (total 8 columns):\n",
      " #   Column             Dtype  \n",
      "---  ------             -----  \n",
      " 0   payment_date       object \n",
      " 1   ent                object \n",
      " 2   center             object \n",
      " 3   product_json       object \n",
      " 4   total_amount       float64\n",
      " 5   discount           float64\n",
      " 6   paid_amount        int64  \n",
      " 7   trans_origin_type  object \n",
      "dtypes: float64(2), int64(1), object(5)\n",
      "memory usage: 165.2+ MB\n"
     ]
    }
   ],
   "source": [
    "df_trans.info()"
   ]
  },
  {
   "cell_type": "code",
   "execution_count": 29,
   "metadata": {},
   "outputs": [],
   "source": [
    "# clean date type\n",
    "df_trans_cleaned['payment_date'] = pd.to_datetime(df_trans_cleaned['payment_date'])\n",
    "df_trans_cleaned['payment_ym'] = df_trans_cleaned['payment_date'].dt.to_period('M')\n",
    "\n",
    "df_trans['payment_date'] = pd.to_datetime(df_trans['payment_date'])\n",
    "df_trans['payment_ym'] = df_trans['payment_date'].dt.to_period('M')\n",
    "\n",
    "df_member['join_ym'] = pd.to_datetime(df_member['join_year'].astype(str) + '-' + df_member['join_month'].astype(str))"
   ]
  },
  {
   "cell_type": "code",
   "execution_count": 30,
   "metadata": {},
   "outputs": [],
   "source": [
    "# create feature df\n",
    "df_clus = df_member[['ent']]"
   ]
  },
  {
   "cell_type": "code",
   "execution_count": 31,
   "metadata": {},
   "outputs": [],
   "source": [
    "maxmonth = df_trans['payment_ym'].max()\n",
    "\n",
    "df_trans_last3m = df_trans.loc[df_trans['payment_ym'] > (maxmonth - 3), :]\n",
    "df_trans_last6m = df_trans.loc[df_trans['payment_ym'] > (maxmonth - 6), :]\n",
    "\n",
    "df_trans_cleaned_last3m = df_trans_cleaned.loc[df_trans_cleaned['payment_ym'] > (maxmonth - 3), :]\n",
    "df_trans_cleaned_last6m = df_trans_cleaned.loc[df_trans_cleaned['payment_ym'] > (maxmonth - 6), :]"
   ]
  },
  {
   "cell_type": "code",
   "execution_count": 32,
   "metadata": {},
   "outputs": [],
   "source": [
    "maxdate = df_trans['payment_date'].max()\n",
    "df_clus['mem_duration'] = ((maxdate - df_member['join_ym'])/np.timedelta64(1, 'M')).astype('int')"
   ]
  },
  {
   "cell_type": "code",
   "execution_count": 33,
   "metadata": {},
   "outputs": [],
   "source": [
    "f0 = df_trans.groupby('ent').agg({'total_amount': ['sum',  \n",
    "                                                   'count']}\n",
    "                                ).reset_index()\n",
    "f0.columns = ['ent', 'sale', 'num_trans']\n",
    "f0['avg_ticketsize'] = f0['sale']/f0['num_trans']\n",
    "\n",
    "f1 = df_trans_last3m.groupby('ent').agg({'total_amount': ['sum',\n",
    "                                                          'count']}\n",
    "                                       ).reset_index()\n",
    "f1.columns = ['ent', 'sale_last3m', 'num_trans_last3m']\n",
    "f1['avg_ticketsize_last3m'] = f1['sale_last3m']/f1['num_trans_last3m']\n",
    "\n",
    "f2 = df_trans_last6m.groupby('ent').agg({'total_amount': ['sum',\n",
    "                                                          'count']}\n",
    "                                       ).reset_index()\n",
    "f2.columns = ['ent', 'sale_last6m', 'num_trans_last6m']\n",
    "f2['avg_ticketsize_last6m'] = f2['sale_last6m']/f2['num_trans_last6m']\n",
    "\n",
    "f3 = df_trans.loc[df_trans['trans_origin_type']=='offline',:].groupby('ent').agg({'total_amount': 'sum'}\n",
    "                                                                                 ).reset_index()\n",
    "f3.columns = ['ent', 'offline_sale']\n",
    "\n",
    "f4 = df_trans_last3m.loc[df_trans_last3m['trans_origin_type']=='offline',:].groupby('ent').agg({'total_amount': 'sum'}\n",
    "                                                                                              ).reset_index()\n",
    "f4.columns = ['ent', 'offline_sale_last3m']\n",
    "\n",
    "f5 = df_trans_last6m.loc[df_trans_last6m['trans_origin_type']=='offline',:].groupby('ent').agg({'total_amount': 'sum'}\n",
    "                                                                               ).reset_index()\n",
    "f5.columns = ['ent', 'offline_sale_last6m']\n",
    "\n",
    "f6 = df_trans.loc[df_trans['trans_origin_type']=='online',:].groupby('ent').agg({'total_amount': 'sum'}\n",
    "                                                                               ).reset_index()\n",
    "f6.columns = ['ent', 'online_sale']\n",
    "\n",
    "f7 = df_trans_last3m.loc[df_trans_last3m['trans_origin_type']=='online',:].groupby('ent').agg({'total_amount': 'sum'}\n",
    "                                                                                             ).reset_index()\n",
    "f7.columns = ['ent', 'online_sale_last3m']\n",
    "\n",
    "f8 = df_trans_last6m.loc[df_trans_last6m['trans_origin_type']=='online',:].groupby('ent').agg({'total_amount': 'sum'}\n",
    "                                                                                             ).reset_index()\n",
    "f8.columns = ['ent', 'online_sale_last6m']\n",
    "\n",
    "f9 = df_member.groupby('sponsor').agg({'ent':'nunique'}).reset_index()\n",
    "f9.columns = ['ent', 'num_downline']\n",
    "\n",
    "f10 = df_member.loc[df_member['join_ym'] > df_member['join_ym'].max()-pd.DateOffset(months=3), :].groupby('sponsor').agg({'ent':'nunique'}).reset_index()\n",
    "f10.columns = ['ent', 'num_downline_last3m']\n",
    "\n",
    "f11 = df_member.loc[df_member['join_ym'] > df_member['join_ym'].max()-pd.DateOffset(months=6), :].groupby('sponsor').agg({'ent':'nunique'}).reset_index()\n",
    "f11.columns = ['ent', 'num_downline_last6m']\n",
    "\n",
    "unique_prod = df_trans_cleaned['product'].nunique()\n",
    "\n",
    "f12 = df_trans_cleaned.groupby('ent').agg({'product': 'nunique'}).reset_index()\n",
    "f12.columns = ['ent', '%pd_variety']\n",
    "f12['%pd_variety'] = f12['%pd_variety']/unique_prod\n",
    "\n",
    "f13 = df_trans_cleaned_last3m.groupby('ent').agg({'product': 'nunique'}).reset_index()\n",
    "f13.columns = ['ent', '%pd_variety_last3m']\n",
    "f13['%pd_variety_last3m'] = f13['%pd_variety_last3m']/unique_prod\n",
    "\n",
    "f14 = df_trans_cleaned_last6m.groupby('ent').agg({'product': 'nunique'}).reset_index()\n",
    "f14.columns = ['ent', '%pd_variety_last6m']\n",
    "f14['%pd_variety_last6m'] = f14['%pd_variety_last6m']/unique_prod"
   ]
  },
  {
   "cell_type": "code",
   "execution_count": 34,
   "metadata": {},
   "outputs": [
    {
     "data": {
      "text/html": [
       "<div>\n",
       "<style scoped>\n",
       "    .dataframe tbody tr th:only-of-type {\n",
       "        vertical-align: middle;\n",
       "    }\n",
       "\n",
       "    .dataframe tbody tr th {\n",
       "        vertical-align: top;\n",
       "    }\n",
       "\n",
       "    .dataframe thead th {\n",
       "        text-align: right;\n",
       "    }\n",
       "</style>\n",
       "<table border=\"1\" class=\"dataframe\">\n",
       "  <thead>\n",
       "    <tr style=\"text-align: right;\">\n",
       "      <th></th>\n",
       "      <th>ent</th>\n",
       "      <th>mem_duration</th>\n",
       "      <th>sale</th>\n",
       "      <th>num_trans</th>\n",
       "      <th>avg_ticketsize</th>\n",
       "      <th>sale_last3m</th>\n",
       "      <th>num_trans_last3m</th>\n",
       "      <th>avg_ticketsize_last3m</th>\n",
       "      <th>sale_last6m</th>\n",
       "      <th>num_trans_last6m</th>\n",
       "      <th>...</th>\n",
       "      <th>offline_sale_last6m</th>\n",
       "      <th>online_sale</th>\n",
       "      <th>online_sale_last3m</th>\n",
       "      <th>online_sale_last6m</th>\n",
       "      <th>num_downline</th>\n",
       "      <th>num_downline_last3m</th>\n",
       "      <th>num_downline_last6m</th>\n",
       "      <th>%pd_variety</th>\n",
       "      <th>%pd_variety_last3m</th>\n",
       "      <th>%pd_variety_last6m</th>\n",
       "    </tr>\n",
       "  </thead>\n",
       "  <tbody>\n",
       "    <tr>\n",
       "      <th>796543</th>\n",
       "      <td>TZZZEZCP</td>\n",
       "      <td>NaN</td>\n",
       "      <td>1962000.0</td>\n",
       "      <td>7.0</td>\n",
       "      <td>280285.714286</td>\n",
       "      <td>NaN</td>\n",
       "      <td>NaN</td>\n",
       "      <td>NaN</td>\n",
       "      <td>NaN</td>\n",
       "      <td>NaN</td>\n",
       "      <td>...</td>\n",
       "      <td>NaN</td>\n",
       "      <td>NaN</td>\n",
       "      <td>NaN</td>\n",
       "      <td>NaN</td>\n",
       "      <td>NaN</td>\n",
       "      <td>NaN</td>\n",
       "      <td>NaN</td>\n",
       "      <td>0.014235</td>\n",
       "      <td>NaN</td>\n",
       "      <td>NaN</td>\n",
       "    </tr>\n",
       "    <tr>\n",
       "      <th>796544</th>\n",
       "      <td>TZZZJZ4Y</td>\n",
       "      <td>NaN</td>\n",
       "      <td>1283000.0</td>\n",
       "      <td>2.0</td>\n",
       "      <td>641500.000000</td>\n",
       "      <td>NaN</td>\n",
       "      <td>NaN</td>\n",
       "      <td>NaN</td>\n",
       "      <td>NaN</td>\n",
       "      <td>NaN</td>\n",
       "      <td>...</td>\n",
       "      <td>NaN</td>\n",
       "      <td>NaN</td>\n",
       "      <td>NaN</td>\n",
       "      <td>NaN</td>\n",
       "      <td>NaN</td>\n",
       "      <td>NaN</td>\n",
       "      <td>NaN</td>\n",
       "      <td>0.005338</td>\n",
       "      <td>NaN</td>\n",
       "      <td>NaN</td>\n",
       "    </tr>\n",
       "    <tr>\n",
       "      <th>796545</th>\n",
       "      <td>TZZZW417</td>\n",
       "      <td>NaN</td>\n",
       "      <td>50000.0</td>\n",
       "      <td>1.0</td>\n",
       "      <td>50000.000000</td>\n",
       "      <td>NaN</td>\n",
       "      <td>NaN</td>\n",
       "      <td>NaN</td>\n",
       "      <td>NaN</td>\n",
       "      <td>NaN</td>\n",
       "      <td>...</td>\n",
       "      <td>NaN</td>\n",
       "      <td>NaN</td>\n",
       "      <td>NaN</td>\n",
       "      <td>NaN</td>\n",
       "      <td>NaN</td>\n",
       "      <td>NaN</td>\n",
       "      <td>NaN</td>\n",
       "      <td>0.001779</td>\n",
       "      <td>NaN</td>\n",
       "      <td>NaN</td>\n",
       "    </tr>\n",
       "  </tbody>\n",
       "</table>\n",
       "<p>3 rows × 23 columns</p>\n",
       "</div>"
      ],
      "text/plain": [
       "             ent  mem_duration       sale  num_trans  avg_ticketsize  \\\n",
       "796543  TZZZEZCP           NaN  1962000.0        7.0   280285.714286   \n",
       "796544  TZZZJZ4Y           NaN  1283000.0        2.0   641500.000000   \n",
       "796545  TZZZW417           NaN    50000.0        1.0    50000.000000   \n",
       "\n",
       "        sale_last3m  num_trans_last3m  avg_ticketsize_last3m  sale_last6m  \\\n",
       "796543          NaN               NaN                    NaN          NaN   \n",
       "796544          NaN               NaN                    NaN          NaN   \n",
       "796545          NaN               NaN                    NaN          NaN   \n",
       "\n",
       "        num_trans_last6m  ...  offline_sale_last6m  online_sale  \\\n",
       "796543               NaN  ...                  NaN          NaN   \n",
       "796544               NaN  ...                  NaN          NaN   \n",
       "796545               NaN  ...                  NaN          NaN   \n",
       "\n",
       "        online_sale_last3m  online_sale_last6m  num_downline  \\\n",
       "796543                 NaN                 NaN           NaN   \n",
       "796544                 NaN                 NaN           NaN   \n",
       "796545                 NaN                 NaN           NaN   \n",
       "\n",
       "        num_downline_last3m  num_downline_last6m  %pd_variety  \\\n",
       "796543                  NaN                  NaN     0.014235   \n",
       "796544                  NaN                  NaN     0.005338   \n",
       "796545                  NaN                  NaN     0.001779   \n",
       "\n",
       "        %pd_variety_last3m  %pd_variety_last6m  \n",
       "796543                 NaN                 NaN  \n",
       "796544                 NaN                 NaN  \n",
       "796545                 NaN                 NaN  \n",
       "\n",
       "[3 rows x 23 columns]"
      ]
     },
     "execution_count": 34,
     "metadata": {},
     "output_type": "execute_result"
    }
   ],
   "source": [
    "feature = [f0, f1, f2, f3, f4, f5, f6, f7, f8, f9, f10, f11, f12, f13, f14]\n",
    "for i in feature:\n",
    "    df_clus = df_clus.merge(i, on='ent', how='outer')\n",
    "\n",
    "df_clus.tail(3)"
   ]
  },
  {
   "cell_type": "code",
   "execution_count": 48,
   "metadata": {},
   "outputs": [
    {
     "data": {
      "text/plain": [
       "trans_origin_type\n",
       "offline    489871000\n",
       "online     894258400\n",
       "Name: paid_amount, dtype: int64"
      ]
     },
     "execution_count": 48,
     "metadata": {},
     "output_type": "execute_result"
    }
   ],
   "source": [
    "df_trans[df_trans['ent'].isin(df_clus[df_clus['mem_duration'].isnull()]['ent'])].groupby('trans_origin_type')['paid_amount'].agg('sum')"
   ]
  },
  {
   "cell_type": "code",
   "execution_count": 50,
   "metadata": {},
   "outputs": [
    {
     "data": {
      "text/plain": [
       "trans_origin_type\n",
       "offline    2.192170e+11\n",
       "online     1.982881e+11\n",
       "Name: total_amount, dtype: float64"
      ]
     },
     "execution_count": 50,
     "metadata": {},
     "output_type": "execute_result"
    }
   ],
   "source": [
    "df_trans[df_trans['ent'].isin(df_clus[df_clus['mem_duration'].isnull()]['ent'])].groupby('trans_origin_type')['total_amount'].agg('sum')"
   ]
  },
  {
   "cell_type": "code",
   "execution_count": 51,
   "metadata": {},
   "outputs": [
    {
     "data": {
      "text/plain": [
       "trans_origin_type\n",
       "offline    1.503402e+09\n",
       "online     2.742058e+09\n",
       "Name: discount, dtype: float64"
      ]
     },
     "execution_count": 51,
     "metadata": {},
     "output_type": "execute_result"
    }
   ],
   "source": [
    "df_trans[df_trans['ent'].isin(df_clus[df_clus['mem_duration'].isnull()]['ent'])].groupby('trans_origin_type')['discount'].agg('sum')"
   ]
  },
  {
   "cell_type": "code",
   "execution_count": 33,
   "metadata": {},
   "outputs": [],
   "source": [
    "df_clus = df_clus.dropna(subset='mem_duration')\n",
    "df_clus = df_clus.fillna(0)"
   ]
  },
  {
   "cell_type": "code",
   "execution_count": 34,
   "metadata": {},
   "outputs": [],
   "source": [
    "# # Iterate over each column in the DataFrame\n",
    "# for column in df_clus.columns:\n",
    "#     # Create a histogram plot for the column\n",
    "#     plt.hist(df_clus[column])\n",
    "    \n",
    "#     # Set plot title and labels\n",
    "#     plt.title(f'Histogram of {column}')\n",
    "#     plt.xlabel('Value')\n",
    "#     plt.ylabel('Frequency')\n",
    "    \n",
    "#     # Display the plot\n",
    "#     plt.show()"
   ]
  },
  {
   "cell_type": "markdown",
   "metadata": {},
   "source": [
    "## Clustering"
   ]
  },
  {
   "cell_type": "code",
   "execution_count": 35,
   "metadata": {},
   "outputs": [],
   "source": [
    "# # remove outliner\n",
    "# def remove_outliner(df, column_name):\n",
    "#     q_low = df[column_name].quantile(0.0003) # mean-3sd\n",
    "#     q_hi  = df[column_name].quantile(0.9997) # mean+3sd\n",
    "#     df_filtered = df[(df[column_name] <= q_hi) & (df[column_name] >= q_low)]\n",
    "#     return df_filtered\n",
    "\n",
    "# for c in df_clus.columns[1:]:\n",
    "#     df_clus =  remove_outliner(df_clus, c)"
   ]
  },
  {
   "cell_type": "code",
   "execution_count": 36,
   "metadata": {},
   "outputs": [
    {
     "name": "stdout",
     "output_type": "stream",
     "text": [
      "<class 'pandas.core.frame.DataFrame'>\n",
      "Int64Index: 590565 entries, 0 to 590564\n",
      "Data columns (total 23 columns):\n",
      " #   Column                 Non-Null Count   Dtype  \n",
      "---  ------                 --------------   -----  \n",
      " 0   ent                    590565 non-null  object \n",
      " 1   mem_duration           590565 non-null  float64\n",
      " 2   sale                   590565 non-null  float64\n",
      " 3   num_trans              590565 non-null  float64\n",
      " 4   avg_ticketsize         590565 non-null  float64\n",
      " 5   sale_last3m            590565 non-null  float64\n",
      " 6   num_trans_last3m       590565 non-null  float64\n",
      " 7   avg_ticketsize_last3m  590565 non-null  float64\n",
      " 8   sale_last6m            590565 non-null  float64\n",
      " 9   num_trans_last6m       590565 non-null  float64\n",
      " 10  avg_ticketsize_last6m  590565 non-null  float64\n",
      " 11  offline_sale           590565 non-null  float64\n",
      " 12  offline_sale_last3m    590565 non-null  float64\n",
      " 13  offline_sale_last6m    590565 non-null  float64\n",
      " 14  online_sale            590565 non-null  float64\n",
      " 15  online_sale_last3m     590565 non-null  float64\n",
      " 16  online_sale_last6m     590565 non-null  float64\n",
      " 17  num_downline           590565 non-null  float64\n",
      " 18  num_downline_last3m    590565 non-null  float64\n",
      " 19  num_downline_last6m    590565 non-null  float64\n",
      " 20  %pd_variety            590565 non-null  float64\n",
      " 21  %pd_variety_last3m     590565 non-null  float64\n",
      " 22  %pd_variety_last6m     590565 non-null  float64\n",
      "dtypes: float64(22), object(1)\n",
      "memory usage: 108.1+ MB\n"
     ]
    }
   ],
   "source": [
    "df_clus.info()"
   ]
  },
  {
   "cell_type": "code",
   "execution_count": 37,
   "metadata": {},
   "outputs": [],
   "source": [
    "X = df_clus.drop('ent', axis=1)\n",
    "\n",
    "scaler = MinMaxScaler()\n",
    "X = scaler.fit_transform(X)"
   ]
  },
  {
   "cell_type": "code",
   "execution_count": 38,
   "metadata": {},
   "outputs": [],
   "source": [
    "# kmeans = KMeans(n_clusters=2)\n",
    "# labels = kmeans.fit_predict(X)\n",
    "\n",
    "# # Calculate silhouette score\n",
    "# silhouette_avg = silhouette_score(X, labels)\n",
    "# print(\"The average silhouette score is:\", silhouette_avg)"
   ]
  },
  {
   "cell_type": "code",
   "execution_count": 39,
   "metadata": {},
   "outputs": [],
   "source": [
    "# # Perform K-means clustering for different values of k\n",
    "# k_values = range(1, 10)\n",
    "# inertia_values = []\n",
    "\n",
    "# for k in k_values:\n",
    "#     kmeans = KMeans(n_clusters=k)\n",
    "#     kmeans.fit(X)\n",
    "#     inertia_values.append(kmeans.inertia_)\n",
    "\n",
    "# # Plot the inertia values against the number of clusters\n",
    "# plt.plot(k_values, inertia_values, 'bx-')\n",
    "# plt.xlabel('Number of Clusters (k)')\n",
    "# plt.ylabel('Inertia')\n",
    "# plt.title('The Elbow Method')\n",
    "# plt.show()"
   ]
  },
  {
   "cell_type": "markdown",
   "metadata": {},
   "source": [
    "### K-mean"
   ]
  },
  {
   "cell_type": "code",
   "execution_count": 40,
   "metadata": {},
   "outputs": [],
   "source": [
    "kmeans = KMeans(n_clusters=5, random_state=42)\n",
    "kmeans.fit(X)\n",
    "\n",
    "# Get cluster labels and cluster centers\n",
    "labels_kmean = kmeans.labels_\n",
    "centers_kmean = kmeans.cluster_centers_\n",
    "\n",
    "# # Add cluster labels to the DataFrame\n",
    "# df_clus['Cluster'] = labels\n",
    "# df_clus.head(3)"
   ]
  },
  {
   "cell_type": "code",
   "execution_count": 41,
   "metadata": {},
   "outputs": [],
   "source": [
    "# # Create a Random Forest classifier\n",
    "# clf = RandomForestClassifier()\n",
    "\n",
    "# # Train the classifier on your data\n",
    "# clf.fit(X, labels)\n",
    "\n",
    "# # Get the feature importance scores\n",
    "# importance_scores = clf.feature_importances_\n",
    "\n",
    "# # Sort the features based on importance in descending order\n",
    "# sorted_indices = np.argsort(importance_scores)[::-1]\n",
    "\n",
    "# # Print the feature rankings\n",
    "# for i, idx in enumerate(sorted_indices):\n",
    "#     print(f\"Rank {i+1}: Feature {df_clus.columns[idx+1]}, Importance score: {importance_scores[idx]}\")"
   ]
  },
  {
   "cell_type": "code",
   "execution_count": 42,
   "metadata": {},
   "outputs": [
    {
     "data": {
      "image/png": "[encoded data removed]",
      "text/plain": [
       "<Figure size 640x480 with 1 Axes>"
      ]
     },
     "metadata": {},
     "output_type": "display_data"
    }
   ],
   "source": [
    "# Perform PCA\n",
    "pca = PCA(n_components=2)\n",
    "X_pca = pca.fit_transform(X)\n",
    "\n",
    "sns.scatterplot(x=X_pca[:, 0], y=X_pca[:, 1], hue=labels_kmean, palette='Set1')\n",
    "\n",
    "plt.xlabel('PC1')\n",
    "plt.ylabel('PC2')\n",
    "plt.title('Customer Segmentation K-mean')\n",
    "plt.legend(title='Labels')\n",
    "\n",
    "plt.show()"
   ]
  },
  {
   "cell_type": "code",
   "execution_count": 43,
   "metadata": {},
   "outputs": [],
   "source": [
    "# df_clus['Cluster'].value_counts()"
   ]
  },
  {
   "cell_type": "markdown",
   "metadata": {},
   "source": [
    "### K-median"
   ]
  },
  {
   "cell_type": "code",
   "execution_count": 44,
   "metadata": {},
   "outputs": [],
   "source": [
    "from sklearn.metrics import pairwise_distances\n",
    "\n",
    "def k_median_clustering(X, k, max_iters=500):\n",
    "    # Initialize the centroids randomly\n",
    "    centroids = X[np.random.choice(range(len(X)), k, replace=False)]\n",
    "\n",
    "    for _ in range(max_iters):\n",
    "        # Compute the distances between each point and each centroid\n",
    "        distances = pairwise_distances(X, centroids, metric='manhattan')\n",
    "\n",
    "        # Assign each point to the nearest centroid\n",
    "        labels = np.argmin(distances, axis=1)\n",
    "\n",
    "        # Update the centroids by computing the median of each cluster\n",
    "        new_centroids = np.array([np.median(X[labels == i], axis=0) for i in range(k)])\n",
    "\n",
    "        # Check if the centroids have converged\n",
    "        if np.all(centroids == new_centroids):\n",
    "            break\n",
    "\n",
    "        centroids = new_centroids\n",
    "\n",
    "    return labels, centroids\n",
    "\n",
    "\n",
    "# Run k-median clustering\n",
    "k = 5\n",
    "labels_kmedian, centroids_kmedian = k_median_clustering(X, k)\n",
    "\n",
    "# df_clus['Cluster'] = labels\n",
    "# df_clus.head(3)"
   ]
  },
  {
   "cell_type": "code",
   "execution_count": 45,
   "metadata": {},
   "outputs": [
    {
     "data": {
      "image/png": "[encoded data removed]",
      "text/plain": [
       "<Figure size 640x480 with 1 Axes>"
      ]
     },
     "metadata": {},
     "output_type": "display_data"
    }
   ],
   "source": [
    "# Perform PCA\n",
    "pca = PCA(n_components=2)\n",
    "X_pca = pca.fit_transform(X)\n",
    "\n",
    "sns.scatterplot(x=X_pca[:, 0], y=X_pca[:, 1], hue=labels_kmedian, palette='Set1')\n",
    "\n",
    "plt.xlabel('PC1')\n",
    "plt.ylabel('PC2')\n",
    "plt.title('Customer Segmentation')\n",
    "plt.legend(title='Labels')\n",
    "\n",
    "plt.show()"
   ]
  },
  {
   "cell_type": "markdown",
   "metadata": {},
   "source": [
    "### SHAP"
   ]
  },
  {
   "cell_type": "code",
   "execution_count": 52,
   "metadata": {},
   "outputs": [],
   "source": [
    "# import shap\n",
    "# from sklearn.ensemble import RandomForestClassifier\n",
    "\n",
    "# model = RandomForestClassifier()\n",
    "# model.fit(X, labels_kmedian)\n",
    "\n",
    "# # Create an explainer object\n",
    "# explainer = shap.Explainer(model, X)\n",
    "\n",
    "# # Calculate SHAP values\n",
    "# shap_values = explainer(X)\n",
    "\n",
    "# # Plot the SHAP summary plot\n",
    "# shap.summary_plot(shap_values, X)"
   ]
  }
 ],
 "metadata": {
  "kernelspec": {
   "display_name": "Python 3",
   "language": "python",
   "name": "python3"
  },
  "language_info": {
   "codemirror_mode": {
    "name": "ipython",
    "version": 3
   },
   "file_extension": ".py",
   "mimetype": "text/x-python",
   "name": "python",
   "nbconvert_exporter": "python",
   "pygments_lexer": "ipython3",
   "version": "3.9.13"
  },
  "orig_nbformat": 4
 },
 "nbformat": 4,
 "nbformat_minor": 2
}
