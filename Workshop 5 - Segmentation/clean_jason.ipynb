{
 "cells": [
  {
   "cell_type": "code",
   "execution_count": 18,
   "metadata": {},
   "outputs": [],
   "source": [
    "import pandas as pd\n",
    "from ast import literal_eval"
   ]
  },
  {
   "cell_type": "code",
   "execution_count": 19,
   "metadata": {},
   "outputs": [],
   "source": [
    "trans_2021 = pd.read_csv('transaction 2021.csv')\n",
    "trans_2022 = pd.read_csv('transaction 2022.csv')\n",
    "trans_2023 = pd.read_csv('transaction 2023.csv')\n",
    "\n",
    "df_trans = pd.concat([trans_2021, trans_2022, trans_2023])"
   ]
  },
  {
   "cell_type": "code",
   "execution_count": 20,
   "metadata": {},
   "outputs": [
    {
     "data": {
      "text/html": [
       "<div>\n",
       "<style scoped>\n",
       "    .dataframe tbody tr th:only-of-type {\n",
       "        vertical-align: middle;\n",
       "    }\n",
       "\n",
       "    .dataframe tbody tr th {\n",
       "        vertical-align: top;\n",
       "    }\n",
       "\n",
       "    .dataframe thead th {\n",
       "        text-align: right;\n",
       "    }\n",
       "</style>\n",
       "<table border=\"1\" class=\"dataframe\">\n",
       "  <thead>\n",
       "    <tr style=\"text-align: right;\">\n",
       "      <th></th>\n",
       "      <th>payment_date</th>\n",
       "      <th>ent</th>\n",
       "      <th>center</th>\n",
       "      <th>product_json</th>\n",
       "      <th>total_amount</th>\n",
       "      <th>discount</th>\n",
       "      <th>paid_amount</th>\n",
       "      <th>trans_origin_type</th>\n",
       "    </tr>\n",
       "  </thead>\n",
       "  <tbody>\n",
       "    <tr>\n",
       "      <th>362106</th>\n",
       "      <td>2023-07-06 00:00:00.000</td>\n",
       "      <td>TCCEQ4Z4R4Y</td>\n",
       "      <td>TKC1Z4</td>\n",
       "      <td>[{\"product\":\"KCQCEJ\",\"qty\":1}]</td>\n",
       "      <td>2500.0</td>\n",
       "      <td>NaN</td>\n",
       "      <td>2500</td>\n",
       "      <td>offline</td>\n",
       "    </tr>\n",
       "    <tr>\n",
       "      <th>362107</th>\n",
       "      <td>2023-07-06 00:00:00.000</td>\n",
       "      <td>TCCEQEZJQ4F</td>\n",
       "      <td>TKC1Z4</td>\n",
       "      <td>[{\"product\":\"KCQCER\",\"qty\":1}]</td>\n",
       "      <td>2500.0</td>\n",
       "      <td>NaN</td>\n",
       "      <td>2500</td>\n",
       "      <td>offline</td>\n",
       "    </tr>\n",
       "    <tr>\n",
       "      <th>362108</th>\n",
       "      <td>2023-07-06 00:00:00.000</td>\n",
       "      <td>TCCEQ434R1F</td>\n",
       "      <td>TKC1Z4</td>\n",
       "      <td>[{\"product\":\"KCQCER\",\"qty\":1}]</td>\n",
       "      <td>2500.0</td>\n",
       "      <td>NaN</td>\n",
       "      <td>2500</td>\n",
       "      <td>offline</td>\n",
       "    </tr>\n",
       "  </tbody>\n",
       "</table>\n",
       "</div>"
      ],
      "text/plain": [
       "                   payment_date          ent  center  \\\n",
       "362106  2023-07-06 00:00:00.000  TCCEQ4Z4R4Y  TKC1Z4   \n",
       "362107  2023-07-06 00:00:00.000  TCCEQEZJQ4F  TKC1Z4   \n",
       "362108  2023-07-06 00:00:00.000  TCCEQ434R1F  TKC1Z4   \n",
       "\n",
       "                          product_json  total_amount  discount  paid_amount  \\\n",
       "362106  [{\"product\":\"KCQCEJ\",\"qty\":1}]        2500.0       NaN         2500   \n",
       "362107  [{\"product\":\"KCQCER\",\"qty\":1}]        2500.0       NaN         2500   \n",
       "362108  [{\"product\":\"KCQCER\",\"qty\":1}]        2500.0       NaN         2500   \n",
       "\n",
       "       trans_origin_type  \n",
       "362106           offline  \n",
       "362107           offline  \n",
       "362108           offline  "
      ]
     },
     "execution_count": 20,
     "metadata": {},
     "output_type": "execute_result"
    }
   ],
   "source": [
    "df_trans.tail(3)"
   ]
  },
  {
   "cell_type": "code",
   "execution_count": 21,
   "metadata": {},
   "outputs": [
    {
     "name": "stdout",
     "output_type": "stream",
     "text": [
      "<class 'pandas.core.frame.DataFrame'>\n",
      "Int64Index: 2406316 entries, 0 to 362108\n",
      "Data columns (total 8 columns):\n",
      " #   Column             Dtype  \n",
      "---  ------             -----  \n",
      " 0   payment_date       object \n",
      " 1   ent                object \n",
      " 2   center             object \n",
      " 3   product_json       object \n",
      " 4   total_amount       float64\n",
      " 5   discount           float64\n",
      " 6   paid_amount        int64  \n",
      " 7   trans_origin_type  object \n",
      "dtypes: float64(2), int64(1), object(5)\n",
      "memory usage: 165.2+ MB\n"
     ]
    }
   ],
   "source": [
    "df_trans.info()"
   ]
  },
  {
   "cell_type": "code",
   "execution_count": 22,
   "metadata": {},
   "outputs": [
    {
     "data": {
      "text/plain": [
       "payment_date           0\n",
       "ent                    0\n",
       "center                 0\n",
       "product_json           9\n",
       "total_amount           0\n",
       "discount             140\n",
       "paid_amount            0\n",
       "trans_origin_type      0\n",
       "dtype: int64"
      ]
     },
     "execution_count": 22,
     "metadata": {},
     "output_type": "execute_result"
    }
   ],
   "source": [
    "df_trans.isnull().sum()"
   ]
  },
  {
   "cell_type": "code",
   "execution_count": 23,
   "metadata": {},
   "outputs": [
    {
     "data": {
      "text/html": [
       "<div>\n",
       "<style scoped>\n",
       "    .dataframe tbody tr th:only-of-type {\n",
       "        vertical-align: middle;\n",
       "    }\n",
       "\n",
       "    .dataframe tbody tr th {\n",
       "        vertical-align: top;\n",
       "    }\n",
       "\n",
       "    .dataframe thead th {\n",
       "        text-align: right;\n",
       "    }\n",
       "</style>\n",
       "<table border=\"1\" class=\"dataframe\">\n",
       "  <thead>\n",
       "    <tr style=\"text-align: right;\">\n",
       "      <th></th>\n",
       "      <th>payment_date</th>\n",
       "      <th>ent</th>\n",
       "      <th>center</th>\n",
       "      <th>total_amount</th>\n",
       "      <th>discount</th>\n",
       "      <th>paid_amount</th>\n",
       "      <th>trans_origin_type</th>\n",
       "      <th>trans_id</th>\n",
       "      <th>product</th>\n",
       "      <th>qty</th>\n",
       "    </tr>\n",
       "  </thead>\n",
       "  <tbody>\n",
       "    <tr>\n",
       "      <th>4129111</th>\n",
       "      <td>2023-07-06 00:00:00.000</td>\n",
       "      <td>TCCEQ4Z4R4Y</td>\n",
       "      <td>TKC1Z4</td>\n",
       "      <td>2500.0</td>\n",
       "      <td>NaN</td>\n",
       "      <td>2500</td>\n",
       "      <td>offline</td>\n",
       "      <td>2406314</td>\n",
       "      <td>KCQCEJ</td>\n",
       "      <td>1</td>\n",
       "    </tr>\n",
       "    <tr>\n",
       "      <th>4129112</th>\n",
       "      <td>2023-07-06 00:00:00.000</td>\n",
       "      <td>TCCEQEZJQ4F</td>\n",
       "      <td>TKC1Z4</td>\n",
       "      <td>2500.0</td>\n",
       "      <td>NaN</td>\n",
       "      <td>2500</td>\n",
       "      <td>offline</td>\n",
       "      <td>2406315</td>\n",
       "      <td>KCQCER</td>\n",
       "      <td>1</td>\n",
       "    </tr>\n",
       "    <tr>\n",
       "      <th>4129113</th>\n",
       "      <td>2023-07-06 00:00:00.000</td>\n",
       "      <td>TCCEQ434R1F</td>\n",
       "      <td>TKC1Z4</td>\n",
       "      <td>2500.0</td>\n",
       "      <td>NaN</td>\n",
       "      <td>2500</td>\n",
       "      <td>offline</td>\n",
       "      <td>2406316</td>\n",
       "      <td>KCQCER</td>\n",
       "      <td>1</td>\n",
       "    </tr>\n",
       "  </tbody>\n",
       "</table>\n",
       "</div>"
      ],
      "text/plain": [
       "                    payment_date          ent  center  total_amount  discount  \\\n",
       "4129111  2023-07-06 00:00:00.000  TCCEQ4Z4R4Y  TKC1Z4        2500.0       NaN   \n",
       "4129112  2023-07-06 00:00:00.000  TCCEQEZJQ4F  TKC1Z4        2500.0       NaN   \n",
       "4129113  2023-07-06 00:00:00.000  TCCEQ434R1F  TKC1Z4        2500.0       NaN   \n",
       "\n",
       "         paid_amount trans_origin_type  trans_id product  qty  \n",
       "4129111         2500           offline   2406314  KCQCEJ    1  \n",
       "4129112         2500           offline   2406315  KCQCER    1  \n",
       "4129113         2500           offline   2406316  KCQCER    1  "
      ]
     },
     "execution_count": 23,
     "metadata": {},
     "output_type": "execute_result"
    }
   ],
   "source": [
    "df_trans['trans_id'] = df_trans.reset_index().index + 1\n",
    "\n",
    "df_trans['product_json'] = df_trans['product_json'].fillna('[{\\'product\\':\\'NA\\',\\'qty\\':0}]')\n",
    "\n",
    "df_trans['product_json'] = df_trans['product_json'].apply(literal_eval) \n",
    "df_trans = df_trans.explode('product_json')\n",
    "\n",
    "df_trans['product'] = df_trans['product_json'].apply(lambda x : x['product'])\n",
    "df_trans['qty'] = df_trans['product_json'].apply(lambda x : x['qty'])\n",
    "\n",
    "df_trans = df_trans.drop(columns='product_json').reset_index(drop=True)\n",
    "\n",
    "df_trans.tail(3)"
   ]
  },
  {
   "cell_type": "code",
   "execution_count": 24,
   "metadata": {},
   "outputs": [],
   "source": [
    "df_trans.to_csv('transaction_cleaned.csv', index=False)"
   ]
  }
 ],
 "metadata": {
  "kernelspec": {
   "display_name": "Python 3",
   "language": "python",
   "name": "python3"
  },
  "language_info": {
   "codemirror_mode": {
    "name": "ipython",
    "version": 3
   },
   "file_extension": ".py",
   "mimetype": "text/x-python",
   "name": "python",
   "nbconvert_exporter": "python",
   "pygments_lexer": "ipython3",
   "version": "3.9.13"
  },
  "orig_nbformat": 4
 },
 "nbformat": 4,
 "nbformat_minor": 2
}
